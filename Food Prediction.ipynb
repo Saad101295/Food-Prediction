{
 "cells": [
  {
   "cell_type": "raw",
   "metadata": {},
   "source": [
    "**The entire world is transforming digitally and our relationship with technology has grown exponentially over the last few years. We have grown closer to technology, and it has made our life a lot easier by saving time and effort. Today everything is accessible with smartphones — from groceries to cooked food and from medicines to doctors. In this hackathon, we provide you with data that is a by-product as well as a thriving proof of this growing relationship.** \n",
    "\n",
    "When was the last time you ordered food online? And how long did it take to reach you?\n",
    "\n",
    "In this hackathon, we are providing you with data from thousands of restaurants in India regarding the time they take to deliver food for online order. As data scientists, your goal is to predict the online order delivery time based on the given factors.\n",
    "\n",
    "Analytics India Magazine and IMS Proschool bring to you ‘Predicting Predicting Food Delivery Time Hackathon’.\n",
    "\n",
    "Size of training set: 11,094 records\n",
    "\n",
    "Size of test set: 2,774 records\n",
    "\n",
    "FEATURES:\n",
    "\n",
    "1.   Restaurant: A unique ID that represents a restaurant.\n",
    "2)   Location: The location of the restaurant.\n",
    "3)   Cuisines: The cuisines offered by the restaurant.\n",
    "4)   Average_Cost: The average cost for one person/order.\n",
    "5)   Minimum_Order: The minimum order amount.\n",
    "6)   Rating: Customer rating for the restaurant.\n",
    "7)  Votes: The total number of customer votes for the restaurant.\n",
    "8)   Reviews: The number of customer reviews for the restaurant.\n",
    "9)   Delivery_Time: The order delivery time of the restaurant. (Target Classes) "
   ]
  },
  {
   "cell_type": "code",
   "execution_count": 42,
   "metadata": {},
   "outputs": [],
   "source": [
    "from pyforest import * "
   ]
  },
  {
   "cell_type": "code",
   "execution_count": 156,
   "metadata": {},
   "outputs": [],
   "source": [
    "train = pd.read_excel(\"C:/Users/SAAD KHAN/Desktop/Data Science/Machine Learning/Supervised Learning-Classification/Food Delivery/Data_Train.xlsx\")\n",
    "test  =pd.read_excel(\"C:/Users/SAAD KHAN/Desktop/Data Science/Machine Learning/Supervised Learning-Classification/Food Delivery/Data_Test.xlsx\")"
   ]
  },
  {
   "cell_type": "code",
   "execution_count": 157,
   "metadata": {},
   "outputs": [
    {
     "data": {
      "text/html": [
       "<div>\n",
       "<style scoped>\n",
       "    .dataframe tbody tr th:only-of-type {\n",
       "        vertical-align: middle;\n",
       "    }\n",
       "\n",
       "    .dataframe tbody tr th {\n",
       "        vertical-align: top;\n",
       "    }\n",
       "\n",
       "    .dataframe thead th {\n",
       "        text-align: right;\n",
       "    }\n",
       "</style>\n",
       "<table border=\"1\" class=\"dataframe\">\n",
       "  <thead>\n",
       "    <tr style=\"text-align: right;\">\n",
       "      <th></th>\n",
       "      <th>Restaurant</th>\n",
       "      <th>Location</th>\n",
       "      <th>Cuisines</th>\n",
       "      <th>Average_Cost</th>\n",
       "      <th>Minimum_Order</th>\n",
       "      <th>Rating</th>\n",
       "      <th>Votes</th>\n",
       "      <th>Reviews</th>\n",
       "      <th>Delivery_Time</th>\n",
       "    </tr>\n",
       "  </thead>\n",
       "  <tbody>\n",
       "    <tr>\n",
       "      <th>0</th>\n",
       "      <td>ID_6321</td>\n",
       "      <td>FTI College, Law College Road, Pune</td>\n",
       "      <td>Fast Food, Rolls, Burger, Salad, Wraps</td>\n",
       "      <td>₹200</td>\n",
       "      <td>₹50</td>\n",
       "      <td>3.5</td>\n",
       "      <td>12</td>\n",
       "      <td>4</td>\n",
       "      <td>30 minutes</td>\n",
       "    </tr>\n",
       "    <tr>\n",
       "      <th>1</th>\n",
       "      <td>ID_2882</td>\n",
       "      <td>Sector 3, Marathalli</td>\n",
       "      <td>Ice Cream, Desserts</td>\n",
       "      <td>₹100</td>\n",
       "      <td>₹50</td>\n",
       "      <td>3.5</td>\n",
       "      <td>11</td>\n",
       "      <td>4</td>\n",
       "      <td>30 minutes</td>\n",
       "    </tr>\n",
       "    <tr>\n",
       "      <th>2</th>\n",
       "      <td>ID_1595</td>\n",
       "      <td>Mumbai Central</td>\n",
       "      <td>Italian, Street Food, Fast Food</td>\n",
       "      <td>₹150</td>\n",
       "      <td>₹50</td>\n",
       "      <td>3.6</td>\n",
       "      <td>99</td>\n",
       "      <td>30</td>\n",
       "      <td>65 minutes</td>\n",
       "    </tr>\n",
       "    <tr>\n",
       "      <th>3</th>\n",
       "      <td>ID_5929</td>\n",
       "      <td>Sector 1, Noida</td>\n",
       "      <td>Mughlai, North Indian, Chinese</td>\n",
       "      <td>₹250</td>\n",
       "      <td>₹99</td>\n",
       "      <td>3.7</td>\n",
       "      <td>176</td>\n",
       "      <td>95</td>\n",
       "      <td>30 minutes</td>\n",
       "    </tr>\n",
       "    <tr>\n",
       "      <th>4</th>\n",
       "      <td>ID_6123</td>\n",
       "      <td>Rmz Centennial, I Gate, Whitefield</td>\n",
       "      <td>Cafe, Beverages</td>\n",
       "      <td>₹200</td>\n",
       "      <td>₹99</td>\n",
       "      <td>3.2</td>\n",
       "      <td>521</td>\n",
       "      <td>235</td>\n",
       "      <td>65 minutes</td>\n",
       "    </tr>\n",
       "  </tbody>\n",
       "</table>\n",
       "</div>"
      ],
      "text/plain": [
       "  Restaurant                             Location  \\\n",
       "0    ID_6321  FTI College, Law College Road, Pune   \n",
       "1    ID_2882                 Sector 3, Marathalli   \n",
       "2    ID_1595                       Mumbai Central   \n",
       "3    ID_5929                      Sector 1, Noida   \n",
       "4    ID_6123   Rmz Centennial, I Gate, Whitefield   \n",
       "\n",
       "                                 Cuisines Average_Cost Minimum_Order Rating  \\\n",
       "0  Fast Food, Rolls, Burger, Salad, Wraps         ₹200           ₹50    3.5   \n",
       "1                     Ice Cream, Desserts         ₹100           ₹50    3.5   \n",
       "2         Italian, Street Food, Fast Food         ₹150           ₹50    3.6   \n",
       "3          Mughlai, North Indian, Chinese         ₹250           ₹99    3.7   \n",
       "4                         Cafe, Beverages         ₹200           ₹99    3.2   \n",
       "\n",
       "  Votes Reviews Delivery_Time  \n",
       "0    12       4    30 minutes  \n",
       "1    11       4    30 minutes  \n",
       "2    99      30    65 minutes  \n",
       "3   176      95    30 minutes  \n",
       "4   521     235    65 minutes  "
      ]
     },
     "execution_count": 157,
     "metadata": {},
     "output_type": "execute_result"
    }
   ],
   "source": [
    "train.head()"
   ]
  },
  {
   "cell_type": "code",
   "execution_count": 158,
   "metadata": {},
   "outputs": [
    {
     "data": {
      "text/html": [
       "<div>\n",
       "<style scoped>\n",
       "    .dataframe tbody tr th:only-of-type {\n",
       "        vertical-align: middle;\n",
       "    }\n",
       "\n",
       "    .dataframe tbody tr th {\n",
       "        vertical-align: top;\n",
       "    }\n",
       "\n",
       "    .dataframe thead th {\n",
       "        text-align: right;\n",
       "    }\n",
       "</style>\n",
       "<table border=\"1\" class=\"dataframe\">\n",
       "  <thead>\n",
       "    <tr style=\"text-align: right;\">\n",
       "      <th></th>\n",
       "      <th>Restaurant</th>\n",
       "      <th>Location</th>\n",
       "      <th>Cuisines</th>\n",
       "      <th>Average_Cost</th>\n",
       "      <th>Minimum_Order</th>\n",
       "      <th>Rating</th>\n",
       "      <th>Votes</th>\n",
       "      <th>Reviews</th>\n",
       "    </tr>\n",
       "  </thead>\n",
       "  <tbody>\n",
       "    <tr>\n",
       "      <th>0</th>\n",
       "      <td>ID_2842</td>\n",
       "      <td>Mico Layout, Stage 2, BTM Layout,Bangalore</td>\n",
       "      <td>North Indian, Chinese, Assamese</td>\n",
       "      <td>₹350</td>\n",
       "      <td>₹50</td>\n",
       "      <td>4.2</td>\n",
       "      <td>361</td>\n",
       "      <td>225</td>\n",
       "    </tr>\n",
       "    <tr>\n",
       "      <th>1</th>\n",
       "      <td>ID_730</td>\n",
       "      <td>Mico Layout, Stage 2, BTM Layout,Bangalore</td>\n",
       "      <td>Biryani, Kebab</td>\n",
       "      <td>₹100</td>\n",
       "      <td>₹50</td>\n",
       "      <td>NEW</td>\n",
       "      <td>-</td>\n",
       "      <td>-</td>\n",
       "    </tr>\n",
       "    <tr>\n",
       "      <th>2</th>\n",
       "      <td>ID_4620</td>\n",
       "      <td>Sector 1, Noida</td>\n",
       "      <td>Fast Food</td>\n",
       "      <td>₹100</td>\n",
       "      <td>₹50</td>\n",
       "      <td>3.6</td>\n",
       "      <td>36</td>\n",
       "      <td>16</td>\n",
       "    </tr>\n",
       "    <tr>\n",
       "      <th>3</th>\n",
       "      <td>ID_5470</td>\n",
       "      <td>Babarpur, New Delhi, Delhi</td>\n",
       "      <td>Mithai, North Indian, Chinese, Fast Food, Sout...</td>\n",
       "      <td>₹200</td>\n",
       "      <td>₹50</td>\n",
       "      <td>3.6</td>\n",
       "      <td>66</td>\n",
       "      <td>33</td>\n",
       "    </tr>\n",
       "    <tr>\n",
       "      <th>4</th>\n",
       "      <td>ID_3249</td>\n",
       "      <td>Sector 1, Noida</td>\n",
       "      <td>Chinese, Fast Food</td>\n",
       "      <td>₹150</td>\n",
       "      <td>₹50</td>\n",
       "      <td>2.9</td>\n",
       "      <td>38</td>\n",
       "      <td>14</td>\n",
       "    </tr>\n",
       "  </tbody>\n",
       "</table>\n",
       "</div>"
      ],
      "text/plain": [
       "  Restaurant                                    Location  \\\n",
       "0    ID_2842  Mico Layout, Stage 2, BTM Layout,Bangalore   \n",
       "1     ID_730  Mico Layout, Stage 2, BTM Layout,Bangalore   \n",
       "2    ID_4620                             Sector 1, Noida   \n",
       "3    ID_5470                  Babarpur, New Delhi, Delhi   \n",
       "4    ID_3249                             Sector 1, Noida   \n",
       "\n",
       "                                            Cuisines Average_Cost  \\\n",
       "0                    North Indian, Chinese, Assamese         ₹350   \n",
       "1                                     Biryani, Kebab         ₹100   \n",
       "2                                          Fast Food         ₹100   \n",
       "3  Mithai, North Indian, Chinese, Fast Food, Sout...         ₹200   \n",
       "4                                 Chinese, Fast Food         ₹150   \n",
       "\n",
       "  Minimum_Order Rating Votes Reviews  \n",
       "0           ₹50    4.2   361     225  \n",
       "1           ₹50    NEW     -       -  \n",
       "2           ₹50    3.6    36      16  \n",
       "3           ₹50    3.6    66      33  \n",
       "4           ₹50    2.9    38      14  "
      ]
     },
     "execution_count": 158,
     "metadata": {},
     "output_type": "execute_result"
    }
   ],
   "source": [
    "test.head()"
   ]
  },
  {
   "cell_type": "code",
   "execution_count": 159,
   "metadata": {},
   "outputs": [
    {
     "name": "stdout",
     "output_type": "stream",
     "text": [
      "Index(['Restaurant', 'Location', 'Cuisines', 'Average_Cost', 'Minimum_Order',\n",
      "       'Rating', 'Votes', 'Reviews', 'Delivery_Time'],\n",
      "      dtype='object')\n",
      "\n",
      "Index(['Restaurant', 'Location', 'Cuisines', 'Average_Cost', 'Minimum_Order',\n",
      "       'Rating', 'Votes', 'Reviews'],\n",
      "      dtype='object')\n"
     ]
    }
   ],
   "source": [
    "print(train.columns)\n",
    "print()\n",
    "print(test.columns)"
   ]
  },
  {
   "cell_type": "code",
   "execution_count": 160,
   "metadata": {},
   "outputs": [
    {
     "data": {
      "text/plain": [
       "Restaurant       0\n",
       "Location         0\n",
       "Cuisines         0\n",
       "Average_Cost     0\n",
       "Minimum_Order    0\n",
       "Rating           0\n",
       "Votes            0\n",
       "Reviews          0\n",
       "Delivery_Time    0\n",
       "dtype: int64"
      ]
     },
     "execution_count": 160,
     "metadata": {},
     "output_type": "execute_result"
    }
   ],
   "source": [
    "train.isnull().sum()"
   ]
  },
  {
   "cell_type": "code",
   "execution_count": 161,
   "metadata": {},
   "outputs": [
    {
     "data": {
      "text/plain": [
       "Restaurant       0\n",
       "Location         0\n",
       "Cuisines         0\n",
       "Average_Cost     0\n",
       "Minimum_Order    0\n",
       "Rating           0\n",
       "Votes            0\n",
       "Reviews          0\n",
       "dtype: int64"
      ]
     },
     "execution_count": 161,
     "metadata": {},
     "output_type": "execute_result"
    }
   ],
   "source": [
    "test.isnull().sum() "
   ]
  },
  {
   "cell_type": "code",
   "execution_count": 162,
   "metadata": {},
   "outputs": [
    {
     "data": {
      "text/plain": [
       "(11094, 9)"
      ]
     },
     "execution_count": 162,
     "metadata": {},
     "output_type": "execute_result"
    }
   ],
   "source": [
    "train.shape"
   ]
  },
  {
   "cell_type": "code",
   "execution_count": 163,
   "metadata": {},
   "outputs": [
    {
     "data": {
      "text/plain": [
       "(2774, 8)"
      ]
     },
     "execution_count": 163,
     "metadata": {},
     "output_type": "execute_result"
    }
   ],
   "source": [
    "test.shape"
   ]
  },
  {
   "cell_type": "markdown",
   "metadata": {},
   "source": [
    "### Observation \n",
    "1. location and cuisines need cleaning \n",
    "\n",
    "2. remove the rupee symbol from avg cost and min cost \n",
    "\n",
    "3. check the rating and reviews there is a relation between rating votes and reviews.\n",
    "\n",
    "4. target variable holds minutes word as string hence it appears to be categorical  we need to explore this "
   ]
  },
  {
   "cell_type": "markdown",
   "metadata": {},
   "source": [
    "### univariate analysis"
   ]
  },
  {
   "cell_type": "code",
   "execution_count": 164,
   "metadata": {},
   "outputs": [],
   "source": [
    "#combine the data set \n",
    "combined = pd.concat([train,test], sort=False, ignore_index=True)"
   ]
  },
  {
   "cell_type": "code",
   "execution_count": 165,
   "metadata": {},
   "outputs": [
    {
     "data": {
      "text/html": [
       "<div>\n",
       "<style scoped>\n",
       "    .dataframe tbody tr th:only-of-type {\n",
       "        vertical-align: middle;\n",
       "    }\n",
       "\n",
       "    .dataframe tbody tr th {\n",
       "        vertical-align: top;\n",
       "    }\n",
       "\n",
       "    .dataframe thead th {\n",
       "        text-align: right;\n",
       "    }\n",
       "</style>\n",
       "<table border=\"1\" class=\"dataframe\">\n",
       "  <thead>\n",
       "    <tr style=\"text-align: right;\">\n",
       "      <th></th>\n",
       "      <th>Restaurant</th>\n",
       "      <th>Location</th>\n",
       "      <th>Cuisines</th>\n",
       "      <th>Average_Cost</th>\n",
       "      <th>Minimum_Order</th>\n",
       "      <th>Rating</th>\n",
       "      <th>Votes</th>\n",
       "      <th>Reviews</th>\n",
       "      <th>Delivery_Time</th>\n",
       "    </tr>\n",
       "  </thead>\n",
       "  <tbody>\n",
       "    <tr>\n",
       "      <th>0</th>\n",
       "      <td>ID_6321</td>\n",
       "      <td>FTI College, Law College Road, Pune</td>\n",
       "      <td>Fast Food, Rolls, Burger, Salad, Wraps</td>\n",
       "      <td>₹200</td>\n",
       "      <td>₹50</td>\n",
       "      <td>3.5</td>\n",
       "      <td>12</td>\n",
       "      <td>4</td>\n",
       "      <td>30 minutes</td>\n",
       "    </tr>\n",
       "    <tr>\n",
       "      <th>1</th>\n",
       "      <td>ID_2882</td>\n",
       "      <td>Sector 3, Marathalli</td>\n",
       "      <td>Ice Cream, Desserts</td>\n",
       "      <td>₹100</td>\n",
       "      <td>₹50</td>\n",
       "      <td>3.5</td>\n",
       "      <td>11</td>\n",
       "      <td>4</td>\n",
       "      <td>30 minutes</td>\n",
       "    </tr>\n",
       "    <tr>\n",
       "      <th>2</th>\n",
       "      <td>ID_1595</td>\n",
       "      <td>Mumbai Central</td>\n",
       "      <td>Italian, Street Food, Fast Food</td>\n",
       "      <td>₹150</td>\n",
       "      <td>₹50</td>\n",
       "      <td>3.6</td>\n",
       "      <td>99</td>\n",
       "      <td>30</td>\n",
       "      <td>65 minutes</td>\n",
       "    </tr>\n",
       "    <tr>\n",
       "      <th>3</th>\n",
       "      <td>ID_5929</td>\n",
       "      <td>Sector 1, Noida</td>\n",
       "      <td>Mughlai, North Indian, Chinese</td>\n",
       "      <td>₹250</td>\n",
       "      <td>₹99</td>\n",
       "      <td>3.7</td>\n",
       "      <td>176</td>\n",
       "      <td>95</td>\n",
       "      <td>30 minutes</td>\n",
       "    </tr>\n",
       "    <tr>\n",
       "      <th>4</th>\n",
       "      <td>ID_6123</td>\n",
       "      <td>Rmz Centennial, I Gate, Whitefield</td>\n",
       "      <td>Cafe, Beverages</td>\n",
       "      <td>₹200</td>\n",
       "      <td>₹99</td>\n",
       "      <td>3.2</td>\n",
       "      <td>521</td>\n",
       "      <td>235</td>\n",
       "      <td>65 minutes</td>\n",
       "    </tr>\n",
       "  </tbody>\n",
       "</table>\n",
       "</div>"
      ],
      "text/plain": [
       "  Restaurant                             Location  \\\n",
       "0    ID_6321  FTI College, Law College Road, Pune   \n",
       "1    ID_2882                 Sector 3, Marathalli   \n",
       "2    ID_1595                       Mumbai Central   \n",
       "3    ID_5929                      Sector 1, Noida   \n",
       "4    ID_6123   Rmz Centennial, I Gate, Whitefield   \n",
       "\n",
       "                                 Cuisines Average_Cost Minimum_Order Rating  \\\n",
       "0  Fast Food, Rolls, Burger, Salad, Wraps         ₹200           ₹50    3.5   \n",
       "1                     Ice Cream, Desserts         ₹100           ₹50    3.5   \n",
       "2         Italian, Street Food, Fast Food         ₹150           ₹50    3.6   \n",
       "3          Mughlai, North Indian, Chinese         ₹250           ₹99    3.7   \n",
       "4                         Cafe, Beverages         ₹200           ₹99    3.2   \n",
       "\n",
       "  Votes Reviews Delivery_Time  \n",
       "0    12       4    30 minutes  \n",
       "1    11       4    30 minutes  \n",
       "2    99      30    65 minutes  \n",
       "3   176      95    30 minutes  \n",
       "4   521     235    65 minutes  "
      ]
     },
     "execution_count": 165,
     "metadata": {},
     "output_type": "execute_result"
    }
   ],
   "source": [
    "combined.head()"
   ]
  },
  {
   "cell_type": "code",
   "execution_count": 166,
   "metadata": {},
   "outputs": [
    {
     "name": "stdout",
     "output_type": "stream",
     "text": [
      "<class 'pandas.core.frame.DataFrame'>\n",
      "RangeIndex: 13868 entries, 0 to 13867\n",
      "Data columns (total 9 columns):\n",
      "Restaurant       13868 non-null object\n",
      "Location         13868 non-null object\n",
      "Cuisines         13868 non-null object\n",
      "Average_Cost     13868 non-null object\n",
      "Minimum_Order    13868 non-null object\n",
      "Rating           13868 non-null object\n",
      "Votes            13868 non-null object\n",
      "Reviews          13868 non-null object\n",
      "Delivery_Time    11094 non-null object\n",
      "dtypes: object(9)\n",
      "memory usage: 975.2+ KB\n"
     ]
    }
   ],
   "source": [
    "combined.info()"
   ]
  },
  {
   "cell_type": "code",
   "execution_count": 167,
   "metadata": {},
   "outputs": [
    {
     "data": {
      "text/plain": [
       "Restaurant          0\n",
       "Location            0\n",
       "Cuisines            0\n",
       "Average_Cost        0\n",
       "Minimum_Order       0\n",
       "Rating              0\n",
       "Votes               0\n",
       "Reviews             0\n",
       "Delivery_Time    2774\n",
       "dtype: int64"
      ]
     },
     "execution_count": 167,
     "metadata": {},
     "output_type": "execute_result"
    }
   ],
   "source": [
    "combined.isnull().sum()"
   ]
  },
  {
   "cell_type": "code",
   "execution_count": 168,
   "metadata": {},
   "outputs": [
    {
     "data": {
      "text/plain": [
       "30 minutes     7406\n",
       "45 minutes     2665\n",
       "65 minutes      923\n",
       "120 minutes      62\n",
       "20 minutes       20\n",
       "80 minutes       14\n",
       "10 minutes        4\n",
       "Name: Delivery_Time, dtype: int64"
      ]
     },
     "execution_count": 168,
     "metadata": {},
     "output_type": "execute_result"
    }
   ],
   "source": [
    "#Delivery Time \n",
    "#we use here label encoding for ml \n",
    "combined.Delivery_Time.value_counts()"
   ]
  },
  {
   "cell_type": "code",
   "execution_count": 169,
   "metadata": {},
   "outputs": [
    {
     "data": {
      "text/plain": [
       "<matplotlib.axes._subplots.AxesSubplot at 0x2580cecaeb8>"
      ]
     },
     "execution_count": 169,
     "metadata": {},
     "output_type": "execute_result"
    },
    {
     "data": {
      "image/png": "[encoded data removed]",
      "text/plain": [
       "<Figure size 504x576 with 1 Axes>"
      ]
     },
     "metadata": {
      "needs_background": "light"
     },
     "output_type": "display_data"
    }
   ],
   "source": [
    "combined.Delivery_Time.value_counts().plot(kind=\"bar\", color=\"red\",figsize=[7,8])"
   ]
  },
  {
   "cell_type": "code",
   "execution_count": 170,
   "metadata": {},
   "outputs": [
    {
     "data": {
      "text/plain": [
       "Index(['Restaurant', 'Location', 'Cuisines', 'Average_Cost', 'Minimum_Order',\n",
       "       'Rating', 'Votes', 'Reviews', 'Delivery_Time'],\n",
       "      dtype='object')"
      ]
     },
     "execution_count": 170,
     "metadata": {},
     "output_type": "execute_result"
    }
   ],
   "source": [
    "combined.columns"
   ]
  },
  {
   "cell_type": "code",
   "execution_count": 171,
   "metadata": {},
   "outputs": [
    {
     "data": {
      "text/plain": [
       "array(['4', '30', '95', '235', '18', '31', '1235', '26', '294', '61',\n",
       "       '1239', '-', '128', '5', '53', '47', '46', '23', '160', '2', '1',\n",
       "       '38', '9', '19', '7', '132', '74', '13', '111', '499', '29', '34',\n",
       "       '851', '513', '22', '27', '32', '25', '37', '8', '35', '6', '173',\n",
       "       '36', '15', '174', '11', '59', '16', '89', '170', '10', '1660',\n",
       "       '71', '41', '20', '40', '3', '191', '105', '100', '106', '21',\n",
       "       '65', '69', '2547', '159', '110', '42', '181', '109', '179', '490',\n",
       "       '28', '343', '118', '690', '72', '296', '33', '164', '50', '129',\n",
       "       '1581', '234', '45', '2363', '24', '115', '12', '138', '175', '39',\n",
       "       '66', '1603', '1443', '390', '108', '1457', '112', '107', '259',\n",
       "       '269', '52', '196', '794', '589', '48', '145', '536', '247', '17',\n",
       "       '49', '245', '87', '83', '54', '453', '318', '99', '205', '165',\n",
       "       '1845', '766', '114', '44', '51', '104', '478', '70', '232', '435',\n",
       "       '14', '659', '554', '399', '77', '88', '503', '55', '57', '855',\n",
       "       '301', '305', '94', '336', '307', '1369', '76', '124', '1131',\n",
       "       '155', '90', '366', '256', '739', '64', '351', '141', '169', '121',\n",
       "       '240', '556', '220', '502', '80', '176', '691', '102', '621',\n",
       "       '310', '391', '142', '721', '56', '189', '139', '1062', '97',\n",
       "       '741', '565', '972', '98', '187', '314', '60', '136', '214', '167',\n",
       "       '123', '67', '572', '171', '183', '84', '252', '120', '119', '758',\n",
       "       '258', '199', '287', '62', '579', '455', '131', '845', '127',\n",
       "       '906', '1948', '465', '143', '1673', '1174', '484', '152', '248',\n",
       "       '236', '204', '85', '207', '609', '231', '1150', '671', '322',\n",
       "       '1095', '233', '43', '668', '257', '158', '372', '285', '215',\n",
       "       '950', '357', '193', '260', '899', '126', '335', '1415', '249',\n",
       "       '243', '254', '241', '268', '116', '547', '58', '63', '1276',\n",
       "       '941', '81', '188', '849', '79', '696', '317', '400', '148', '86',\n",
       "       '168', '101', '153', '1356', '78', '242', '728', '6504', '860',\n",
       "       '226', '230', '206', '1260', '320', '184', '986', '560', '172',\n",
       "       '68', '96', '751', '545', '202', '3989', '423', '137', '432',\n",
       "       '539', '675', '278', '574', '177', '113', '410', '360', '405',\n",
       "       '2359', '938', '117', '1133', '819', '1211', '224', '91', '426',\n",
       "       '358', '362', '892', '208', '581', '652', '1962', '981', '125',\n",
       "       '325', '210', '147', '925', '437', '593', '251', '292', '238',\n",
       "       '73', '225', '387', '681', '965', '133', '370', '450', '163',\n",
       "       '154', '382', '580', '201', '518', '262', '626', '2311', '1336',\n",
       "       '2576', '569', '244', '273', '530', '1631', '459', '304', '157',\n",
       "       '1306', '383', '272', '246', '103', '228', '178', '151', '186',\n",
       "       '472', '135', '1370', '563', '2224', '444', '1138', '650', '192',\n",
       "       '407', '540', '93', '303', '1112', '264', '485', '195', '584',\n",
       "       '341', '977', '2167', '1067', '566', '212', '222', '277', '291',\n",
       "       '306', '647', '424', '421', '461', '237', '600', '582', '2126',\n",
       "       '495', '82', '1617', '2340', '364', '130', '1031', '290', '2640',\n",
       "       '2171', '772', '1875', '1002', '771', '1914', '219', '830', '346',\n",
       "       '250', '282', '328', '527', '75', '1164', '1804', '512', '409',\n",
       "       '369', '255', '319', '525', '923', '276', '406', '211', '140',\n",
       "       '1061', '229', '2490', '997', '633', '144', '926', '464', '1289',\n",
       "       '1200', '352', '497', '265', '299', '1605', '662', '436', '1479',\n",
       "       '736', '809', '209', '805', '122', '353', '3371', '344', '2303',\n",
       "       '323', '185', '1708', '699', '412', '439', '1191', '1961', '548',\n",
       "       '1005', '707', '279', '150', '506', '1589', '388', '134', '538',\n",
       "       '340', '999', '156', '355', '457', '2217', '338', '2212', '887',\n",
       "       '777', '1444', '635', '971', '149', '297', '393', '1165', '397',\n",
       "       '1319', '146', '218', '194', '482', '431', '385', '394', '1818',\n",
       "       '983', '1967', '1501', '1538', '274', '2931', '227', '308', '266',\n",
       "       '342', '815', '544', '500', '434', '1079', '567', '634', '221',\n",
       "       '1091', '2808', '377', '992', '1199', '603', '467', '348', '2036',\n",
       "       '726', '438', '389', '734', '1510', '498', '1971', '197', '463',\n",
       "       '532', '1318', '885', '1046', '1412', '1509', '381', '347', '270',\n",
       "       '2084', '415', '1116', '1084', '1429', '324', '651', '334', '384',\n",
       "       '1093', '897', '1532', '1798', '533', '471', '1159', '253', '667',\n",
       "       '263', '1819', '2454', '1992', '161', '763', '2143', '5558', '553',\n",
       "       '2203', '876', '380', '223', '198', '508', '281', '2649', '571',\n",
       "       '1172', '767', '529', '774', '606', '417', '2724', '182', '872',\n",
       "       '332', '217', '1508', '587', '329', '1616', '293', '190', '2936',\n",
       "       '92', '1130', '991', '719', '312', '333', '2922', '858', '458',\n",
       "       '840', '1213', '1251', '695', '413', '511', '1263', '1877', '1135',\n",
       "       '1246', '280', '823', '848', '895', '474', '371', '937', '519',\n",
       "       '2940', '213', '743', '1317', '2155', '800', '368', '883', '516',\n",
       "       '714', '392', '200', '313', '162', '888', '375', '1464', '682',\n",
       "       '1641', '354', '705', '655', '446', '468', '896', '331', '3337',\n",
       "       '350', '1357', '947', '604', '414', '967', '379', '952', '1979',\n",
       "       '764', '801', '309', '1956', '664', '1252', '1028', '466', '543',\n",
       "       '448', '602', '1148', '514', '748', '2503', '361', '302', '959',\n",
       "       '781', '2567', '510', '1009', '359', '494', '1734', '339', '326',\n",
       "       '625', '1329', '288', '449', '2098', '2031', '561', '316', '321',\n",
       "       '289', '430', '520', '646', '677', '559', '818', '995', '271',\n",
       "       '630', '528', '605', '1224', '704', '577', '475', '456', '1225',\n",
       "       '1161', '419', '3019', '441', '166', '275', '575', '2146', '1073',\n",
       "       '402', '889', '180', '761', '3753', '788', '418', '1787', '875',\n",
       "       '261', '239', '550', '476', '1353', '628', '4966', '710', '737',\n",
       "       '492', '515', '558', '378', '1414', '1890', '477', '1681', '570',\n",
       "       '422', '2483', '549', '404', '627', '295', '752', '283', '1409',\n",
       "       '2174', '1392', '542', '1183', '298', '373', '451', '568', '2540',\n",
       "       '1439', '440', '648', '601', '1085', '541', '429', '922', '894',\n",
       "       '452', '718', '594', '865', '2910', '1313', '203', '311', '900',\n",
       "       '1723', '367', '620', '3718', '376', '637', '1520', '996', '3503',\n",
       "       '1905', '1636', '2421', '828', '1340', '395', '3863', '731'],\n",
       "      dtype=object)"
      ]
     },
     "execution_count": 171,
     "metadata": {},
     "output_type": "execute_result"
    }
   ],
   "source": [
    "# Review the dash in review \n",
    "combined.Reviews.unique()"
   ]
  },
  {
   "cell_type": "code",
   "execution_count": 172,
   "metadata": {},
   "outputs": [
    {
     "data": {
      "text/plain": [
       "-       2616\n",
       "4        298\n",
       "6        255\n",
       "7        242\n",
       "9        238\n",
       "5        227\n",
       "8        216\n",
       "12       191\n",
       "11       173\n",
       "10       173\n",
       "13       144\n",
       "15       143\n",
       "16       133\n",
       "18       127\n",
       "14       123\n",
       "22       120\n",
       "20       115\n",
       "19       111\n",
       "17       103\n",
       "26        98\n",
       "27        96\n",
       "21        90\n",
       "37        89\n",
       "23        86\n",
       "28        85\n",
       "25        83\n",
       "24        83\n",
       "29        81\n",
       "31        80\n",
       "34        77\n",
       "        ... \n",
       "637        1\n",
       "1978       1\n",
       "1189       1\n",
       "2153       1\n",
       "2158       1\n",
       "2472       1\n",
       "1160       1\n",
       "1852       1\n",
       "859        1\n",
       "1487       1\n",
       "595        1\n",
       "1183       1\n",
       "1101       1\n",
       "4109       1\n",
       "1632       1\n",
       "395        1\n",
       "4094       1\n",
       "496        1\n",
       "2962       1\n",
       "1426       1\n",
       "1326       1\n",
       "2513       1\n",
       "7661       1\n",
       "882        1\n",
       "528        1\n",
       "5116       1\n",
       "1249       1\n",
       "992        1\n",
       "1147       1\n",
       "663        1\n",
       "Name: Votes, Length: 1181, dtype: int64"
      ]
     },
     "execution_count": 172,
     "metadata": {},
     "output_type": "execute_result"
    }
   ],
   "source": [
    "#votes \n",
    "combined.Votes.value_counts()\n",
    "# Dash in votes "
   ]
  },
  {
   "cell_type": "code",
   "execution_count": 173,
   "metadata": {},
   "outputs": [
    {
     "data": {
      "text/plain": [
       "array(['3.5', '3.6', '3.7', '3.2', '3.8', '4.0', '3.9', '4.2', '-', '2.8',\n",
       "       '3.0', '3.3', '3.1', '4.7', '3.4', '4.1', 'NEW', '2.9', '4.6',\n",
       "       '4.3', '2.6', '4.5', '4.4', '4.8', '2.4', '2.7', '2.5',\n",
       "       'Opening Soon', '2.2', '4.9', '2.3', '2.1', 'Temporarily Closed'],\n",
       "      dtype=object)"
      ]
     },
     "execution_count": 173,
     "metadata": {},
     "output_type": "execute_result"
    }
   ],
   "source": [
    "#Rating \n",
    "combined.Rating.unique()\n",
    "#Dash string based info such as new, opeaning soon and temp closed "
   ]
  },
  {
   "cell_type": "code",
   "execution_count": 174,
   "metadata": {},
   "outputs": [
    {
     "data": {
      "text/plain": [
       "<bound method Series.unique of 0        ₹200\n",
       "1        ₹100\n",
       "2        ₹150\n",
       "3        ₹250\n",
       "4        ₹200\n",
       "5        ₹150\n",
       "6        ₹150\n",
       "7        ₹650\n",
       "8        ₹100\n",
       "9        ₹200\n",
       "10       ₹350\n",
       "11       ₹800\n",
       "12       ₹150\n",
       "13        ₹50\n",
       "14       ₹100\n",
       "15       ₹100\n",
       "16       ₹100\n",
       "17       ₹200\n",
       "18       ₹150\n",
       "19       ₹100\n",
       "20       ₹200\n",
       "21       ₹150\n",
       "22       ₹250\n",
       "23       ₹200\n",
       "24       ₹150\n",
       "25       ₹100\n",
       "26       ₹100\n",
       "27       ₹150\n",
       "28       ₹150\n",
       "29       ₹200\n",
       "         ... \n",
       "13838    ₹200\n",
       "13839    ₹300\n",
       "13840    ₹250\n",
       "13841     ₹50\n",
       "13842    ₹250\n",
       "13843    ₹200\n",
       "13844    ₹250\n",
       "13845    ₹200\n",
       "13846    ₹100\n",
       "13847    ₹200\n",
       "13848    ₹100\n",
       "13849    ₹300\n",
       "13850     ₹50\n",
       "13851    ₹100\n",
       "13852    ₹350\n",
       "13853    ₹150\n",
       "13854    ₹100\n",
       "13855    ₹150\n",
       "13856    ₹200\n",
       "13857    ₹800\n",
       "13858    ₹100\n",
       "13859    ₹150\n",
       "13860    ₹150\n",
       "13861    ₹200\n",
       "13862    ₹300\n",
       "13863    ₹100\n",
       "13864    ₹250\n",
       "13865    ₹150\n",
       "13866    ₹100\n",
       "13867    ₹150\n",
       "Name: Average_Cost, Length: 13868, dtype: object>"
      ]
     },
     "execution_count": 174,
     "metadata": {},
     "output_type": "execute_result"
    }
   ],
   "source": [
    "#Averagecost \n",
    "combined.Average_Cost.unique\n",
    "#symbol and comma and for "
   ]
  },
  {
   "cell_type": "code",
   "execution_count": 175,
   "metadata": {},
   "outputs": [
    {
     "data": {
      "text/plain": [
       "array(['₹50', '₹99', '₹0', '₹200', '₹450', '₹350', '₹79', '₹400', '₹199',\n",
       "       '₹500', '₹250', '₹150', '₹90', '₹299', '₹300', '₹240', '₹89',\n",
       "       '₹59', '₹149', '₹399'], dtype=object)"
      ]
     },
     "execution_count": 175,
     "metadata": {},
     "output_type": "execute_result"
    }
   ],
   "source": [
    "#minimum order \n",
    "combined.Minimum_Order.unique()\n",
    "# Symbol rupe clean "
   ]
  },
  {
   "cell_type": "code",
   "execution_count": 176,
   "metadata": {},
   "outputs": [],
   "source": [
    "# this kind of  error are called noise in data when data show lots of unwanted symbol or words."
   ]
  },
  {
   "cell_type": "code",
   "execution_count": 177,
   "metadata": {},
   "outputs": [
    {
     "data": {
      "text/plain": [
       "50"
      ]
     },
     "execution_count": 177,
     "metadata": {},
     "output_type": "execute_result"
    }
   ],
   "source": [
    "#Minimum_Order which is allso are called price clean the column \n",
    "#split the number and rupe \n",
    "int(combined.Minimum_Order[0].split(\"₹\")[1])"
   ]
  },
  {
   "cell_type": "code",
   "execution_count": 178,
   "metadata": {},
   "outputs": [],
   "source": [
    "mylist=[]\n",
    "for i in combined.Minimum_Order:\n",
    "    mylist.append(i.split(\"₹\")[1])    "
   ]
  },
  {
   "cell_type": "code",
   "execution_count": 179,
   "metadata": {},
   "outputs": [],
   "source": [
    "#Adding a new col - MinOrder_Cleansed\n",
    "combined['MinOrder_Cleansed']=pd.Series(mylist)"
   ]
  },
  {
   "cell_type": "code",
   "execution_count": 180,
   "metadata": {},
   "outputs": [
    {
     "data": {
      "text/plain": [
       "array(['₹200', '₹100', '₹150', '₹250', '₹650', '₹350', '₹800', '₹50',\n",
       "       '₹400', '₹600', '₹300', '₹750', '₹450', '₹550', '₹1,000', '₹500',\n",
       "       '₹900', '₹1,200', '₹950', '₹850', '₹700', '₹1,150', 'for',\n",
       "       '₹1,100', '₹1,400', '₹2,050'], dtype=object)"
      ]
     },
     "execution_count": 180,
     "metadata": {},
     "output_type": "execute_result"
    }
   ],
   "source": [
    "#Average Cost Cleanig \n",
    "combined.Average_Cost.unique()"
   ]
  },
  {
   "cell_type": "code",
   "execution_count": 181,
   "metadata": {},
   "outputs": [],
   "source": [
    "a = \"₹2,050\".split(\"₹\")[1]"
   ]
  },
  {
   "cell_type": "code",
   "execution_count": 182,
   "metadata": {},
   "outputs": [
    {
     "data": {
      "text/plain": [
       "2050"
      ]
     },
     "execution_count": 182,
     "metadata": {},
     "output_type": "execute_result"
    }
   ],
   "source": [
    "int(a.replace(\",\",\"\"))"
   ]
  },
  {
   "cell_type": "code",
   "execution_count": 183,
   "metadata": {},
   "outputs": [
    {
     "data": {
      "text/plain": [
       "2050"
      ]
     },
     "execution_count": 183,
     "metadata": {},
     "output_type": "execute_result"
    }
   ],
   "source": [
    "int(\"₹2,050\".split(\"₹\")[1].replace(\",\",\"\")) "
   ]
  },
  {
   "cell_type": "code",
   "execution_count": 184,
   "metadata": {},
   "outputs": [
    {
     "data": {
      "text/html": [
       "<div>\n",
       "<style scoped>\n",
       "    .dataframe tbody tr th:only-of-type {\n",
       "        vertical-align: middle;\n",
       "    }\n",
       "\n",
       "    .dataframe tbody tr th {\n",
       "        vertical-align: top;\n",
       "    }\n",
       "\n",
       "    .dataframe thead th {\n",
       "        text-align: right;\n",
       "    }\n",
       "</style>\n",
       "<table border=\"1\" class=\"dataframe\">\n",
       "  <thead>\n",
       "    <tr style=\"text-align: right;\">\n",
       "      <th></th>\n",
       "      <th>Restaurant</th>\n",
       "      <th>Location</th>\n",
       "      <th>Cuisines</th>\n",
       "      <th>Average_Cost</th>\n",
       "      <th>Minimum_Order</th>\n",
       "      <th>Rating</th>\n",
       "      <th>Votes</th>\n",
       "      <th>Reviews</th>\n",
       "      <th>Delivery_Time</th>\n",
       "      <th>MinOrder_Cleansed</th>\n",
       "    </tr>\n",
       "  </thead>\n",
       "  <tbody>\n",
       "    <tr>\n",
       "      <th>6297</th>\n",
       "      <td>ID_6472</td>\n",
       "      <td>Pune University</td>\n",
       "      <td>Fast Food</td>\n",
       "      <td>for</td>\n",
       "      <td>₹50</td>\n",
       "      <td>NEW</td>\n",
       "      <td>-</td>\n",
       "      <td>-</td>\n",
       "      <td>30 minutes</td>\n",
       "      <td>50</td>\n",
       "    </tr>\n",
       "  </tbody>\n",
       "</table>\n",
       "</div>"
      ],
      "text/plain": [
       "     Restaurant         Location   Cuisines Average_Cost Minimum_Order Rating  \\\n",
       "6297    ID_6472  Pune University  Fast Food          for           ₹50    NEW   \n",
       "\n",
       "     Votes Reviews Delivery_Time MinOrder_Cleansed  \n",
       "6297     -       -    30 minutes                50  "
      ]
     },
     "execution_count": 184,
     "metadata": {},
     "output_type": "execute_result"
    }
   ],
   "source": [
    "combined.loc[combined.Average_Cost==\"for\"]"
   ]
  },
  {
   "cell_type": "code",
   "execution_count": 185,
   "metadata": {},
   "outputs": [],
   "source": [
    "combined.loc[combined.Average_Cost==\"for\",\"Average_Cost\"]='0'"
   ]
  },
  {
   "cell_type": "code",
   "execution_count": 186,
   "metadata": {},
   "outputs": [],
   "source": [
    "cost=[] \n",
    "for i in combined.Average_Cost:\n",
    "    cost.append(int(i.replace(\"₹\",\"\").replace(\",\",\"\"))) \n",
    "    "
   ]
  },
  {
   "cell_type": "code",
   "execution_count": 187,
   "metadata": {},
   "outputs": [],
   "source": [
    "combined[\"Average_Cleansed\"] = pd.Series(cost)"
   ]
  },
  {
   "cell_type": "code",
   "execution_count": 188,
   "metadata": {},
   "outputs": [
    {
     "data": {
      "text/plain": [
       "' Pune'"
      ]
     },
     "execution_count": 188,
     "metadata": {},
     "output_type": "execute_result"
    }
   ],
   "source": [
    "#clean Location \n",
    "combined.Location[0].split(\",\")[-1] "
   ]
  },
  {
   "cell_type": "code",
   "execution_count": 189,
   "metadata": {},
   "outputs": [],
   "source": [
    "locs=[]\n",
    "for i in combined.Location:\n",
    "    locs.append(i.split(\", \")[-1]) "
   ]
  },
  {
   "cell_type": "code",
   "execution_count": 190,
   "metadata": {},
   "outputs": [],
   "source": [
    "combined['Location_Cleansed'] = pd.Series(locs)"
   ]
  },
  {
   "cell_type": "code",
   "execution_count": 191,
   "metadata": {},
   "outputs": [
    {
     "data": {
      "text/plain": [
       "array(['Pune', 'Marathalli', 'Mumbai Central', 'Noida', 'Whitefield',\n",
       "       'Delhi University-GTB Nagar', 'Maharashtra', 'Timarpur', 'Kolkata',\n",
       "       'Mumbai CST Area', 'Pune University', 'BTM Layout,Bangalore',\n",
       "       'Gurgoan', 'Begumpet', 'Majestic', 'India Gate', 'Hyderabad',\n",
       "       'Sector 63A,Gurgaon', 'Delhi Cantt.', 'Mumbai', 'Delhi',\n",
       "       'Electronic City'], dtype=object)"
      ]
     },
     "execution_count": 191,
     "metadata": {},
     "output_type": "execute_result"
    }
   ],
   "source": [
    "combined.Location_Cleansed.unique() "
   ]
  },
  {
   "cell_type": "code",
   "execution_count": 192,
   "metadata": {},
   "outputs": [
    {
     "data": {
      "text/plain": [
       "2019     BTM Layout 1, Electronic City\n",
       "2853     BTM Layout 1, Electronic City\n",
       "2981     BTM Layout 1, Electronic City\n",
       "3470     BTM Layout 1, Electronic City\n",
       "3601     BTM Layout 1, Electronic City\n",
       "3623     BTM Layout 1, Electronic City\n",
       "3628     BTM Layout 1, Electronic City\n",
       "4262     BTM Layout 1, Electronic City\n",
       "4453     BTM Layout 1, Electronic City\n",
       "7403     BTM Layout 1, Electronic City\n",
       "7612     BTM Layout 1, Electronic City\n",
       "8139     BTM Layout 1, Electronic City\n",
       "8272     BTM Layout 1, Electronic City\n",
       "8793     BTM Layout 1, Electronic City\n",
       "9256     BTM Layout 1, Electronic City\n",
       "9510     BTM Layout 1, Electronic City\n",
       "9564     BTM Layout 1, Electronic City\n",
       "10053    BTM Layout 1, Electronic City\n",
       "10211    BTM Layout 1, Electronic City\n",
       "10363    BTM Layout 1, Electronic City\n",
       "10584    BTM Layout 1, Electronic City\n",
       "11089    BTM Layout 1, Electronic City\n",
       "11108    BTM Layout 1, Electronic City\n",
       "11186    BTM Layout 1, Electronic City\n",
       "11410    BTM Layout 1, Electronic City\n",
       "12611    BTM Layout 1, Electronic City\n",
       "12861    BTM Layout 1, Electronic City\n",
       "13471    BTM Layout 1, Electronic City\n",
       "13677    BTM Layout 1, Electronic City\n",
       "13742    BTM Layout 1, Electronic City\n",
       "Name: Location, dtype: object"
      ]
     },
     "execution_count": 192,
     "metadata": {},
     "output_type": "execute_result"
    }
   ],
   "source": [
    "#Banglore City \n",
    "combined[combined.Location_Cleansed==\"Electronic City\"]['Location']"
   ]
  },
  {
   "cell_type": "code",
   "execution_count": 193,
   "metadata": {},
   "outputs": [],
   "source": [
    "combined.Location_Cleansed.replace(to_replace =[\"Marathalli\",'Whitefield','Majestic',\n",
    "                                                'BTM Layout,Bangalore','Electronic City'],\n",
    "                                  value=['Bangalore']*5,inplace=True) "
   ]
  },
  {
   "cell_type": "code",
   "execution_count": 194,
   "metadata": {},
   "outputs": [
    {
     "data": {
      "text/plain": [
       "array(['Pune', 'Bangalore', 'Mumbai Central', 'Noida',\n",
       "       'Delhi University-GTB Nagar', 'Maharashtra', 'Timarpur', 'Kolkata',\n",
       "       'Mumbai CST Area', 'Pune University', 'Gurgoan', 'Begumpet',\n",
       "       'India Gate', 'Hyderabad', 'Sector 63A,Gurgaon', 'Delhi Cantt.',\n",
       "       'Mumbai', 'Delhi'], dtype=object)"
      ]
     },
     "execution_count": 194,
     "metadata": {},
     "output_type": "execute_result"
    }
   ],
   "source": [
    "combined.Location_Cleansed.unique() "
   ]
  },
  {
   "cell_type": "code",
   "execution_count": 195,
   "metadata": {},
   "outputs": [],
   "source": [
    "#Pune \n",
    "combined.Location_Cleansed.replace(to_replace =['Pune University','Maharashtra'],\n",
    "                                  value=['Pune']*2,inplace=True) "
   ]
  },
  {
   "cell_type": "code",
   "execution_count": 196,
   "metadata": {},
   "outputs": [
    {
     "data": {
      "text/plain": [
       "array(['Pune', 'Bangalore', 'Mumbai Central', 'Noida',\n",
       "       'Delhi University-GTB Nagar', 'Timarpur', 'Kolkata',\n",
       "       'Mumbai CST Area', 'Gurgoan', 'Begumpet', 'India Gate',\n",
       "       'Hyderabad', 'Sector 63A,Gurgaon', 'Delhi Cantt.', 'Mumbai',\n",
       "       'Delhi'], dtype=object)"
      ]
     },
     "execution_count": 196,
     "metadata": {},
     "output_type": "execute_result"
    }
   ],
   "source": [
    "combined.Location_Cleansed.unique() "
   ]
  },
  {
   "cell_type": "code",
   "execution_count": 197,
   "metadata": {},
   "outputs": [],
   "source": [
    "#Delhi \n",
    "combined.Location_Cleansed.replace(to_replace =['Delhi University-GTB Nagar','Timarpur',\n",
    "                                               'India Gate','Delhi Cantt.'],\n",
    "                                  value=['Delhi']*4,inplace=True)"
   ]
  },
  {
   "cell_type": "code",
   "execution_count": 198,
   "metadata": {},
   "outputs": [
    {
     "data": {
      "text/plain": [
       "array(['Pune', 'Bangalore', 'Mumbai Central', 'Noida', 'Delhi', 'Kolkata',\n",
       "       'Mumbai CST Area', 'Gurgoan', 'Begumpet', 'Hyderabad',\n",
       "       'Sector 63A,Gurgaon', 'Mumbai'], dtype=object)"
      ]
     },
     "execution_count": 198,
     "metadata": {},
     "output_type": "execute_result"
    }
   ],
   "source": [
    "combined.Location_Cleansed.unique() "
   ]
  },
  {
   "cell_type": "code",
   "execution_count": 199,
   "metadata": {},
   "outputs": [],
   "source": [
    "#Gurgaon Spell check \n",
    "combined.loc[combined.Location_Cleansed==\"Gurgoan\",'Location_Cleansed']=\"Gurgaon\""
   ]
  },
  {
   "cell_type": "code",
   "execution_count": 200,
   "metadata": {},
   "outputs": [
    {
     "data": {
      "text/plain": [
       "array(['Pune', 'Bangalore', 'Mumbai Central', 'Noida', 'Delhi', 'Kolkata',\n",
       "       'Mumbai CST Area', 'Gurgaon', 'Begumpet', 'Hyderabad',\n",
       "       'Sector 63A,Gurgaon', 'Mumbai'], dtype=object)"
      ]
     },
     "execution_count": 200,
     "metadata": {},
     "output_type": "execute_result"
    }
   ],
   "source": [
    "combined.Location_Cleansed.unique()"
   ]
  },
  {
   "cell_type": "code",
   "execution_count": 293,
   "metadata": {},
   "outputs": [],
   "source": [
    "#Gurgaon\n",
    "#combined.Location_Cleansed.replace('Sector 63A,Gurgaon','Gurgaon',inplace=True)\n",
    "combined.Location_Cleansed.replace(to_replace =[\"Sector 63A,Gurgaon\"],\n",
    "                                  value=['Gurgaon'],inplace=True)"
   ]
  },
  {
   "cell_type": "code",
   "execution_count": 294,
   "metadata": {},
   "outputs": [
    {
     "data": {
      "text/plain": [
       "array(['Pune', 'Bangalore', 'Mumbai', 'Noida', 'Delhi', 'Kolkata',\n",
       "       'Gurgaon', 'Hyderabad'], dtype=object)"
      ]
     },
     "execution_count": 294,
     "metadata": {},
     "output_type": "execute_result"
    }
   ],
   "source": [
    "combined.Location_Cleansed.unique()"
   ]
  },
  {
   "cell_type": "code",
   "execution_count": 295,
   "metadata": {},
   "outputs": [],
   "source": [
    "#Mumbai \n",
    "combined.Location_Cleansed.replace(to_replace =['Mumbai CST Area','Mumbai Central'],\n",
    "                                  value=['Mumbai']*2,inplace=True)"
   ]
  },
  {
   "cell_type": "code",
   "execution_count": 296,
   "metadata": {},
   "outputs": [],
   "source": [
    "#Begumpet convert into Hyderabad\n",
    "combined.Location_Cleansed.replace(to_replace =[\"Begumpet\"],\n",
    "                                  value=['Hyderabad'],inplace=True)"
   ]
  },
  {
   "cell_type": "code",
   "execution_count": 297,
   "metadata": {},
   "outputs": [
    {
     "data": {
      "text/plain": [
       "array(['Pune', 'Bangalore', 'Mumbai', 'Noida', 'Delhi', 'Kolkata',\n",
       "       'Gurgaon', 'Hyderabad'], dtype=object)"
      ]
     },
     "execution_count": 297,
     "metadata": {},
     "output_type": "execute_result"
    }
   ],
   "source": [
    "combined.Location_Cleansed.unique()"
   ]
  },
  {
   "cell_type": "code",
   "execution_count": 298,
   "metadata": {},
   "outputs": [
    {
     "data": {
      "text/plain": [
       "<matplotlib.axes._subplots.AxesSubplot at 0x2580752e6d8>"
      ]
     },
     "execution_count": 298,
     "metadata": {},
     "output_type": "execute_result"
    },
    {
     "data": {
      "image/png": "[encoded data removed]",
      "text/plain": [
       "<Figure size 576x648 with 1 Axes>"
      ]
     },
     "metadata": {
      "needs_background": "light"
     },
     "output_type": "display_data"
    }
   ],
   "source": [
    "combined.Location_Cleansed.value_counts().plot(kind=\"bar\", figsize=[8,9], color=\"Green\") "
   ]
  },
  {
   "cell_type": "code",
   "execution_count": 299,
   "metadata": {},
   "outputs": [
    {
     "data": {
      "text/plain": [
       "Index(['Restaurant', 'Location', 'Cuisines', 'Average_Cost', 'Minimum_Order',\n",
       "       'Rating', 'Votes', 'Reviews', 'Delivery_Time', 'MinOrder_Cleansed',\n",
       "       'Average_Cleansed', 'Location_Cleansed', 'Cuisines_Cleansed',\n",
       "       'Rating_Category'],\n",
       "      dtype='object')"
      ]
     },
     "execution_count": 299,
     "metadata": {},
     "output_type": "execute_result"
    }
   ],
   "source": [
    "combined.columns"
   ]
  },
  {
   "cell_type": "code",
   "execution_count": 300,
   "metadata": {},
   "outputs": [],
   "source": [
    "#now we have to deal with Cuisines"
   ]
  },
  {
   "cell_type": "code",
   "execution_count": 301,
   "metadata": {},
   "outputs": [
    {
     "data": {
      "text/plain": [
       "array(['Fast Food, Rolls, Burger, Salad, Wraps', 'Ice Cream, Desserts',\n",
       "       'Italian, Street Food, Fast Food', ...,\n",
       "       'North Indian, Chinese, Japanese',\n",
       "       'Asian, Italian, Continental, Desserts, Healthy Food',\n",
       "       'North Indian, Rolls, Chinese, Continental, Fast Food'],\n",
       "      dtype=object)"
      ]
     },
     "execution_count": 301,
     "metadata": {},
     "output_type": "execute_result"
    }
   ],
   "source": [
    "combined.Cuisines.unique() "
   ]
  },
  {
   "cell_type": "code",
   "execution_count": 302,
   "metadata": {},
   "outputs": [
    {
     "data": {
      "text/plain": [
       "['Fast Food', 'Rolls', 'Burger', 'Salad', 'Wraps']"
      ]
     },
     "execution_count": 302,
     "metadata": {},
     "output_type": "execute_result"
    }
   ],
   "source": [
    "combined.Cuisines[0].split(\", \") "
   ]
  },
  {
   "cell_type": "code",
   "execution_count": 303,
   "metadata": {},
   "outputs": [],
   "source": [
    "food=[]\n",
    "for i in combined.Cuisines:\n",
    "    food.append(i.split(\", \")) "
   ]
  },
  {
   "cell_type": "code",
   "execution_count": 304,
   "metadata": {},
   "outputs": [],
   "source": [
    "df = pd.DataFrame(food)"
   ]
  },
  {
   "cell_type": "code",
   "execution_count": 305,
   "metadata": {},
   "outputs": [
    {
     "data": {
      "text/plain": [
       "array(['Fast Food', 'Ice Cream', 'Italian', 'Mughlai', 'Cafe',\n",
       "       'South Indian', 'Beverages', 'Chinese', 'Mithai', 'North Indian',\n",
       "       'Burger', 'Biryani', 'Kerala', 'Desserts', 'Bakery', 'Asian',\n",
       "       'Street Food', 'Pizza', 'Lucknowi', 'Tea', 'Rolls', 'Bengali',\n",
       "       'Mishti', 'European', 'Momos', 'Continental', 'Andhra', 'German',\n",
       "       'Finger Food', 'Sandwich', 'Chettinad', 'Juices', 'Parsi',\n",
       "       'Japanese', 'Salad', 'Tamil', 'North Eastern', 'Maharashtrian',\n",
       "       'Tibetan', 'Arabian', 'Bar Food', 'Konkan', 'Odia', 'Paan',\n",
       "       'Wraps', 'Lebanese', 'American', 'Mediterranean', 'Bohri',\n",
       "       'Mangalorean', 'Thai', 'Healthy Food', 'Raw Meats', 'Gujarati',\n",
       "       'Seafood', 'Rajasthani', 'BBQ', 'Coffee', 'Mexican', 'Goan',\n",
       "       'Korean', 'Kebab', 'Kashmiri', 'Bihari', 'Portuguese',\n",
       "       'Frozen Yogurt', 'Afghan', 'Awadhi', 'Malwani', 'Malaysian',\n",
       "       'Hyderabadi', 'French', 'Modern Indian', 'Sushi', 'Hot dogs',\n",
       "       'Iranian', 'Brazilian', 'Indian', 'African', 'Bubble Tea',\n",
       "       'Turkish', 'Assamese', 'Naga', 'Middle Eastern', 'Vietnamese',\n",
       "       'Steak'], dtype=object)"
      ]
     },
     "execution_count": 305,
     "metadata": {},
     "output_type": "execute_result"
    }
   ],
   "source": [
    "df[0].unique()"
   ]
  },
  {
   "cell_type": "code",
   "execution_count": 306,
   "metadata": {},
   "outputs": [],
   "source": [
    "fastfood = ['Fast Food','Cafe',\n",
    "       'Burger','Bakery',\n",
    "       'Street Food', 'Pizza','Rolls','Momos',\n",
    "       'Finger Food', 'Sandwich','Bar Food','Wraps','Hot dogs']\n",
    "\n",
    "deserts = ['Ice Cream',  'Mithai', 'Desserts', 'Paan','Frozen Yogurt',\n",
    "       'Mishti']\n",
    "\n",
    "beverages = ['Juices','Tea','Coffee','Bubble Tea','Bevarages']\n",
    "\n",
    "maincourse = ['Italian', 'Mughlai', 'South Indian','Chinese','North Indian','Biryani',\n",
    "              'Kerala','Asian','Lucknowi', 'Bengali','European', 'Momos', 'Continental',\n",
    "              'Andhra', 'German','Chettinad','Parsi','Japanese', 'Salad', 'Tamil',\n",
    "              'North Eastern', 'Maharashtrian','Tibetan', 'Arabian', 'Konkan', 'Odia',\n",
    "              'Lebanese', 'American', 'Mediterranean', 'Bohri','Mangalorean', 'Thai',\n",
    "              'Healthy Food', 'Raw Meats', 'Gujarati','Seafood', 'Rajasthani', 'BBQ',\n",
    "              'Mexican', 'Goan','Korean', 'Kebab', 'Kashmiri', 'Bihari', 'Portuguese',\n",
    "              'Afghan', 'Awadhi', 'Malwani', 'Malaysian','Hyderabadi', 'French', 'Modern Indian',\n",
    "              'Sushi','Iranian', 'Brazilian', 'Indian', 'African','Turkish', 'Assamese', 'Naga',\n",
    "              'Middle Eastern', 'Vietnamese','Steak','Cantonese','Belgian','Charcoal Chicken',\n",
    "              'Tex-Mex', 'Spanish', 'Roast Chicken','Burmese','Nepalese']\n",
    " "
   ]
  },
  {
   "cell_type": "code",
   "execution_count": 307,
   "metadata": {},
   "outputs": [],
   "source": [
    "# function to covert into categories \n",
    "def foodcatbanao(x):\n",
    "    if(x in fastfood):\n",
    "        return(\"Fast Food\")\n",
    "    elif(x in beverages):\n",
    "        return(\"Beverages\")\n",
    "    elif(x in deserts):\n",
    "        return(\"Deserts\")\n",
    "    else:\n",
    "        return(\"maincourse\")"
   ]
  },
  {
   "cell_type": "code",
   "execution_count": 308,
   "metadata": {},
   "outputs": [],
   "source": [
    "combined[\"Cuisines_Cleansed\"] = pd.Series(df[0].apply(foodcatbanao)) "
   ]
  },
  {
   "cell_type": "code",
   "execution_count": 237,
   "metadata": {},
   "outputs": [
    {
     "data": {
      "text/html": [
       "<div>\n",
       "<style scoped>\n",
       "    .dataframe tbody tr th:only-of-type {\n",
       "        vertical-align: middle;\n",
       "    }\n",
       "\n",
       "    .dataframe tbody tr th {\n",
       "        vertical-align: top;\n",
       "    }\n",
       "\n",
       "    .dataframe thead th {\n",
       "        text-align: right;\n",
       "    }\n",
       "</style>\n",
       "<table border=\"1\" class=\"dataframe\">\n",
       "  <thead>\n",
       "    <tr style=\"text-align: right;\">\n",
       "      <th></th>\n",
       "      <th>Restaurant</th>\n",
       "      <th>Location</th>\n",
       "      <th>Cuisines</th>\n",
       "      <th>Average_Cost</th>\n",
       "      <th>Minimum_Order</th>\n",
       "      <th>Rating</th>\n",
       "      <th>Votes</th>\n",
       "      <th>Reviews</th>\n",
       "      <th>Delivery_Time</th>\n",
       "      <th>MinOrder_Cleansed</th>\n",
       "      <th>Average_Cleansed</th>\n",
       "      <th>Location_Cleansed</th>\n",
       "      <th>Cuisines_Cleansed</th>\n",
       "    </tr>\n",
       "  </thead>\n",
       "  <tbody>\n",
       "    <tr>\n",
       "      <th>6297</th>\n",
       "      <td>ID_6472</td>\n",
       "      <td>Pune University</td>\n",
       "      <td>Fast Food</td>\n",
       "      <td>0</td>\n",
       "      <td>₹50</td>\n",
       "      <td>NEW</td>\n",
       "      <td>-</td>\n",
       "      <td>-</td>\n",
       "      <td>30 minutes</td>\n",
       "      <td>50</td>\n",
       "      <td>0</td>\n",
       "      <td>Pune</td>\n",
       "      <td>Fast Food</td>\n",
       "    </tr>\n",
       "  </tbody>\n",
       "</table>\n",
       "</div>"
      ],
      "text/plain": [
       "     Restaurant         Location   Cuisines Average_Cost Minimum_Order Rating  \\\n",
       "6297    ID_6472  Pune University  Fast Food            0           ₹50    NEW   \n",
       "\n",
       "     Votes Reviews Delivery_Time MinOrder_Cleansed  Average_Cleansed  \\\n",
       "6297     -       -    30 minutes                50                 0   \n",
       "\n",
       "     Location_Cleansed Cuisines_Cleansed  \n",
       "6297              Pune         Fast Food  "
      ]
     },
     "execution_count": 237,
     "metadata": {},
     "output_type": "execute_result"
    }
   ],
   "source": [
    "#deal with 0 value in average_cost \n",
    "combined.loc[combined.Average_Cost==\"0\"]"
   ]
  },
  {
   "cell_type": "code",
   "execution_count": 309,
   "metadata": {
    "scrolled": true
   },
   "outputs": [
    {
     "data": {
      "text/plain": [
       "count    892.000000\n",
       "mean     183.520179\n",
       "std      112.579921\n",
       "min       50.000000\n",
       "25%      100.000000\n",
       "50%      150.000000\n",
       "75%      200.000000\n",
       "max      800.000000\n",
       "Name: Average_Cleansed, dtype: float64"
      ]
     },
     "execution_count": 309,
     "metadata": {},
     "output_type": "execute_result"
    }
   ],
   "source": [
    "combined[(combined.Location_Cleansed==\"Pune\") &\n",
    "         (combined.Cuisines_Cleansed==\"Fast Food\")][\"Average_Cleansed\"].describe() "
   ]
  },
  {
   "cell_type": "code",
   "execution_count": 310,
   "metadata": {},
   "outputs": [],
   "source": [
    "#imputing value \n",
    "combined.loc[combined.Average_Cost=='0',\"Average_Cleansed\"]= 150"
   ]
  },
  {
   "cell_type": "code",
   "execution_count": 311,
   "metadata": {},
   "outputs": [
    {
     "data": {
      "text/html": [
       "<div>\n",
       "<style scoped>\n",
       "    .dataframe tbody tr th:only-of-type {\n",
       "        vertical-align: middle;\n",
       "    }\n",
       "\n",
       "    .dataframe tbody tr th {\n",
       "        vertical-align: top;\n",
       "    }\n",
       "\n",
       "    .dataframe thead th {\n",
       "        text-align: right;\n",
       "    }\n",
       "</style>\n",
       "<table border=\"1\" class=\"dataframe\">\n",
       "  <thead>\n",
       "    <tr style=\"text-align: right;\">\n",
       "      <th></th>\n",
       "      <th>Restaurant</th>\n",
       "      <th>Location</th>\n",
       "      <th>Cuisines</th>\n",
       "      <th>Average_Cost</th>\n",
       "      <th>Minimum_Order</th>\n",
       "      <th>Rating</th>\n",
       "      <th>Votes</th>\n",
       "      <th>Reviews</th>\n",
       "      <th>Delivery_Time</th>\n",
       "      <th>MinOrder_Cleansed</th>\n",
       "      <th>Average_Cleansed</th>\n",
       "      <th>Location_Cleansed</th>\n",
       "      <th>Cuisines_Cleansed</th>\n",
       "      <th>Rating_Category</th>\n",
       "    </tr>\n",
       "  </thead>\n",
       "  <tbody>\n",
       "    <tr>\n",
       "      <th>0</th>\n",
       "      <td>ID_6321</td>\n",
       "      <td>FTI College, Law College Road, Pune</td>\n",
       "      <td>Fast Food, Rolls, Burger, Salad, Wraps</td>\n",
       "      <td>₹200</td>\n",
       "      <td>₹50</td>\n",
       "      <td>3.5</td>\n",
       "      <td>12.0</td>\n",
       "      <td>4.0</td>\n",
       "      <td>30 minutes</td>\n",
       "      <td>50</td>\n",
       "      <td>200</td>\n",
       "      <td>Pune</td>\n",
       "      <td>Fast Food</td>\n",
       "      <td>Good</td>\n",
       "    </tr>\n",
       "    <tr>\n",
       "      <th>1</th>\n",
       "      <td>ID_2882</td>\n",
       "      <td>Sector 3, Marathalli</td>\n",
       "      <td>Ice Cream, Desserts</td>\n",
       "      <td>₹100</td>\n",
       "      <td>₹50</td>\n",
       "      <td>3.5</td>\n",
       "      <td>11.0</td>\n",
       "      <td>4.0</td>\n",
       "      <td>30 minutes</td>\n",
       "      <td>50</td>\n",
       "      <td>100</td>\n",
       "      <td>Bangalore</td>\n",
       "      <td>Deserts</td>\n",
       "      <td>Good</td>\n",
       "    </tr>\n",
       "    <tr>\n",
       "      <th>2</th>\n",
       "      <td>ID_1595</td>\n",
       "      <td>Mumbai Central</td>\n",
       "      <td>Italian, Street Food, Fast Food</td>\n",
       "      <td>₹150</td>\n",
       "      <td>₹50</td>\n",
       "      <td>3.6</td>\n",
       "      <td>99.0</td>\n",
       "      <td>30.0</td>\n",
       "      <td>65 minutes</td>\n",
       "      <td>50</td>\n",
       "      <td>150</td>\n",
       "      <td>Mumbai</td>\n",
       "      <td>maincourse</td>\n",
       "      <td>Good</td>\n",
       "    </tr>\n",
       "    <tr>\n",
       "      <th>3</th>\n",
       "      <td>ID_5929</td>\n",
       "      <td>Sector 1, Noida</td>\n",
       "      <td>Mughlai, North Indian, Chinese</td>\n",
       "      <td>₹250</td>\n",
       "      <td>₹99</td>\n",
       "      <td>3.7</td>\n",
       "      <td>176.0</td>\n",
       "      <td>95.0</td>\n",
       "      <td>30 minutes</td>\n",
       "      <td>99</td>\n",
       "      <td>250</td>\n",
       "      <td>Noida</td>\n",
       "      <td>maincourse</td>\n",
       "      <td>Good</td>\n",
       "    </tr>\n",
       "    <tr>\n",
       "      <th>4</th>\n",
       "      <td>ID_6123</td>\n",
       "      <td>Rmz Centennial, I Gate, Whitefield</td>\n",
       "      <td>Cafe, Beverages</td>\n",
       "      <td>₹200</td>\n",
       "      <td>₹99</td>\n",
       "      <td>3.2</td>\n",
       "      <td>521.0</td>\n",
       "      <td>235.0</td>\n",
       "      <td>65 minutes</td>\n",
       "      <td>99</td>\n",
       "      <td>200</td>\n",
       "      <td>Bangalore</td>\n",
       "      <td>Fast Food</td>\n",
       "      <td>Average</td>\n",
       "    </tr>\n",
       "  </tbody>\n",
       "</table>\n",
       "</div>"
      ],
      "text/plain": [
       "  Restaurant                             Location  \\\n",
       "0    ID_6321  FTI College, Law College Road, Pune   \n",
       "1    ID_2882                 Sector 3, Marathalli   \n",
       "2    ID_1595                       Mumbai Central   \n",
       "3    ID_5929                      Sector 1, Noida   \n",
       "4    ID_6123   Rmz Centennial, I Gate, Whitefield   \n",
       "\n",
       "                                 Cuisines Average_Cost Minimum_Order  Rating  \\\n",
       "0  Fast Food, Rolls, Burger, Salad, Wraps         ₹200           ₹50     3.5   \n",
       "1                     Ice Cream, Desserts         ₹100           ₹50     3.5   \n",
       "2         Italian, Street Food, Fast Food         ₹150           ₹50     3.6   \n",
       "3          Mughlai, North Indian, Chinese         ₹250           ₹99     3.7   \n",
       "4                         Cafe, Beverages         ₹200           ₹99     3.2   \n",
       "\n",
       "   Votes  Reviews Delivery_Time MinOrder_Cleansed  Average_Cleansed  \\\n",
       "0   12.0      4.0    30 minutes                50               200   \n",
       "1   11.0      4.0    30 minutes                50               100   \n",
       "2   99.0     30.0    65 minutes                50               150   \n",
       "3  176.0     95.0    30 minutes                99               250   \n",
       "4  521.0    235.0    65 minutes                99               200   \n",
       "\n",
       "  Location_Cleansed Cuisines_Cleansed Rating_Category  \n",
       "0              Pune         Fast Food            Good  \n",
       "1         Bangalore           Deserts            Good  \n",
       "2            Mumbai        maincourse            Good  \n",
       "3             Noida        maincourse            Good  \n",
       "4         Bangalore         Fast Food         Average  "
      ]
     },
     "execution_count": 311,
     "metadata": {},
     "output_type": "execute_result"
    }
   ],
   "source": [
    "combined.head()"
   ]
  },
  {
   "cell_type": "code",
   "execution_count": null,
   "metadata": {},
   "outputs": [],
   "source": []
  },
  {
   "cell_type": "code",
   "execution_count": 312,
   "metadata": {},
   "outputs": [
    {
     "name": "stdout",
     "output_type": "stream",
     "text": [
      "<class 'pandas.core.frame.DataFrame'>\n",
      "RangeIndex: 13868 entries, 0 to 13867\n",
      "Data columns (total 14 columns):\n",
      "Restaurant           13868 non-null object\n",
      "Location             13868 non-null object\n",
      "Cuisines             13868 non-null object\n",
      "Average_Cost         13868 non-null object\n",
      "Minimum_Order        13868 non-null object\n",
      "Rating               13868 non-null float64\n",
      "Votes                13868 non-null float64\n",
      "Reviews              13868 non-null float64\n",
      "Delivery_Time        11094 non-null object\n",
      "MinOrder_Cleansed    13868 non-null object\n",
      "Average_Cleansed     13868 non-null int64\n",
      "Location_Cleansed    13868 non-null object\n",
      "Cuisines_Cleansed    13868 non-null object\n",
      "Rating_Category      13868 non-null object\n",
      "dtypes: float64(3), int64(1), object(10)\n",
      "memory usage: 1.5+ MB\n"
     ]
    }
   ],
   "source": [
    "combined.info()"
   ]
  },
  {
   "cell_type": "code",
   "execution_count": 313,
   "metadata": {},
   "outputs": [
    {
     "data": {
      "text/plain": [
       "array([3.5, 3.6, 3.7, 3.2, 3.8, 4. , 3.9, 4.2, 2.8, 3. , 3.3, 3.1, 4.7,\n",
       "       3.4, 4.1, 2.9, 4.6, 4.3, 2.6, 4.5, 4.4, 4.8, 2.4, 2.7, 2.5, 2.2,\n",
       "       4.9, 2.3, 2.1])"
      ]
     },
     "execution_count": 313,
     "metadata": {},
     "output_type": "execute_result"
    }
   ],
   "source": [
    "#Rating and Reviews \n",
    "combined.Rating.unique()"
   ]
  },
  {
   "cell_type": "code",
   "execution_count": null,
   "metadata": {},
   "outputs": [],
   "source": []
  },
  {
   "cell_type": "code",
   "execution_count": 314,
   "metadata": {},
   "outputs": [
    {
     "name": "stderr",
     "output_type": "stream",
     "text": [
      "C:\\Users\\SAAD KHAN\\Anaconda3\\lib\\site-packages\\pandas\\core\\ops.py:1649: FutureWarning: elementwise comparison failed; returning scalar instead, but in the future will perform elementwise comparison\n",
      "  result = method(y)\n"
     ]
    },
    {
     "data": {
      "text/html": [
       "<div>\n",
       "<style scoped>\n",
       "    .dataframe tbody tr th:only-of-type {\n",
       "        vertical-align: middle;\n",
       "    }\n",
       "\n",
       "    .dataframe tbody tr th {\n",
       "        vertical-align: top;\n",
       "    }\n",
       "\n",
       "    .dataframe thead th {\n",
       "        text-align: right;\n",
       "    }\n",
       "</style>\n",
       "<table border=\"1\" class=\"dataframe\">\n",
       "  <thead>\n",
       "    <tr style=\"text-align: right;\">\n",
       "      <th></th>\n",
       "      <th>Restaurant</th>\n",
       "      <th>Location</th>\n",
       "      <th>Cuisines</th>\n",
       "      <th>Average_Cost</th>\n",
       "      <th>Minimum_Order</th>\n",
       "      <th>Rating</th>\n",
       "      <th>Votes</th>\n",
       "      <th>Reviews</th>\n",
       "      <th>Delivery_Time</th>\n",
       "      <th>MinOrder_Cleansed</th>\n",
       "      <th>Average_Cleansed</th>\n",
       "      <th>Location_Cleansed</th>\n",
       "      <th>Cuisines_Cleansed</th>\n",
       "      <th>Rating_Category</th>\n",
       "    </tr>\n",
       "  </thead>\n",
       "  <tbody>\n",
       "  </tbody>\n",
       "</table>\n",
       "</div>"
      ],
      "text/plain": [
       "Empty DataFrame\n",
       "Columns: [Restaurant, Location, Cuisines, Average_Cost, Minimum_Order, Rating, Votes, Reviews, Delivery_Time, MinOrder_Cleansed, Average_Cleansed, Location_Cleansed, Cuisines_Cleansed, Rating_Category]\n",
       "Index: []"
      ]
     },
     "execution_count": 314,
     "metadata": {},
     "output_type": "execute_result"
    }
   ],
   "source": [
    "combined[combined.Rating==\"NEW\"].head()"
   ]
  },
  {
   "cell_type": "code",
   "execution_count": null,
   "metadata": {},
   "outputs": [],
   "source": []
  },
  {
   "cell_type": "code",
   "execution_count": 315,
   "metadata": {},
   "outputs": [],
   "source": [
    "#Rating convert into number \n",
    "combined.Rating = pd.to_numeric(combined.Rating,errors=\"coerce\") "
   ]
  },
  {
   "cell_type": "code",
   "execution_count": 316,
   "metadata": {},
   "outputs": [
    {
     "data": {
      "text/plain": [
       "count    13868.000000\n",
       "mean         3.608869\n",
       "std          0.374883\n",
       "min          2.100000\n",
       "25%          3.400000\n",
       "50%          3.600000\n",
       "75%          3.800000\n",
       "max          4.900000\n",
       "Name: Rating, dtype: float64"
      ]
     },
     "execution_count": 316,
     "metadata": {},
     "output_type": "execute_result"
    }
   ],
   "source": [
    "combined.Rating.describe()"
   ]
  },
  {
   "cell_type": "code",
   "execution_count": 317,
   "metadata": {},
   "outputs": [],
   "source": [
    "combined.Rating.fillna(value = 3.6,inplace=True)"
   ]
  },
  {
   "cell_type": "code",
   "execution_count": 318,
   "metadata": {},
   "outputs": [
    {
     "data": {
      "text/plain": [
       "array([4.000e+00, 3.000e+01, 9.500e+01, 2.350e+02, 1.800e+01, 3.100e+01,\n",
       "       1.235e+03, 2.600e+01, 2.940e+02, 6.100e+01, 1.239e+03, 1.280e+02,\n",
       "       5.000e+00, 5.300e+01, 4.700e+01, 4.600e+01, 2.300e+01, 1.600e+02,\n",
       "       2.000e+00, 1.000e+00, 3.800e+01, 9.000e+00, 1.900e+01, 7.000e+00,\n",
       "       1.320e+02, 7.400e+01, 1.300e+01, 1.110e+02, 4.990e+02, 2.900e+01,\n",
       "       3.400e+01, 8.510e+02, 5.130e+02, 2.200e+01, 2.700e+01, 3.200e+01,\n",
       "       2.500e+01, 3.700e+01, 8.000e+00, 3.500e+01, 6.000e+00, 1.730e+02,\n",
       "       3.600e+01, 1.500e+01, 1.740e+02, 1.100e+01, 5.900e+01, 1.600e+01,\n",
       "       8.900e+01, 1.700e+02, 1.000e+01, 1.660e+03, 7.100e+01, 4.100e+01,\n",
       "       2.000e+01, 4.000e+01, 3.000e+00, 1.910e+02, 1.050e+02, 1.000e+02,\n",
       "       1.060e+02, 2.100e+01, 6.500e+01, 6.900e+01, 2.547e+03, 1.590e+02,\n",
       "       1.100e+02, 4.200e+01, 1.810e+02, 1.090e+02, 1.790e+02, 4.900e+02,\n",
       "       2.800e+01, 3.430e+02, 1.180e+02, 6.900e+02, 7.200e+01, 2.960e+02,\n",
       "       3.300e+01, 1.640e+02, 5.000e+01, 1.290e+02, 1.581e+03, 2.340e+02,\n",
       "       4.500e+01, 2.363e+03, 2.400e+01, 1.150e+02, 1.200e+01, 1.380e+02,\n",
       "       1.750e+02, 3.900e+01, 6.600e+01, 1.603e+03, 1.443e+03, 3.900e+02,\n",
       "       1.080e+02, 1.457e+03, 1.120e+02, 1.070e+02, 2.590e+02, 2.690e+02,\n",
       "       5.200e+01, 1.960e+02, 7.940e+02, 5.890e+02, 4.800e+01, 1.450e+02,\n",
       "       5.360e+02, 2.470e+02, 1.700e+01, 4.900e+01, 2.450e+02, 8.700e+01,\n",
       "       8.300e+01, 5.400e+01, 4.530e+02, 3.180e+02, 9.900e+01, 2.050e+02,\n",
       "       1.650e+02, 1.845e+03, 7.660e+02, 1.140e+02, 4.400e+01, 5.100e+01,\n",
       "       1.040e+02, 4.780e+02, 7.000e+01, 2.320e+02, 4.350e+02, 1.400e+01,\n",
       "       6.590e+02, 5.540e+02, 3.990e+02, 7.700e+01, 8.800e+01, 5.030e+02,\n",
       "       5.500e+01, 5.700e+01, 8.550e+02, 3.010e+02, 3.050e+02, 9.400e+01,\n",
       "       3.360e+02, 3.070e+02, 1.369e+03, 7.600e+01, 1.240e+02, 1.131e+03,\n",
       "       1.550e+02, 9.000e+01, 3.660e+02, 2.560e+02, 7.390e+02, 6.400e+01,\n",
       "       3.510e+02, 1.410e+02, 1.690e+02, 1.210e+02, 2.400e+02, 5.560e+02,\n",
       "       2.200e+02, 5.020e+02, 8.000e+01, 1.760e+02, 6.910e+02, 1.020e+02,\n",
       "       6.210e+02, 3.100e+02, 3.910e+02, 1.420e+02, 7.210e+02, 5.600e+01,\n",
       "       1.890e+02, 1.390e+02, 1.062e+03, 9.700e+01, 7.410e+02, 5.650e+02,\n",
       "       9.720e+02, 9.800e+01, 1.870e+02, 3.140e+02, 6.000e+01, 1.360e+02,\n",
       "       2.140e+02, 1.670e+02, 1.230e+02, 6.700e+01, 5.720e+02, 1.710e+02,\n",
       "       1.830e+02, 8.400e+01, 2.520e+02, 1.200e+02, 1.190e+02, 7.580e+02,\n",
       "       2.580e+02, 1.990e+02, 2.870e+02, 6.200e+01, 5.790e+02, 4.550e+02,\n",
       "       1.310e+02, 8.450e+02, 1.270e+02, 9.060e+02, 1.948e+03, 4.650e+02,\n",
       "       1.430e+02, 1.673e+03, 1.174e+03, 4.840e+02, 1.520e+02, 2.480e+02,\n",
       "       2.360e+02, 2.040e+02, 8.500e+01, 2.070e+02, 6.090e+02, 2.310e+02,\n",
       "       1.150e+03, 6.710e+02, 3.220e+02, 1.095e+03, 2.330e+02, 4.300e+01,\n",
       "       6.680e+02, 2.570e+02, 1.580e+02, 3.720e+02, 2.850e+02, 2.150e+02,\n",
       "       9.500e+02, 3.570e+02, 1.930e+02, 2.600e+02, 8.990e+02, 1.260e+02,\n",
       "       3.350e+02, 1.415e+03, 2.490e+02, 2.430e+02, 2.540e+02, 2.410e+02,\n",
       "       2.680e+02, 1.160e+02, 5.470e+02, 5.800e+01, 6.300e+01, 1.276e+03,\n",
       "       9.410e+02, 8.100e+01, 1.880e+02, 8.490e+02, 7.900e+01, 6.960e+02,\n",
       "       3.170e+02, 4.000e+02, 1.480e+02, 8.600e+01, 1.680e+02, 1.010e+02,\n",
       "       1.530e+02, 1.356e+03, 7.800e+01, 2.420e+02, 7.280e+02, 6.504e+03,\n",
       "       8.600e+02, 2.260e+02, 2.300e+02, 2.060e+02, 1.260e+03, 3.200e+02,\n",
       "       1.840e+02, 9.860e+02, 5.600e+02, 1.720e+02, 6.800e+01, 9.600e+01,\n",
       "       7.510e+02, 5.450e+02, 2.020e+02, 3.989e+03, 4.230e+02, 1.370e+02,\n",
       "       4.320e+02, 5.390e+02, 6.750e+02, 2.780e+02, 5.740e+02, 1.770e+02,\n",
       "       1.130e+02, 4.100e+02, 3.600e+02, 4.050e+02, 2.359e+03, 9.380e+02,\n",
       "       1.170e+02, 1.133e+03, 8.190e+02, 1.211e+03, 2.240e+02, 9.100e+01,\n",
       "       4.260e+02, 3.580e+02, 3.620e+02, 8.920e+02, 2.080e+02, 5.810e+02,\n",
       "       6.520e+02, 1.962e+03, 9.810e+02, 1.250e+02, 3.250e+02, 2.100e+02,\n",
       "       1.470e+02, 9.250e+02, 4.370e+02, 5.930e+02, 2.510e+02, 2.920e+02,\n",
       "       2.380e+02, 7.300e+01, 2.250e+02, 3.870e+02, 6.810e+02, 9.650e+02,\n",
       "       1.330e+02, 3.700e+02, 4.500e+02, 1.630e+02, 1.540e+02, 3.820e+02,\n",
       "       5.800e+02, 2.010e+02, 5.180e+02, 2.620e+02, 6.260e+02, 2.311e+03,\n",
       "       1.336e+03, 2.576e+03, 5.690e+02, 2.440e+02, 2.730e+02, 5.300e+02,\n",
       "       1.631e+03, 4.590e+02, 3.040e+02, 1.570e+02, 1.306e+03, 3.830e+02,\n",
       "       2.720e+02, 2.460e+02, 1.030e+02, 2.280e+02, 1.780e+02, 1.510e+02,\n",
       "       1.860e+02, 4.720e+02, 1.350e+02, 1.370e+03, 5.630e+02, 2.224e+03,\n",
       "       4.440e+02, 1.138e+03, 6.500e+02, 1.920e+02, 4.070e+02, 5.400e+02,\n",
       "       9.300e+01, 3.030e+02, 1.112e+03, 2.640e+02, 4.850e+02, 1.950e+02,\n",
       "       5.840e+02, 3.410e+02, 9.770e+02, 2.167e+03, 1.067e+03, 5.660e+02,\n",
       "       2.120e+02, 2.220e+02, 2.770e+02, 2.910e+02, 3.060e+02, 6.470e+02,\n",
       "       4.240e+02, 4.210e+02, 4.610e+02, 2.370e+02, 6.000e+02, 5.820e+02,\n",
       "       2.126e+03, 4.950e+02, 8.200e+01, 1.617e+03, 2.340e+03, 3.640e+02,\n",
       "       1.300e+02, 1.031e+03, 2.900e+02, 2.640e+03, 2.171e+03, 7.720e+02,\n",
       "       1.875e+03, 1.002e+03, 7.710e+02, 1.914e+03, 2.190e+02, 8.300e+02,\n",
       "       3.460e+02, 2.500e+02, 2.820e+02, 3.280e+02, 5.270e+02, 7.500e+01,\n",
       "       1.164e+03, 1.804e+03, 5.120e+02, 4.090e+02, 3.690e+02, 2.550e+02,\n",
       "       3.190e+02, 5.250e+02, 9.230e+02, 2.760e+02, 4.060e+02, 2.110e+02,\n",
       "       1.400e+02, 1.061e+03, 2.290e+02, 2.490e+03, 9.970e+02, 6.330e+02,\n",
       "       1.440e+02, 9.260e+02, 4.640e+02, 1.289e+03, 1.200e+03, 3.520e+02,\n",
       "       4.970e+02, 2.650e+02, 2.990e+02, 1.605e+03, 6.620e+02, 4.360e+02,\n",
       "       1.479e+03, 7.360e+02, 8.090e+02, 2.090e+02, 8.050e+02, 1.220e+02,\n",
       "       3.530e+02, 3.371e+03, 3.440e+02, 2.303e+03, 3.230e+02, 1.850e+02,\n",
       "       1.708e+03, 6.990e+02, 4.120e+02, 4.390e+02, 1.191e+03, 1.961e+03,\n",
       "       5.480e+02, 1.005e+03, 7.070e+02, 2.790e+02, 1.500e+02, 5.060e+02,\n",
       "       1.589e+03, 3.880e+02, 1.340e+02, 5.380e+02, 3.400e+02, 9.990e+02,\n",
       "       1.560e+02, 3.550e+02, 4.570e+02, 2.217e+03, 3.380e+02, 2.212e+03,\n",
       "       8.870e+02, 7.770e+02, 1.444e+03, 6.350e+02, 9.710e+02, 1.490e+02,\n",
       "       2.970e+02, 3.930e+02, 1.165e+03, 3.970e+02, 1.319e+03, 1.460e+02,\n",
       "       2.180e+02, 1.940e+02, 4.820e+02, 4.310e+02, 3.850e+02, 3.940e+02,\n",
       "       1.818e+03, 9.830e+02, 1.967e+03, 1.501e+03, 1.538e+03, 2.740e+02,\n",
       "       2.931e+03, 2.270e+02, 3.080e+02, 2.660e+02, 3.420e+02, 8.150e+02,\n",
       "       5.440e+02, 5.000e+02, 4.340e+02, 1.079e+03, 5.670e+02, 6.340e+02,\n",
       "       2.210e+02, 1.091e+03, 2.808e+03, 3.770e+02, 9.920e+02, 1.199e+03,\n",
       "       6.030e+02, 4.670e+02, 3.480e+02, 2.036e+03, 7.260e+02, 4.380e+02,\n",
       "       3.890e+02, 7.340e+02, 1.510e+03, 4.980e+02, 1.971e+03, 1.970e+02,\n",
       "       4.630e+02, 5.320e+02, 1.318e+03, 8.850e+02, 1.046e+03, 1.412e+03,\n",
       "       1.509e+03, 3.810e+02, 3.470e+02, 2.700e+02, 2.084e+03, 4.150e+02,\n",
       "       1.116e+03, 1.084e+03, 1.429e+03, 3.240e+02, 6.510e+02, 3.340e+02,\n",
       "       3.840e+02, 1.093e+03, 8.970e+02, 1.532e+03, 1.798e+03, 5.330e+02,\n",
       "       4.710e+02, 1.159e+03, 2.530e+02, 6.670e+02, 2.630e+02, 1.819e+03,\n",
       "       2.454e+03, 1.992e+03, 1.610e+02, 7.630e+02, 2.143e+03, 5.558e+03,\n",
       "       5.530e+02, 2.203e+03, 8.760e+02, 3.800e+02, 2.230e+02, 1.980e+02,\n",
       "       5.080e+02, 2.810e+02, 2.649e+03, 5.710e+02, 1.172e+03, 7.670e+02,\n",
       "       5.290e+02, 7.740e+02, 6.060e+02, 4.170e+02, 2.724e+03, 1.820e+02,\n",
       "       8.720e+02, 3.320e+02, 2.170e+02, 1.508e+03, 5.870e+02, 3.290e+02,\n",
       "       1.616e+03, 2.930e+02, 1.900e+02, 2.936e+03, 9.200e+01, 1.130e+03,\n",
       "       9.910e+02, 7.190e+02, 3.120e+02, 3.330e+02, 2.922e+03, 8.580e+02,\n",
       "       4.580e+02, 8.400e+02, 1.213e+03, 1.251e+03, 6.950e+02, 4.130e+02,\n",
       "       5.110e+02, 1.263e+03, 1.877e+03, 1.135e+03, 1.246e+03, 2.800e+02,\n",
       "       8.230e+02, 8.480e+02, 8.950e+02, 4.740e+02, 3.710e+02, 9.370e+02,\n",
       "       5.190e+02, 2.940e+03, 2.130e+02, 7.430e+02, 1.317e+03, 2.155e+03,\n",
       "       8.000e+02, 3.680e+02, 8.830e+02, 5.160e+02, 7.140e+02, 3.920e+02,\n",
       "       2.000e+02, 3.130e+02, 1.620e+02, 8.880e+02, 3.750e+02, 1.464e+03,\n",
       "       6.820e+02, 1.641e+03, 3.540e+02, 7.050e+02, 6.550e+02, 4.460e+02,\n",
       "       4.680e+02, 8.960e+02, 3.310e+02, 3.337e+03, 3.500e+02, 1.357e+03,\n",
       "       9.470e+02, 6.040e+02, 4.140e+02, 9.670e+02, 3.790e+02, 9.520e+02,\n",
       "       1.979e+03, 7.640e+02, 8.010e+02, 3.090e+02, 1.956e+03, 6.640e+02,\n",
       "       1.252e+03, 1.028e+03, 4.660e+02, 5.430e+02, 4.480e+02, 6.020e+02,\n",
       "       1.148e+03, 5.140e+02, 7.480e+02, 2.503e+03, 3.610e+02, 3.020e+02,\n",
       "       9.590e+02, 7.810e+02, 2.567e+03, 5.100e+02, 1.009e+03, 3.590e+02,\n",
       "       4.940e+02, 1.734e+03, 3.390e+02, 3.260e+02, 6.250e+02, 1.329e+03,\n",
       "       2.880e+02, 4.490e+02, 2.098e+03, 2.031e+03, 5.610e+02, 3.160e+02,\n",
       "       3.210e+02, 2.890e+02, 4.300e+02, 5.200e+02, 6.460e+02, 6.770e+02,\n",
       "       5.590e+02, 8.180e+02, 9.950e+02, 2.710e+02, 6.300e+02, 5.280e+02,\n",
       "       6.050e+02, 1.224e+03, 7.040e+02, 5.770e+02, 4.750e+02, 4.560e+02,\n",
       "       1.225e+03, 1.161e+03, 4.190e+02, 3.019e+03, 4.410e+02, 1.660e+02,\n",
       "       2.750e+02, 5.750e+02, 2.146e+03, 1.073e+03, 4.020e+02, 8.890e+02,\n",
       "       1.800e+02, 7.610e+02, 3.753e+03, 7.880e+02, 4.180e+02, 1.787e+03,\n",
       "       8.750e+02, 2.610e+02, 2.390e+02, 5.500e+02, 4.760e+02, 1.353e+03,\n",
       "       6.280e+02, 4.966e+03, 7.100e+02, 7.370e+02, 4.920e+02, 5.150e+02,\n",
       "       5.580e+02, 3.780e+02, 1.414e+03, 1.890e+03, 4.770e+02, 1.681e+03,\n",
       "       5.700e+02, 4.220e+02, 2.483e+03, 5.490e+02, 4.040e+02, 6.270e+02,\n",
       "       2.950e+02, 7.520e+02, 2.830e+02, 1.409e+03, 2.174e+03, 1.392e+03,\n",
       "       5.420e+02, 1.183e+03, 2.980e+02, 3.730e+02, 4.510e+02, 5.680e+02,\n",
       "       2.540e+03, 1.439e+03, 4.400e+02, 6.480e+02, 6.010e+02, 1.085e+03,\n",
       "       5.410e+02, 4.290e+02, 9.220e+02, 8.940e+02, 4.520e+02, 7.180e+02,\n",
       "       5.940e+02, 8.650e+02, 2.910e+03, 1.313e+03, 2.030e+02, 3.110e+02,\n",
       "       9.000e+02, 1.723e+03, 3.670e+02, 6.200e+02, 3.718e+03, 3.760e+02,\n",
       "       6.370e+02, 1.520e+03, 9.960e+02, 3.503e+03, 1.905e+03, 1.636e+03,\n",
       "       2.421e+03, 8.280e+02, 1.340e+03, 3.950e+02, 3.863e+03, 7.310e+02])"
      ]
     },
     "execution_count": 318,
     "metadata": {},
     "output_type": "execute_result"
    }
   ],
   "source": [
    "#Reviews\n",
    "combined.Reviews.unique()"
   ]
  },
  {
   "cell_type": "code",
   "execution_count": 319,
   "metadata": {},
   "outputs": [],
   "source": [
    "combined.Reviews = pd.to_numeric(combined.Reviews,errors=\"coerce\") "
   ]
  },
  {
   "cell_type": "code",
   "execution_count": 320,
   "metadata": {},
   "outputs": [
    {
     "data": {
      "text/plain": [
       "count    13868.000000\n",
       "mean       101.015287\n",
       "std        283.239725\n",
       "min          1.000000\n",
       "25%         10.000000\n",
       "50%         26.000000\n",
       "75%         63.000000\n",
       "max       6504.000000\n",
       "Name: Reviews, dtype: float64"
      ]
     },
     "execution_count": 320,
     "metadata": {},
     "output_type": "execute_result"
    }
   ],
   "source": [
    "combined.Reviews.describe()"
   ]
  },
  {
   "cell_type": "code",
   "execution_count": 321,
   "metadata": {},
   "outputs": [],
   "source": [
    "combined.Reviews.fillna(value = 26,inplace=True)"
   ]
  },
  {
   "cell_type": "code",
   "execution_count": 322,
   "metadata": {},
   "outputs": [],
   "source": [
    "#Votes\n",
    "combined.Votes = pd.to_numeric(combined.Votes,errors=\"coerce\")"
   ]
  },
  {
   "cell_type": "code",
   "execution_count": 323,
   "metadata": {},
   "outputs": [
    {
     "data": {
      "text/plain": [
       "count    13868.000000\n",
       "mean       207.463441\n",
       "std        499.902608\n",
       "min          3.000000\n",
       "25%         25.000000\n",
       "50%         63.000000\n",
       "75%        156.000000\n",
       "max       9054.000000\n",
       "Name: Votes, dtype: float64"
      ]
     },
     "execution_count": 323,
     "metadata": {},
     "output_type": "execute_result"
    }
   ],
   "source": [
    "combined.Votes.describe()"
   ]
  },
  {
   "cell_type": "code",
   "execution_count": 324,
   "metadata": {},
   "outputs": [],
   "source": [
    "combined.Votes.fillna(value =63, inplace=True)"
   ]
  },
  {
   "cell_type": "code",
   "execution_count": 325,
   "metadata": {},
   "outputs": [],
   "source": [
    "#Rating Cat Function \n",
    "def rating_cat(x):\n",
    "    if(x>=4.5):\n",
    "        return(\"Excellent\")\n",
    "    elif(x>=4.0):\n",
    "        return(\"Very Good\")\n",
    "    elif(x>=3.5):\n",
    "        return(\"Good\")\n",
    "    elif(x>=3.0):\n",
    "        return(\"Average\")\n",
    "    else:\n",
    "        return(\"Poor\")"
   ]
  },
  {
   "cell_type": "code",
   "execution_count": 326,
   "metadata": {},
   "outputs": [],
   "source": [
    "combined['Rating_Category'] = combined.Rating.apply(rating_cat)"
   ]
  },
  {
   "cell_type": "code",
   "execution_count": 327,
   "metadata": {},
   "outputs": [
    {
     "data": {
      "text/html": [
       "<div>\n",
       "<style scoped>\n",
       "    .dataframe tbody tr th:only-of-type {\n",
       "        vertical-align: middle;\n",
       "    }\n",
       "\n",
       "    .dataframe tbody tr th {\n",
       "        vertical-align: top;\n",
       "    }\n",
       "\n",
       "    .dataframe thead th {\n",
       "        text-align: right;\n",
       "    }\n",
       "</style>\n",
       "<table border=\"1\" class=\"dataframe\">\n",
       "  <thead>\n",
       "    <tr style=\"text-align: right;\">\n",
       "      <th></th>\n",
       "      <th>Restaurant</th>\n",
       "      <th>Location</th>\n",
       "      <th>Cuisines</th>\n",
       "      <th>Average_Cost</th>\n",
       "      <th>Minimum_Order</th>\n",
       "      <th>Rating</th>\n",
       "      <th>Votes</th>\n",
       "      <th>Reviews</th>\n",
       "      <th>Delivery_Time</th>\n",
       "      <th>MinOrder_Cleansed</th>\n",
       "      <th>Average_Cleansed</th>\n",
       "      <th>Location_Cleansed</th>\n",
       "      <th>Cuisines_Cleansed</th>\n",
       "      <th>Rating_Category</th>\n",
       "    </tr>\n",
       "  </thead>\n",
       "  <tbody>\n",
       "    <tr>\n",
       "      <th>0</th>\n",
       "      <td>ID_6321</td>\n",
       "      <td>FTI College, Law College Road, Pune</td>\n",
       "      <td>Fast Food, Rolls, Burger, Salad, Wraps</td>\n",
       "      <td>₹200</td>\n",
       "      <td>₹50</td>\n",
       "      <td>3.5</td>\n",
       "      <td>12.0</td>\n",
       "      <td>4.0</td>\n",
       "      <td>30 minutes</td>\n",
       "      <td>50</td>\n",
       "      <td>200</td>\n",
       "      <td>Pune</td>\n",
       "      <td>Fast Food</td>\n",
       "      <td>Good</td>\n",
       "    </tr>\n",
       "    <tr>\n",
       "      <th>1</th>\n",
       "      <td>ID_2882</td>\n",
       "      <td>Sector 3, Marathalli</td>\n",
       "      <td>Ice Cream, Desserts</td>\n",
       "      <td>₹100</td>\n",
       "      <td>₹50</td>\n",
       "      <td>3.5</td>\n",
       "      <td>11.0</td>\n",
       "      <td>4.0</td>\n",
       "      <td>30 minutes</td>\n",
       "      <td>50</td>\n",
       "      <td>100</td>\n",
       "      <td>Bangalore</td>\n",
       "      <td>Deserts</td>\n",
       "      <td>Good</td>\n",
       "    </tr>\n",
       "    <tr>\n",
       "      <th>2</th>\n",
       "      <td>ID_1595</td>\n",
       "      <td>Mumbai Central</td>\n",
       "      <td>Italian, Street Food, Fast Food</td>\n",
       "      <td>₹150</td>\n",
       "      <td>₹50</td>\n",
       "      <td>3.6</td>\n",
       "      <td>99.0</td>\n",
       "      <td>30.0</td>\n",
       "      <td>65 minutes</td>\n",
       "      <td>50</td>\n",
       "      <td>150</td>\n",
       "      <td>Mumbai</td>\n",
       "      <td>maincourse</td>\n",
       "      <td>Good</td>\n",
       "    </tr>\n",
       "    <tr>\n",
       "      <th>3</th>\n",
       "      <td>ID_5929</td>\n",
       "      <td>Sector 1, Noida</td>\n",
       "      <td>Mughlai, North Indian, Chinese</td>\n",
       "      <td>₹250</td>\n",
       "      <td>₹99</td>\n",
       "      <td>3.7</td>\n",
       "      <td>176.0</td>\n",
       "      <td>95.0</td>\n",
       "      <td>30 minutes</td>\n",
       "      <td>99</td>\n",
       "      <td>250</td>\n",
       "      <td>Noida</td>\n",
       "      <td>maincourse</td>\n",
       "      <td>Good</td>\n",
       "    </tr>\n",
       "    <tr>\n",
       "      <th>4</th>\n",
       "      <td>ID_6123</td>\n",
       "      <td>Rmz Centennial, I Gate, Whitefield</td>\n",
       "      <td>Cafe, Beverages</td>\n",
       "      <td>₹200</td>\n",
       "      <td>₹99</td>\n",
       "      <td>3.2</td>\n",
       "      <td>521.0</td>\n",
       "      <td>235.0</td>\n",
       "      <td>65 minutes</td>\n",
       "      <td>99</td>\n",
       "      <td>200</td>\n",
       "      <td>Bangalore</td>\n",
       "      <td>Fast Food</td>\n",
       "      <td>Average</td>\n",
       "    </tr>\n",
       "  </tbody>\n",
       "</table>\n",
       "</div>"
      ],
      "text/plain": [
       "  Restaurant                             Location  \\\n",
       "0    ID_6321  FTI College, Law College Road, Pune   \n",
       "1    ID_2882                 Sector 3, Marathalli   \n",
       "2    ID_1595                       Mumbai Central   \n",
       "3    ID_5929                      Sector 1, Noida   \n",
       "4    ID_6123   Rmz Centennial, I Gate, Whitefield   \n",
       "\n",
       "                                 Cuisines Average_Cost Minimum_Order  Rating  \\\n",
       "0  Fast Food, Rolls, Burger, Salad, Wraps         ₹200           ₹50     3.5   \n",
       "1                     Ice Cream, Desserts         ₹100           ₹50     3.5   \n",
       "2         Italian, Street Food, Fast Food         ₹150           ₹50     3.6   \n",
       "3          Mughlai, North Indian, Chinese         ₹250           ₹99     3.7   \n",
       "4                         Cafe, Beverages         ₹200           ₹99     3.2   \n",
       "\n",
       "   Votes  Reviews Delivery_Time MinOrder_Cleansed  Average_Cleansed  \\\n",
       "0   12.0      4.0    30 minutes                50               200   \n",
       "1   11.0      4.0    30 minutes                50               100   \n",
       "2   99.0     30.0    65 minutes                50               150   \n",
       "3  176.0     95.0    30 minutes                99               250   \n",
       "4  521.0    235.0    65 minutes                99               200   \n",
       "\n",
       "  Location_Cleansed Cuisines_Cleansed Rating_Category  \n",
       "0              Pune         Fast Food            Good  \n",
       "1         Bangalore           Deserts            Good  \n",
       "2            Mumbai        maincourse            Good  \n",
       "3             Noida        maincourse            Good  \n",
       "4         Bangalore         Fast Food         Average  "
      ]
     },
     "execution_count": 327,
     "metadata": {},
     "output_type": "execute_result"
    }
   ],
   "source": [
    "#final data frame \n",
    "combined.head()"
   ]
  },
  {
   "cell_type": "markdown",
   "metadata": {},
   "source": [
    "## Feature -Restaurent Count"
   ]
  },
  {
   "cell_type": "code",
   "execution_count": 430,
   "metadata": {},
   "outputs": [
    {
     "data": {
      "text/plain": [
       "ID_5538    26\n",
       "ID_7184    25\n",
       "ID_2483    24\n",
       "ID_1209    23\n",
       "ID_4654    23\n",
       "ID_7295    23\n",
       "ID_5321    22\n",
       "ID_4625    21\n",
       "ID_7750    20\n",
       "ID_2301    20\n",
       "ID_1140    20\n",
       "ID_8511    19\n",
       "ID_5708    18\n",
       "ID_4906    17\n",
       "ID_188     17\n",
       "ID_3970    17\n",
       "ID_7564    17\n",
       "ID_720     16\n",
       "ID_694     16\n",
       "ID_7544    16\n",
       "ID_3969    16\n",
       "ID_2542    15\n",
       "ID_2402    14\n",
       "ID_6229    14\n",
       "ID_7260    14\n",
       "ID_5952    13\n",
       "ID_7501    12\n",
       "ID_2794    12\n",
       "ID_5885    12\n",
       "ID_4652    12\n",
       "           ..\n",
       "ID_2087     1\n",
       "ID_343      1\n",
       "ID_7002     1\n",
       "ID_2007     1\n",
       "ID_7492     1\n",
       "ID_1376     1\n",
       "ID_312      1\n",
       "ID_5069     1\n",
       "ID_736      1\n",
       "ID_2093     1\n",
       "ID_3359     1\n",
       "ID_8198     1\n",
       "ID_1950     1\n",
       "ID_3522     1\n",
       "ID_6177     1\n",
       "ID_5613     1\n",
       "ID_7640     1\n",
       "ID_4854     1\n",
       "ID_1067     1\n",
       "ID_7158     1\n",
       "ID_5486     1\n",
       "ID_5829     1\n",
       "ID_6499     1\n",
       "ID_8189     1\n",
       "ID_1832     1\n",
       "ID_4010     1\n",
       "ID_7354     1\n",
       "ID_7668     1\n",
       "ID_5149     1\n",
       "ID_126      1\n",
       "Name: Restaurant, Length: 8661, dtype: int64"
      ]
     },
     "execution_count": 430,
     "metadata": {},
     "output_type": "execute_result"
    }
   ],
   "source": [
    "combined.Restaurant.value_counts()"
   ]
  },
  {
   "cell_type": "code",
   "execution_count": 431,
   "metadata": {},
   "outputs": [],
   "source": [
    "combined[\"Rest_count\"]=combined.groupby(\"Restaurant\")[\"Restaurant\"].transform(\"count\")"
   ]
  },
  {
   "cell_type": "code",
   "execution_count": 432,
   "metadata": {},
   "outputs": [
    {
     "data": {
      "text/plain": [
       "count    13868.000000\n",
       "mean         2.883473\n",
       "std          3.707890\n",
       "min          1.000000\n",
       "25%          1.000000\n",
       "50%          2.000000\n",
       "75%          3.000000\n",
       "max         26.000000\n",
       "Name: Rest_count, dtype: float64"
      ]
     },
     "execution_count": 432,
     "metadata": {},
     "output_type": "execute_result"
    }
   ],
   "source": [
    "combined.Rest_count.describe()"
   ]
  },
  {
   "cell_type": "code",
   "execution_count": null,
   "metadata": {},
   "outputs": [],
   "source": [
    "#01- single outlet\n",
    "#uptill3 - Multiple outlates > 3 : chain "
   ]
  },
  {
   "cell_type": "code",
   "execution_count": 433,
   "metadata": {},
   "outputs": [],
   "source": [
    "def restcat(x):\n",
    "    if(x>3):\n",
    "        return(\"Chain\")\n",
    "    elif((x<=3) & (x>1)):\n",
    "        return(\"Multiple Outlets\")\n",
    "    else:\n",
    "        return(\"Single Outlets\")       "
   ]
  },
  {
   "cell_type": "code",
   "execution_count": 434,
   "metadata": {},
   "outputs": [],
   "source": [
    "combined[\"Rest_Category\"] = combined.Rest_count.apply(restcat) "
   ]
  },
  {
   "cell_type": "code",
   "execution_count": 435,
   "metadata": {},
   "outputs": [
    {
     "data": {
      "text/html": [
       "<div>\n",
       "<style scoped>\n",
       "    .dataframe tbody tr th:only-of-type {\n",
       "        vertical-align: middle;\n",
       "    }\n",
       "\n",
       "    .dataframe tbody tr th {\n",
       "        vertical-align: top;\n",
       "    }\n",
       "\n",
       "    .dataframe thead th {\n",
       "        text-align: right;\n",
       "    }\n",
       "</style>\n",
       "<table border=\"1\" class=\"dataframe\">\n",
       "  <thead>\n",
       "    <tr style=\"text-align: right;\">\n",
       "      <th></th>\n",
       "      <th>Restaurant</th>\n",
       "      <th>Location</th>\n",
       "      <th>Cuisines</th>\n",
       "      <th>Average_Cost</th>\n",
       "      <th>Minimum_Order</th>\n",
       "      <th>Rating</th>\n",
       "      <th>Votes</th>\n",
       "      <th>Reviews</th>\n",
       "      <th>Delivery_Time</th>\n",
       "      <th>MinOrder_Cleansed</th>\n",
       "      <th>Average_Cleansed</th>\n",
       "      <th>Location_Cleansed</th>\n",
       "      <th>Cuisines_Cleansed</th>\n",
       "      <th>Rating_Category</th>\n",
       "      <th>Rest_count</th>\n",
       "      <th>Rest_Category</th>\n",
       "    </tr>\n",
       "  </thead>\n",
       "  <tbody>\n",
       "    <tr>\n",
       "      <th>0</th>\n",
       "      <td>ID_6321</td>\n",
       "      <td>FTI College, Law College Road, Pune</td>\n",
       "      <td>Fast Food, Rolls, Burger, Salad, Wraps</td>\n",
       "      <td>₹200</td>\n",
       "      <td>₹50</td>\n",
       "      <td>3.5</td>\n",
       "      <td>12.0</td>\n",
       "      <td>4.0</td>\n",
       "      <td>30 minutes</td>\n",
       "      <td>50</td>\n",
       "      <td>200</td>\n",
       "      <td>Pune</td>\n",
       "      <td>Fast Food</td>\n",
       "      <td>Good</td>\n",
       "      <td>1</td>\n",
       "      <td>Single Outlets</td>\n",
       "    </tr>\n",
       "    <tr>\n",
       "      <th>1</th>\n",
       "      <td>ID_2882</td>\n",
       "      <td>Sector 3, Marathalli</td>\n",
       "      <td>Ice Cream, Desserts</td>\n",
       "      <td>₹100</td>\n",
       "      <td>₹50</td>\n",
       "      <td>3.5</td>\n",
       "      <td>11.0</td>\n",
       "      <td>4.0</td>\n",
       "      <td>30 minutes</td>\n",
       "      <td>50</td>\n",
       "      <td>100</td>\n",
       "      <td>Bangalore</td>\n",
       "      <td>Deserts</td>\n",
       "      <td>Good</td>\n",
       "      <td>6</td>\n",
       "      <td>Chain</td>\n",
       "    </tr>\n",
       "    <tr>\n",
       "      <th>2</th>\n",
       "      <td>ID_1595</td>\n",
       "      <td>Mumbai Central</td>\n",
       "      <td>Italian, Street Food, Fast Food</td>\n",
       "      <td>₹150</td>\n",
       "      <td>₹50</td>\n",
       "      <td>3.6</td>\n",
       "      <td>99.0</td>\n",
       "      <td>30.0</td>\n",
       "      <td>65 minutes</td>\n",
       "      <td>50</td>\n",
       "      <td>150</td>\n",
       "      <td>Mumbai</td>\n",
       "      <td>maincourse</td>\n",
       "      <td>Good</td>\n",
       "      <td>3</td>\n",
       "      <td>Multiple Outlets</td>\n",
       "    </tr>\n",
       "    <tr>\n",
       "      <th>3</th>\n",
       "      <td>ID_5929</td>\n",
       "      <td>Sector 1, Noida</td>\n",
       "      <td>Mughlai, North Indian, Chinese</td>\n",
       "      <td>₹250</td>\n",
       "      <td>₹99</td>\n",
       "      <td>3.7</td>\n",
       "      <td>176.0</td>\n",
       "      <td>95.0</td>\n",
       "      <td>30 minutes</td>\n",
       "      <td>99</td>\n",
       "      <td>250</td>\n",
       "      <td>Noida</td>\n",
       "      <td>maincourse</td>\n",
       "      <td>Good</td>\n",
       "      <td>2</td>\n",
       "      <td>Multiple Outlets</td>\n",
       "    </tr>\n",
       "    <tr>\n",
       "      <th>4</th>\n",
       "      <td>ID_6123</td>\n",
       "      <td>Rmz Centennial, I Gate, Whitefield</td>\n",
       "      <td>Cafe, Beverages</td>\n",
       "      <td>₹200</td>\n",
       "      <td>₹99</td>\n",
       "      <td>3.2</td>\n",
       "      <td>521.0</td>\n",
       "      <td>235.0</td>\n",
       "      <td>65 minutes</td>\n",
       "      <td>99</td>\n",
       "      <td>200</td>\n",
       "      <td>Bangalore</td>\n",
       "      <td>Fast Food</td>\n",
       "      <td>Average</td>\n",
       "      <td>1</td>\n",
       "      <td>Single Outlets</td>\n",
       "    </tr>\n",
       "  </tbody>\n",
       "</table>\n",
       "</div>"
      ],
      "text/plain": [
       "  Restaurant                             Location  \\\n",
       "0    ID_6321  FTI College, Law College Road, Pune   \n",
       "1    ID_2882                 Sector 3, Marathalli   \n",
       "2    ID_1595                       Mumbai Central   \n",
       "3    ID_5929                      Sector 1, Noida   \n",
       "4    ID_6123   Rmz Centennial, I Gate, Whitefield   \n",
       "\n",
       "                                 Cuisines Average_Cost Minimum_Order  Rating  \\\n",
       "0  Fast Food, Rolls, Burger, Salad, Wraps         ₹200           ₹50     3.5   \n",
       "1                     Ice Cream, Desserts         ₹100           ₹50     3.5   \n",
       "2         Italian, Street Food, Fast Food         ₹150           ₹50     3.6   \n",
       "3          Mughlai, North Indian, Chinese         ₹250           ₹99     3.7   \n",
       "4                         Cafe, Beverages         ₹200           ₹99     3.2   \n",
       "\n",
       "   Votes  Reviews Delivery_Time MinOrder_Cleansed  Average_Cleansed  \\\n",
       "0   12.0      4.0    30 minutes                50               200   \n",
       "1   11.0      4.0    30 minutes                50               100   \n",
       "2   99.0     30.0    65 minutes                50               150   \n",
       "3  176.0     95.0    30 minutes                99               250   \n",
       "4  521.0    235.0    65 minutes                99               200   \n",
       "\n",
       "  Location_Cleansed Cuisines_Cleansed Rating_Category  Rest_count  \\\n",
       "0              Pune         Fast Food            Good           1   \n",
       "1         Bangalore           Deserts            Good           6   \n",
       "2            Mumbai        maincourse            Good           3   \n",
       "3             Noida        maincourse            Good           2   \n",
       "4         Bangalore         Fast Food         Average           1   \n",
       "\n",
       "      Rest_Category  \n",
       "0    Single Outlets  \n",
       "1             Chain  \n",
       "2  Multiple Outlets  \n",
       "3  Multiple Outlets  \n",
       "4    Single Outlets  "
      ]
     },
     "execution_count": 435,
     "metadata": {},
     "output_type": "execute_result"
    }
   ],
   "source": [
    "combined.head()"
   ]
  },
  {
   "cell_type": "code",
   "execution_count": 436,
   "metadata": {},
   "outputs": [],
   "source": [
    "#split the data train and test \n",
    "newtrain = combined.loc[:train.shape[0]-1]"
   ]
  },
  {
   "cell_type": "code",
   "execution_count": 437,
   "metadata": {},
   "outputs": [
    {
     "data": {
      "text/plain": [
       "(11094, 16)"
      ]
     },
     "execution_count": 437,
     "metadata": {},
     "output_type": "execute_result"
    }
   ],
   "source": [
    "newtrain.shape"
   ]
  },
  {
   "cell_type": "code",
   "execution_count": 438,
   "metadata": {},
   "outputs": [],
   "source": [
    "newtest = combined.loc[11094:combined.shape[0]:] "
   ]
  },
  {
   "cell_type": "code",
   "execution_count": 439,
   "metadata": {},
   "outputs": [
    {
     "data": {
      "text/plain": [
       "(2774, 16)"
      ]
     },
     "execution_count": 439,
     "metadata": {},
     "output_type": "execute_result"
    }
   ],
   "source": [
    "newtest.shape"
   ]
  },
  {
   "cell_type": "code",
   "execution_count": 440,
   "metadata": {},
   "outputs": [
    {
     "data": {
      "text/plain": [
       "Index(['Restaurant', 'Location', 'Cuisines', 'Average_Cost', 'Minimum_Order',\n",
       "       'Rating', 'Votes', 'Reviews', 'Delivery_Time', 'MinOrder_Cleansed',\n",
       "       'Average_Cleansed', 'Location_Cleansed', 'Cuisines_Cleansed',\n",
       "       'Rating_Category', 'Rest_count', 'Rest_Category'],\n",
       "      dtype='object')"
      ]
     },
     "execution_count": 440,
     "metadata": {},
     "output_type": "execute_result"
    }
   ],
   "source": [
    "newtrain.columns "
   ]
  },
  {
   "cell_type": "code",
   "execution_count": 441,
   "metadata": {},
   "outputs": [],
   "source": [
    "train_new = newtrain.drop(['Restaurant', 'Location', 'Cuisines', 'Average_Cost', 'Minimum_Order'],\n",
    "                         axis=1)"
   ]
  },
  {
   "cell_type": "code",
   "execution_count": 442,
   "metadata": {},
   "outputs": [
    {
     "data": {
      "text/plain": [
       "Index(['Restaurant', 'Location', 'Cuisines', 'Average_Cost', 'Minimum_Order',\n",
       "       'Rating', 'Votes', 'Reviews', 'Delivery_Time', 'MinOrder_Cleansed',\n",
       "       'Average_Cleansed', 'Location_Cleansed', 'Cuisines_Cleansed',\n",
       "       'Rating_Category', 'Rest_count', 'Rest_Category'],\n",
       "      dtype='object')"
      ]
     },
     "execution_count": 442,
     "metadata": {},
     "output_type": "execute_result"
    }
   ],
   "source": [
    "newtest.columns"
   ]
  },
  {
   "cell_type": "code",
   "execution_count": 443,
   "metadata": {},
   "outputs": [],
   "source": [
    "test_new = newtest.drop(['Restaurant', 'Location', 'Cuisines', 'Average_Cost', 'Minimum_Order','Delivery_Time'],\n",
    "                         axis=1)"
   ]
  },
  {
   "cell_type": "code",
   "execution_count": 445,
   "metadata": {},
   "outputs": [
    {
     "data": {
      "text/html": [
       "<div>\n",
       "<style scoped>\n",
       "    .dataframe tbody tr th:only-of-type {\n",
       "        vertical-align: middle;\n",
       "    }\n",
       "\n",
       "    .dataframe tbody tr th {\n",
       "        vertical-align: top;\n",
       "    }\n",
       "\n",
       "    .dataframe thead th {\n",
       "        text-align: right;\n",
       "    }\n",
       "</style>\n",
       "<table border=\"1\" class=\"dataframe\">\n",
       "  <thead>\n",
       "    <tr style=\"text-align: right;\">\n",
       "      <th></th>\n",
       "      <th>Rating</th>\n",
       "      <th>Votes</th>\n",
       "      <th>Reviews</th>\n",
       "      <th>Delivery_Time</th>\n",
       "      <th>MinOrder_Cleansed</th>\n",
       "      <th>Average_Cleansed</th>\n",
       "      <th>Location_Cleansed</th>\n",
       "      <th>Cuisines_Cleansed</th>\n",
       "      <th>Rating_Category</th>\n",
       "      <th>Rest_count</th>\n",
       "      <th>Rest_Category</th>\n",
       "    </tr>\n",
       "  </thead>\n",
       "  <tbody>\n",
       "    <tr>\n",
       "      <th>0</th>\n",
       "      <td>3.5</td>\n",
       "      <td>12.0</td>\n",
       "      <td>4.0</td>\n",
       "      <td>30 minutes</td>\n",
       "      <td>50</td>\n",
       "      <td>200</td>\n",
       "      <td>Pune</td>\n",
       "      <td>Fast Food</td>\n",
       "      <td>Good</td>\n",
       "      <td>1</td>\n",
       "      <td>Single Outlets</td>\n",
       "    </tr>\n",
       "    <tr>\n",
       "      <th>1</th>\n",
       "      <td>3.5</td>\n",
       "      <td>11.0</td>\n",
       "      <td>4.0</td>\n",
       "      <td>30 minutes</td>\n",
       "      <td>50</td>\n",
       "      <td>100</td>\n",
       "      <td>Bangalore</td>\n",
       "      <td>Deserts</td>\n",
       "      <td>Good</td>\n",
       "      <td>6</td>\n",
       "      <td>Chain</td>\n",
       "    </tr>\n",
       "    <tr>\n",
       "      <th>2</th>\n",
       "      <td>3.6</td>\n",
       "      <td>99.0</td>\n",
       "      <td>30.0</td>\n",
       "      <td>65 minutes</td>\n",
       "      <td>50</td>\n",
       "      <td>150</td>\n",
       "      <td>Mumbai</td>\n",
       "      <td>maincourse</td>\n",
       "      <td>Good</td>\n",
       "      <td>3</td>\n",
       "      <td>Multiple Outlets</td>\n",
       "    </tr>\n",
       "    <tr>\n",
       "      <th>3</th>\n",
       "      <td>3.7</td>\n",
       "      <td>176.0</td>\n",
       "      <td>95.0</td>\n",
       "      <td>30 minutes</td>\n",
       "      <td>99</td>\n",
       "      <td>250</td>\n",
       "      <td>Noida</td>\n",
       "      <td>maincourse</td>\n",
       "      <td>Good</td>\n",
       "      <td>2</td>\n",
       "      <td>Multiple Outlets</td>\n",
       "    </tr>\n",
       "    <tr>\n",
       "      <th>4</th>\n",
       "      <td>3.2</td>\n",
       "      <td>521.0</td>\n",
       "      <td>235.0</td>\n",
       "      <td>65 minutes</td>\n",
       "      <td>99</td>\n",
       "      <td>200</td>\n",
       "      <td>Bangalore</td>\n",
       "      <td>Fast Food</td>\n",
       "      <td>Average</td>\n",
       "      <td>1</td>\n",
       "      <td>Single Outlets</td>\n",
       "    </tr>\n",
       "  </tbody>\n",
       "</table>\n",
       "</div>"
      ],
      "text/plain": [
       "   Rating  Votes  Reviews Delivery_Time MinOrder_Cleansed  Average_Cleansed  \\\n",
       "0     3.5   12.0      4.0    30 minutes                50               200   \n",
       "1     3.5   11.0      4.0    30 minutes                50               100   \n",
       "2     3.6   99.0     30.0    65 minutes                50               150   \n",
       "3     3.7  176.0     95.0    30 minutes                99               250   \n",
       "4     3.2  521.0    235.0    65 minutes                99               200   \n",
       "\n",
       "  Location_Cleansed Cuisines_Cleansed Rating_Category  Rest_count  \\\n",
       "0              Pune         Fast Food            Good           1   \n",
       "1         Bangalore           Deserts            Good           6   \n",
       "2            Mumbai        maincourse            Good           3   \n",
       "3             Noida        maincourse            Good           2   \n",
       "4         Bangalore         Fast Food         Average           1   \n",
       "\n",
       "      Rest_Category  \n",
       "0    Single Outlets  \n",
       "1             Chain  \n",
       "2  Multiple Outlets  \n",
       "3  Multiple Outlets  \n",
       "4    Single Outlets  "
      ]
     },
     "execution_count": 445,
     "metadata": {},
     "output_type": "execute_result"
    }
   ],
   "source": [
    "train_new.head()"
   ]
  },
  {
   "cell_type": "code",
   "execution_count": 446,
   "metadata": {},
   "outputs": [],
   "source": [
    "#now we have to do lable encoding on Delivery_Time \n",
    "#and apply stats test "
   ]
  },
  {
   "cell_type": "markdown",
   "metadata": {},
   "source": [
    "### problem statement- i want to find out if the rating has an impat on the delivery time \n",
    "\n",
    "#### null hypothesis\n",
    "H0= there is no impact on delivery time vs rating \n",
    "\n",
    "#### alternate hypothesis \n",
    "H1: There is impact on delivery time vs rating in other words the delivery time is impacting by rating \n",
    "\n",
    "#### chose the level of significance \n",
    "\n",
    "los = 0.95 and alpha = 0.05\n",
    "\n",
    "#### test of significancse - anova | F test \n",
    "\n",
    "sice one columne is numerical and another column is categorical in nature \n",
    "\n",
    "#### inference Rule :\n",
    "\n",
    "if the P value is less than 0.05 then we reject the H0 and accept the H1.\n"
   ]
  },
  {
   "cell_type": "code",
   "execution_count": 447,
   "metadata": {},
   "outputs": [],
   "source": [
    "import scipy.stats as stats\n",
    "import statsmodels.api as sms          #anova table library \n",
    "from statsmodels.formula.api import ols # regression model "
   ]
  },
  {
   "cell_type": "code",
   "execution_count": 448,
   "metadata": {},
   "outputs": [],
   "source": [
    "#lets fit ols \n",
    "model = ols(\"Rating~Delivery_Time\",data=train_new).fit()"
   ]
  },
  {
   "cell_type": "code",
   "execution_count": 449,
   "metadata": {},
   "outputs": [
    {
     "data": {
      "text/html": [
       "<div>\n",
       "<style scoped>\n",
       "    .dataframe tbody tr th:only-of-type {\n",
       "        vertical-align: middle;\n",
       "    }\n",
       "\n",
       "    .dataframe tbody tr th {\n",
       "        vertical-align: top;\n",
       "    }\n",
       "\n",
       "    .dataframe thead th {\n",
       "        text-align: right;\n",
       "    }\n",
       "</style>\n",
       "<table border=\"1\" class=\"dataframe\">\n",
       "  <thead>\n",
       "    <tr style=\"text-align: right;\">\n",
       "      <th></th>\n",
       "      <th>df</th>\n",
       "      <th>sum_sq</th>\n",
       "      <th>mean_sq</th>\n",
       "      <th>F</th>\n",
       "      <th>PR(&gt;F)</th>\n",
       "    </tr>\n",
       "  </thead>\n",
       "  <tbody>\n",
       "    <tr>\n",
       "      <th>Delivery_Time</th>\n",
       "      <td>6.0</td>\n",
       "      <td>51.471247</td>\n",
       "      <td>8.578541</td>\n",
       "      <td>62.727838</td>\n",
       "      <td>7.136598e-77</td>\n",
       "    </tr>\n",
       "    <tr>\n",
       "      <th>Residual</th>\n",
       "      <td>11087.0</td>\n",
       "      <td>1516.237260</td>\n",
       "      <td>0.136758</td>\n",
       "      <td>NaN</td>\n",
       "      <td>NaN</td>\n",
       "    </tr>\n",
       "  </tbody>\n",
       "</table>\n",
       "</div>"
      ],
      "text/plain": [
       "                    df       sum_sq   mean_sq          F        PR(>F)\n",
       "Delivery_Time      6.0    51.471247  8.578541  62.727838  7.136598e-77\n",
       "Residual       11087.0  1516.237260  0.136758        NaN           NaN"
      ]
     },
     "execution_count": 449,
     "metadata": {},
     "output_type": "execute_result"
    }
   ],
   "source": [
    "#Anova \n",
    "sms.stats.anova_lm(model) "
   ]
  },
  {
   "cell_type": "markdown",
   "metadata": {},
   "source": [
    "summry of the tests \n",
    "\n",
    "1. if the column are numerical in nature and no population metric is given then T test is and ideal test. \n",
    "\n",
    "2. if one column is numrical and other column is categorical in nature then the variance can be explained by applying Anova.\n",
    "\n",
    "3. if the both the column are categorical in nature then we apply the chi squre test of goodness of fit."
   ]
  },
  {
   "cell_type": "code",
   "execution_count": 450,
   "metadata": {},
   "outputs": [
    {
     "data": {
      "text/html": [
       "<div>\n",
       "<style scoped>\n",
       "    .dataframe tbody tr th:only-of-type {\n",
       "        vertical-align: middle;\n",
       "    }\n",
       "\n",
       "    .dataframe tbody tr th {\n",
       "        vertical-align: top;\n",
       "    }\n",
       "\n",
       "    .dataframe thead th {\n",
       "        text-align: right;\n",
       "    }\n",
       "</style>\n",
       "<table border=\"1\" class=\"dataframe\">\n",
       "  <thead>\n",
       "    <tr style=\"text-align: right;\">\n",
       "      <th></th>\n",
       "      <th>Rating</th>\n",
       "      <th>Votes</th>\n",
       "      <th>Reviews</th>\n",
       "      <th>Delivery_Time</th>\n",
       "      <th>MinOrder_Cleansed</th>\n",
       "      <th>Average_Cleansed</th>\n",
       "      <th>Location_Cleansed</th>\n",
       "      <th>Cuisines_Cleansed</th>\n",
       "      <th>Rating_Category</th>\n",
       "      <th>Rest_count</th>\n",
       "      <th>Rest_Category</th>\n",
       "    </tr>\n",
       "  </thead>\n",
       "  <tbody>\n",
       "    <tr>\n",
       "      <th>0</th>\n",
       "      <td>3.5</td>\n",
       "      <td>12.0</td>\n",
       "      <td>4.0</td>\n",
       "      <td>30 minutes</td>\n",
       "      <td>50</td>\n",
       "      <td>200</td>\n",
       "      <td>Pune</td>\n",
       "      <td>Fast Food</td>\n",
       "      <td>Good</td>\n",
       "      <td>1</td>\n",
       "      <td>Single Outlets</td>\n",
       "    </tr>\n",
       "    <tr>\n",
       "      <th>1</th>\n",
       "      <td>3.5</td>\n",
       "      <td>11.0</td>\n",
       "      <td>4.0</td>\n",
       "      <td>30 minutes</td>\n",
       "      <td>50</td>\n",
       "      <td>100</td>\n",
       "      <td>Bangalore</td>\n",
       "      <td>Deserts</td>\n",
       "      <td>Good</td>\n",
       "      <td>6</td>\n",
       "      <td>Chain</td>\n",
       "    </tr>\n",
       "    <tr>\n",
       "      <th>2</th>\n",
       "      <td>3.6</td>\n",
       "      <td>99.0</td>\n",
       "      <td>30.0</td>\n",
       "      <td>65 minutes</td>\n",
       "      <td>50</td>\n",
       "      <td>150</td>\n",
       "      <td>Mumbai</td>\n",
       "      <td>maincourse</td>\n",
       "      <td>Good</td>\n",
       "      <td>3</td>\n",
       "      <td>Multiple Outlets</td>\n",
       "    </tr>\n",
       "    <tr>\n",
       "      <th>3</th>\n",
       "      <td>3.7</td>\n",
       "      <td>176.0</td>\n",
       "      <td>95.0</td>\n",
       "      <td>30 minutes</td>\n",
       "      <td>99</td>\n",
       "      <td>250</td>\n",
       "      <td>Noida</td>\n",
       "      <td>maincourse</td>\n",
       "      <td>Good</td>\n",
       "      <td>2</td>\n",
       "      <td>Multiple Outlets</td>\n",
       "    </tr>\n",
       "    <tr>\n",
       "      <th>4</th>\n",
       "      <td>3.2</td>\n",
       "      <td>521.0</td>\n",
       "      <td>235.0</td>\n",
       "      <td>65 minutes</td>\n",
       "      <td>99</td>\n",
       "      <td>200</td>\n",
       "      <td>Bangalore</td>\n",
       "      <td>Fast Food</td>\n",
       "      <td>Average</td>\n",
       "      <td>1</td>\n",
       "      <td>Single Outlets</td>\n",
       "    </tr>\n",
       "  </tbody>\n",
       "</table>\n",
       "</div>"
      ],
      "text/plain": [
       "   Rating  Votes  Reviews Delivery_Time MinOrder_Cleansed  Average_Cleansed  \\\n",
       "0     3.5   12.0      4.0    30 minutes                50               200   \n",
       "1     3.5   11.0      4.0    30 minutes                50               100   \n",
       "2     3.6   99.0     30.0    65 minutes                50               150   \n",
       "3     3.7  176.0     95.0    30 minutes                99               250   \n",
       "4     3.2  521.0    235.0    65 minutes                99               200   \n",
       "\n",
       "  Location_Cleansed Cuisines_Cleansed Rating_Category  Rest_count  \\\n",
       "0              Pune         Fast Food            Good           1   \n",
       "1         Bangalore           Deserts            Good           6   \n",
       "2            Mumbai        maincourse            Good           3   \n",
       "3             Noida        maincourse            Good           2   \n",
       "4         Bangalore         Fast Food         Average           1   \n",
       "\n",
       "      Rest_Category  \n",
       "0    Single Outlets  \n",
       "1             Chain  \n",
       "2  Multiple Outlets  \n",
       "3  Multiple Outlets  \n",
       "4    Single Outlets  "
      ]
     },
     "execution_count": 450,
     "metadata": {},
     "output_type": "execute_result"
    }
   ],
   "source": [
    "train_new.head()"
   ]
  },
  {
   "cell_type": "markdown",
   "metadata": {},
   "source": [
    "### Introduction Of Ensembles \n",
    "\n",
    "1. Normally in any ML problem we have train and test set but we have now validation set .\n",
    "\n",
    "2. Ensembles is nothing but combination of ML model.\n"
   ]
  },
  {
   "cell_type": "code",
   "execution_count": 451,
   "metadata": {},
   "outputs": [],
   "source": [
    "#Dealing with target variable \n",
    "from sklearn.preprocessing import StandardScaler, LabelEncoder"
   ]
  },
  {
   "cell_type": "code",
   "execution_count": 452,
   "metadata": {},
   "outputs": [],
   "source": [
    "le = LabelEncoder()#Created a machine called le that has label encoder "
   ]
  },
  {
   "cell_type": "code",
   "execution_count": 453,
   "metadata": {},
   "outputs": [],
   "source": [
    "train_new['Delivery_TimeCoded']= le.fit_transform(train_new.Delivery_Time) "
   ]
  },
  {
   "cell_type": "code",
   "execution_count": 456,
   "metadata": {},
   "outputs": [
    {
     "data": {
      "text/plain": [
       "Rating                0\n",
       "Votes                 0\n",
       "Reviews               0\n",
       "Delivery_Time         0\n",
       "MinOrder_Cleansed     0\n",
       "Average_Cleansed      0\n",
       "Location_Cleansed     0\n",
       "Cuisines_Cleansed     0\n",
       "Rating_Category       0\n",
       "Rest_count            0\n",
       "Rest_Category         0\n",
       "Delivery_TimeCoded    0\n",
       "dtype: int64"
      ]
     },
     "execution_count": 456,
     "metadata": {},
     "output_type": "execute_result"
    }
   ],
   "source": [
    "train_new.isnull().sum()"
   ]
  },
  {
   "cell_type": "code",
   "execution_count": 454,
   "metadata": {},
   "outputs": [],
   "source": [
    "#Drop the feature Deliery Time \n",
    "finaltrain = train_new.drop(\"Delivery_Time\",axis=1) "
   ]
  },
  {
   "cell_type": "code",
   "execution_count": 455,
   "metadata": {},
   "outputs": [
    {
     "name": "stdout",
     "output_type": "stream",
     "text": [
      "<class 'pandas.core.frame.DataFrame'>\n",
      "RangeIndex: 11094 entries, 0 to 11093\n",
      "Data columns (total 11 columns):\n",
      "Rating                11094 non-null float64\n",
      "Votes                 11094 non-null float64\n",
      "Reviews               11094 non-null float64\n",
      "MinOrder_Cleansed     11094 non-null object\n",
      "Average_Cleansed      11094 non-null int64\n",
      "Location_Cleansed     11094 non-null object\n",
      "Cuisines_Cleansed     11094 non-null object\n",
      "Rating_Category       11094 non-null object\n",
      "Rest_count            11094 non-null int64\n",
      "Rest_Category         11094 non-null object\n",
      "Delivery_TimeCoded    11094 non-null int32\n",
      "dtypes: float64(3), int32(1), int64(2), object(5)\n",
      "memory usage: 910.1+ KB\n"
     ]
    }
   ],
   "source": [
    "finaltrain.info() "
   ]
  },
  {
   "cell_type": "code",
   "execution_count": 457,
   "metadata": {},
   "outputs": [],
   "source": [
    "#Applying one hot encodding \n",
    "dummytrain = pd.get_dummies(finaltrain) "
   ]
  },
  {
   "cell_type": "code",
   "execution_count": 458,
   "metadata": {},
   "outputs": [
    {
     "name": "stdout",
     "output_type": "stream",
     "text": [
      "(11094, 11)\n",
      "(11094, 44)\n"
     ]
    }
   ],
   "source": [
    "print(finaltrain.shape)\n",
    "print(dummytrain.shape)"
   ]
  },
  {
   "cell_type": "code",
   "execution_count": 459,
   "metadata": {},
   "outputs": [
    {
     "data": {
      "text/html": [
       "<div>\n",
       "<style scoped>\n",
       "    .dataframe tbody tr th:only-of-type {\n",
       "        vertical-align: middle;\n",
       "    }\n",
       "\n",
       "    .dataframe tbody tr th {\n",
       "        vertical-align: top;\n",
       "    }\n",
       "\n",
       "    .dataframe thead th {\n",
       "        text-align: right;\n",
       "    }\n",
       "</style>\n",
       "<table border=\"1\" class=\"dataframe\">\n",
       "  <thead>\n",
       "    <tr style=\"text-align: right;\">\n",
       "      <th></th>\n",
       "      <th>Rating</th>\n",
       "      <th>Votes</th>\n",
       "      <th>Reviews</th>\n",
       "      <th>MinOrder_Cleansed</th>\n",
       "      <th>Average_Cleansed</th>\n",
       "      <th>Location_Cleansed</th>\n",
       "      <th>Cuisines_Cleansed</th>\n",
       "      <th>Rating_Category</th>\n",
       "      <th>Rest_count</th>\n",
       "      <th>Rest_Category</th>\n",
       "      <th>Delivery_TimeCoded</th>\n",
       "    </tr>\n",
       "  </thead>\n",
       "  <tbody>\n",
       "    <tr>\n",
       "      <th>0</th>\n",
       "      <td>3.5</td>\n",
       "      <td>12.0</td>\n",
       "      <td>4.0</td>\n",
       "      <td>50</td>\n",
       "      <td>200</td>\n",
       "      <td>Pune</td>\n",
       "      <td>Fast Food</td>\n",
       "      <td>Good</td>\n",
       "      <td>1</td>\n",
       "      <td>Single Outlets</td>\n",
       "      <td>3</td>\n",
       "    </tr>\n",
       "    <tr>\n",
       "      <th>1</th>\n",
       "      <td>3.5</td>\n",
       "      <td>11.0</td>\n",
       "      <td>4.0</td>\n",
       "      <td>50</td>\n",
       "      <td>100</td>\n",
       "      <td>Bangalore</td>\n",
       "      <td>Deserts</td>\n",
       "      <td>Good</td>\n",
       "      <td>6</td>\n",
       "      <td>Chain</td>\n",
       "      <td>3</td>\n",
       "    </tr>\n",
       "    <tr>\n",
       "      <th>2</th>\n",
       "      <td>3.6</td>\n",
       "      <td>99.0</td>\n",
       "      <td>30.0</td>\n",
       "      <td>50</td>\n",
       "      <td>150</td>\n",
       "      <td>Mumbai</td>\n",
       "      <td>maincourse</td>\n",
       "      <td>Good</td>\n",
       "      <td>3</td>\n",
       "      <td>Multiple Outlets</td>\n",
       "      <td>5</td>\n",
       "    </tr>\n",
       "    <tr>\n",
       "      <th>3</th>\n",
       "      <td>3.7</td>\n",
       "      <td>176.0</td>\n",
       "      <td>95.0</td>\n",
       "      <td>99</td>\n",
       "      <td>250</td>\n",
       "      <td>Noida</td>\n",
       "      <td>maincourse</td>\n",
       "      <td>Good</td>\n",
       "      <td>2</td>\n",
       "      <td>Multiple Outlets</td>\n",
       "      <td>3</td>\n",
       "    </tr>\n",
       "    <tr>\n",
       "      <th>4</th>\n",
       "      <td>3.2</td>\n",
       "      <td>521.0</td>\n",
       "      <td>235.0</td>\n",
       "      <td>99</td>\n",
       "      <td>200</td>\n",
       "      <td>Bangalore</td>\n",
       "      <td>Fast Food</td>\n",
       "      <td>Average</td>\n",
       "      <td>1</td>\n",
       "      <td>Single Outlets</td>\n",
       "      <td>5</td>\n",
       "    </tr>\n",
       "  </tbody>\n",
       "</table>\n",
       "</div>"
      ],
      "text/plain": [
       "   Rating  Votes  Reviews MinOrder_Cleansed  Average_Cleansed  \\\n",
       "0     3.5   12.0      4.0                50               200   \n",
       "1     3.5   11.0      4.0                50               100   \n",
       "2     3.6   99.0     30.0                50               150   \n",
       "3     3.7  176.0     95.0                99               250   \n",
       "4     3.2  521.0    235.0                99               200   \n",
       "\n",
       "  Location_Cleansed Cuisines_Cleansed Rating_Category  Rest_count  \\\n",
       "0              Pune         Fast Food            Good           1   \n",
       "1         Bangalore           Deserts            Good           6   \n",
       "2            Mumbai        maincourse            Good           3   \n",
       "3             Noida        maincourse            Good           2   \n",
       "4         Bangalore         Fast Food         Average           1   \n",
       "\n",
       "      Rest_Category  Delivery_TimeCoded  \n",
       "0    Single Outlets                   3  \n",
       "1             Chain                   3  \n",
       "2  Multiple Outlets                   5  \n",
       "3  Multiple Outlets                   3  \n",
       "4    Single Outlets                   5  "
      ]
     },
     "execution_count": 459,
     "metadata": {},
     "output_type": "execute_result"
    }
   ],
   "source": [
    "finaltrain.head()"
   ]
  },
  {
   "cell_type": "code",
   "execution_count": 460,
   "metadata": {},
   "outputs": [
    {
     "data": {
      "text/html": [
       "<div>\n",
       "<style scoped>\n",
       "    .dataframe tbody tr th:only-of-type {\n",
       "        vertical-align: middle;\n",
       "    }\n",
       "\n",
       "    .dataframe tbody tr th {\n",
       "        vertical-align: top;\n",
       "    }\n",
       "\n",
       "    .dataframe thead th {\n",
       "        text-align: right;\n",
       "    }\n",
       "</style>\n",
       "<table border=\"1\" class=\"dataframe\">\n",
       "  <thead>\n",
       "    <tr style=\"text-align: right;\">\n",
       "      <th></th>\n",
       "      <th>Rating</th>\n",
       "      <th>Votes</th>\n",
       "      <th>Reviews</th>\n",
       "      <th>Average_Cleansed</th>\n",
       "      <th>Rest_count</th>\n",
       "      <th>Delivery_TimeCoded</th>\n",
       "      <th>MinOrder_Cleansed_0</th>\n",
       "      <th>MinOrder_Cleansed_150</th>\n",
       "      <th>MinOrder_Cleansed_199</th>\n",
       "      <th>MinOrder_Cleansed_200</th>\n",
       "      <th>...</th>\n",
       "      <th>Cuisines_Cleansed_Fast Food</th>\n",
       "      <th>Cuisines_Cleansed_maincourse</th>\n",
       "      <th>Rating_Category_Average</th>\n",
       "      <th>Rating_Category_Excellent</th>\n",
       "      <th>Rating_Category_Good</th>\n",
       "      <th>Rating_Category_Poor</th>\n",
       "      <th>Rating_Category_Very Good</th>\n",
       "      <th>Rest_Category_Chain</th>\n",
       "      <th>Rest_Category_Multiple Outlets</th>\n",
       "      <th>Rest_Category_Single Outlets</th>\n",
       "    </tr>\n",
       "  </thead>\n",
       "  <tbody>\n",
       "    <tr>\n",
       "      <th>0</th>\n",
       "      <td>3.5</td>\n",
       "      <td>12.0</td>\n",
       "      <td>4.0</td>\n",
       "      <td>200</td>\n",
       "      <td>1</td>\n",
       "      <td>3</td>\n",
       "      <td>0</td>\n",
       "      <td>0</td>\n",
       "      <td>0</td>\n",
       "      <td>0</td>\n",
       "      <td>...</td>\n",
       "      <td>1</td>\n",
       "      <td>0</td>\n",
       "      <td>0</td>\n",
       "      <td>0</td>\n",
       "      <td>1</td>\n",
       "      <td>0</td>\n",
       "      <td>0</td>\n",
       "      <td>0</td>\n",
       "      <td>0</td>\n",
       "      <td>1</td>\n",
       "    </tr>\n",
       "    <tr>\n",
       "      <th>1</th>\n",
       "      <td>3.5</td>\n",
       "      <td>11.0</td>\n",
       "      <td>4.0</td>\n",
       "      <td>100</td>\n",
       "      <td>6</td>\n",
       "      <td>3</td>\n",
       "      <td>0</td>\n",
       "      <td>0</td>\n",
       "      <td>0</td>\n",
       "      <td>0</td>\n",
       "      <td>...</td>\n",
       "      <td>0</td>\n",
       "      <td>0</td>\n",
       "      <td>0</td>\n",
       "      <td>0</td>\n",
       "      <td>1</td>\n",
       "      <td>0</td>\n",
       "      <td>0</td>\n",
       "      <td>1</td>\n",
       "      <td>0</td>\n",
       "      <td>0</td>\n",
       "    </tr>\n",
       "    <tr>\n",
       "      <th>2</th>\n",
       "      <td>3.6</td>\n",
       "      <td>99.0</td>\n",
       "      <td>30.0</td>\n",
       "      <td>150</td>\n",
       "      <td>3</td>\n",
       "      <td>5</td>\n",
       "      <td>0</td>\n",
       "      <td>0</td>\n",
       "      <td>0</td>\n",
       "      <td>0</td>\n",
       "      <td>...</td>\n",
       "      <td>0</td>\n",
       "      <td>1</td>\n",
       "      <td>0</td>\n",
       "      <td>0</td>\n",
       "      <td>1</td>\n",
       "      <td>0</td>\n",
       "      <td>0</td>\n",
       "      <td>0</td>\n",
       "      <td>1</td>\n",
       "      <td>0</td>\n",
       "    </tr>\n",
       "    <tr>\n",
       "      <th>3</th>\n",
       "      <td>3.7</td>\n",
       "      <td>176.0</td>\n",
       "      <td>95.0</td>\n",
       "      <td>250</td>\n",
       "      <td>2</td>\n",
       "      <td>3</td>\n",
       "      <td>0</td>\n",
       "      <td>0</td>\n",
       "      <td>0</td>\n",
       "      <td>0</td>\n",
       "      <td>...</td>\n",
       "      <td>0</td>\n",
       "      <td>1</td>\n",
       "      <td>0</td>\n",
       "      <td>0</td>\n",
       "      <td>1</td>\n",
       "      <td>0</td>\n",
       "      <td>0</td>\n",
       "      <td>0</td>\n",
       "      <td>1</td>\n",
       "      <td>0</td>\n",
       "    </tr>\n",
       "    <tr>\n",
       "      <th>4</th>\n",
       "      <td>3.2</td>\n",
       "      <td>521.0</td>\n",
       "      <td>235.0</td>\n",
       "      <td>200</td>\n",
       "      <td>1</td>\n",
       "      <td>5</td>\n",
       "      <td>0</td>\n",
       "      <td>0</td>\n",
       "      <td>0</td>\n",
       "      <td>0</td>\n",
       "      <td>...</td>\n",
       "      <td>1</td>\n",
       "      <td>0</td>\n",
       "      <td>1</td>\n",
       "      <td>0</td>\n",
       "      <td>0</td>\n",
       "      <td>0</td>\n",
       "      <td>0</td>\n",
       "      <td>0</td>\n",
       "      <td>0</td>\n",
       "      <td>1</td>\n",
       "    </tr>\n",
       "  </tbody>\n",
       "</table>\n",
       "<p>5 rows × 44 columns</p>\n",
       "</div>"
      ],
      "text/plain": [
       "   Rating  Votes  Reviews  Average_Cleansed  Rest_count  Delivery_TimeCoded  \\\n",
       "0     3.5   12.0      4.0               200           1                   3   \n",
       "1     3.5   11.0      4.0               100           6                   3   \n",
       "2     3.6   99.0     30.0               150           3                   5   \n",
       "3     3.7  176.0     95.0               250           2                   3   \n",
       "4     3.2  521.0    235.0               200           1                   5   \n",
       "\n",
       "   MinOrder_Cleansed_0  MinOrder_Cleansed_150  MinOrder_Cleansed_199  \\\n",
       "0                    0                      0                      0   \n",
       "1                    0                      0                      0   \n",
       "2                    0                      0                      0   \n",
       "3                    0                      0                      0   \n",
       "4                    0                      0                      0   \n",
       "\n",
       "   MinOrder_Cleansed_200  ...  Cuisines_Cleansed_Fast Food  \\\n",
       "0                      0  ...                            1   \n",
       "1                      0  ...                            0   \n",
       "2                      0  ...                            0   \n",
       "3                      0  ...                            0   \n",
       "4                      0  ...                            1   \n",
       "\n",
       "   Cuisines_Cleansed_maincourse  Rating_Category_Average  \\\n",
       "0                             0                        0   \n",
       "1                             0                        0   \n",
       "2                             1                        0   \n",
       "3                             1                        0   \n",
       "4                             0                        1   \n",
       "\n",
       "   Rating_Category_Excellent  Rating_Category_Good  Rating_Category_Poor  \\\n",
       "0                          0                     1                     0   \n",
       "1                          0                     1                     0   \n",
       "2                          0                     1                     0   \n",
       "3                          0                     1                     0   \n",
       "4                          0                     0                     0   \n",
       "\n",
       "   Rating_Category_Very Good  Rest_Category_Chain  \\\n",
       "0                          0                    0   \n",
       "1                          0                    1   \n",
       "2                          0                    0   \n",
       "3                          0                    0   \n",
       "4                          0                    0   \n",
       "\n",
       "   Rest_Category_Multiple Outlets  Rest_Category_Single Outlets  \n",
       "0                               0                             1  \n",
       "1                               0                             0  \n",
       "2                               1                             0  \n",
       "3                               1                             0  \n",
       "4                               0                             1  \n",
       "\n",
       "[5 rows x 44 columns]"
      ]
     },
     "execution_count": 460,
     "metadata": {},
     "output_type": "execute_result"
    }
   ],
   "source": [
    "dummytrain.head()"
   ]
  },
  {
   "cell_type": "code",
   "execution_count": 461,
   "metadata": {},
   "outputs": [],
   "source": [
    "#now split the data in train and test \n",
    "from sklearn.model_selection import train_test_split "
   ]
  },
  {
   "cell_type": "code",
   "execution_count": 462,
   "metadata": {},
   "outputs": [],
   "source": [
    "x = dummytrain.drop(\"Delivery_TimeCoded\",axis=1)\n",
    "y = dummytrain.Delivery_TimeCoded"
   ]
  },
  {
   "cell_type": "code",
   "execution_count": 463,
   "metadata": {},
   "outputs": [],
   "source": [
    "xtrain,xtest,ytrain,ytest = train_test_split(x,y,\n",
    "                                           test_size = 0.20,\n",
    "                                           random_state = 123)"
   ]
  },
  {
   "cell_type": "code",
   "execution_count": 464,
   "metadata": {},
   "outputs": [],
   "source": [
    "#Scaling the data set \n",
    "from sklearn.preprocessing import StandardScaler"
   ]
  },
  {
   "cell_type": "code",
   "execution_count": 465,
   "metadata": {},
   "outputs": [],
   "source": [
    "sc = StandardScaler()"
   ]
  },
  {
   "cell_type": "code",
   "execution_count": 466,
   "metadata": {},
   "outputs": [],
   "source": [
    "scaled_train = pd.DataFrame(sc.fit_transform(xtrain), columns = xtrain.columns) "
   ]
  },
  {
   "cell_type": "code",
   "execution_count": 467,
   "metadata": {},
   "outputs": [],
   "source": [
    "xtest = pd.DataFrame(sc.transform(xtest),columns = xtest.columns)"
   ]
  },
  {
   "cell_type": "code",
   "execution_count": 468,
   "metadata": {},
   "outputs": [
    {
     "data": {
      "text/html": [
       "<div>\n",
       "<style scoped>\n",
       "    .dataframe tbody tr th:only-of-type {\n",
       "        vertical-align: middle;\n",
       "    }\n",
       "\n",
       "    .dataframe tbody tr th {\n",
       "        vertical-align: top;\n",
       "    }\n",
       "\n",
       "    .dataframe thead th {\n",
       "        text-align: right;\n",
       "    }\n",
       "</style>\n",
       "<table border=\"1\" class=\"dataframe\">\n",
       "  <thead>\n",
       "    <tr style=\"text-align: right;\">\n",
       "      <th></th>\n",
       "      <th>Rating</th>\n",
       "      <th>Votes</th>\n",
       "      <th>Reviews</th>\n",
       "      <th>Average_Cleansed</th>\n",
       "      <th>Rest_count</th>\n",
       "      <th>MinOrder_Cleansed_0</th>\n",
       "      <th>MinOrder_Cleansed_150</th>\n",
       "      <th>MinOrder_Cleansed_199</th>\n",
       "      <th>MinOrder_Cleansed_200</th>\n",
       "      <th>MinOrder_Cleansed_240</th>\n",
       "      <th>...</th>\n",
       "      <th>Cuisines_Cleansed_Fast Food</th>\n",
       "      <th>Cuisines_Cleansed_maincourse</th>\n",
       "      <th>Rating_Category_Average</th>\n",
       "      <th>Rating_Category_Excellent</th>\n",
       "      <th>Rating_Category_Good</th>\n",
       "      <th>Rating_Category_Poor</th>\n",
       "      <th>Rating_Category_Very Good</th>\n",
       "      <th>Rest_Category_Chain</th>\n",
       "      <th>Rest_Category_Multiple Outlets</th>\n",
       "      <th>Rest_Category_Single Outlets</th>\n",
       "    </tr>\n",
       "  </thead>\n",
       "  <tbody>\n",
       "    <tr>\n",
       "      <th>0</th>\n",
       "      <td>-0.036508</td>\n",
       "      <td>0.014104</td>\n",
       "      <td>-0.004227</td>\n",
       "      <td>-0.027581</td>\n",
       "      <td>0.036273</td>\n",
       "      <td>-0.120489</td>\n",
       "      <td>0.0</td>\n",
       "      <td>-0.02601</td>\n",
       "      <td>-0.02601</td>\n",
       "      <td>0.0</td>\n",
       "      <td>...</td>\n",
       "      <td>-0.640195</td>\n",
       "      <td>0.772155</td>\n",
       "      <td>-0.551185</td>\n",
       "      <td>-0.129328</td>\n",
       "      <td>0.917842</td>\n",
       "      <td>-0.22399</td>\n",
       "      <td>-0.436436</td>\n",
       "      <td>-0.463775</td>\n",
       "      <td>1.216162</td>\n",
       "      <td>-0.850274</td>\n",
       "    </tr>\n",
       "    <tr>\n",
       "      <th>1</th>\n",
       "      <td>-0.300793</td>\n",
       "      <td>-0.210916</td>\n",
       "      <td>-0.210371</td>\n",
       "      <td>0.734977</td>\n",
       "      <td>-0.503420</td>\n",
       "      <td>-0.120489</td>\n",
       "      <td>0.0</td>\n",
       "      <td>-0.02601</td>\n",
       "      <td>-0.02601</td>\n",
       "      <td>0.0</td>\n",
       "      <td>...</td>\n",
       "      <td>-0.640195</td>\n",
       "      <td>0.772155</td>\n",
       "      <td>-0.551185</td>\n",
       "      <td>-0.129328</td>\n",
       "      <td>0.917842</td>\n",
       "      <td>-0.22399</td>\n",
       "      <td>-0.436436</td>\n",
       "      <td>-0.463775</td>\n",
       "      <td>-0.822259</td>\n",
       "      <td>1.176091</td>\n",
       "    </tr>\n",
       "    <tr>\n",
       "      <th>2</th>\n",
       "      <td>-1.622216</td>\n",
       "      <td>-0.298878</td>\n",
       "      <td>-0.270793</td>\n",
       "      <td>-0.027581</td>\n",
       "      <td>3.814125</td>\n",
       "      <td>-0.120489</td>\n",
       "      <td>0.0</td>\n",
       "      <td>-0.02601</td>\n",
       "      <td>-0.02601</td>\n",
       "      <td>0.0</td>\n",
       "      <td>...</td>\n",
       "      <td>-0.640195</td>\n",
       "      <td>0.772155</td>\n",
       "      <td>1.814273</td>\n",
       "      <td>-0.129328</td>\n",
       "      <td>-1.089513</td>\n",
       "      <td>-0.22399</td>\n",
       "      <td>-0.436436</td>\n",
       "      <td>2.156216</td>\n",
       "      <td>-0.822259</td>\n",
       "      <td>-0.850274</td>\n",
       "    </tr>\n",
       "    <tr>\n",
       "      <th>3</th>\n",
       "      <td>1.813484</td>\n",
       "      <td>0.083656</td>\n",
       "      <td>0.066857</td>\n",
       "      <td>-0.027581</td>\n",
       "      <td>-0.233573</td>\n",
       "      <td>-0.120489</td>\n",
       "      <td>0.0</td>\n",
       "      <td>-0.02601</td>\n",
       "      <td>-0.02601</td>\n",
       "      <td>0.0</td>\n",
       "      <td>...</td>\n",
       "      <td>-0.640195</td>\n",
       "      <td>0.772155</td>\n",
       "      <td>-0.551185</td>\n",
       "      <td>-0.129328</td>\n",
       "      <td>-1.089513</td>\n",
       "      <td>-0.22399</td>\n",
       "      <td>2.291288</td>\n",
       "      <td>-0.463775</td>\n",
       "      <td>1.216162</td>\n",
       "      <td>-0.850274</td>\n",
       "    </tr>\n",
       "    <tr>\n",
       "      <th>4</th>\n",
       "      <td>0.756345</td>\n",
       "      <td>0.230942</td>\n",
       "      <td>0.226797</td>\n",
       "      <td>-0.027581</td>\n",
       "      <td>0.306120</td>\n",
       "      <td>-0.120489</td>\n",
       "      <td>0.0</td>\n",
       "      <td>-0.02601</td>\n",
       "      <td>-0.02601</td>\n",
       "      <td>0.0</td>\n",
       "      <td>...</td>\n",
       "      <td>-0.640195</td>\n",
       "      <td>0.772155</td>\n",
       "      <td>-0.551185</td>\n",
       "      <td>-0.129328</td>\n",
       "      <td>0.917842</td>\n",
       "      <td>-0.22399</td>\n",
       "      <td>-0.436436</td>\n",
       "      <td>2.156216</td>\n",
       "      <td>-0.822259</td>\n",
       "      <td>-0.850274</td>\n",
       "    </tr>\n",
       "  </tbody>\n",
       "</table>\n",
       "<p>5 rows × 43 columns</p>\n",
       "</div>"
      ],
      "text/plain": [
       "     Rating     Votes   Reviews  Average_Cleansed  Rest_count  \\\n",
       "0 -0.036508  0.014104 -0.004227         -0.027581    0.036273   \n",
       "1 -0.300793 -0.210916 -0.210371          0.734977   -0.503420   \n",
       "2 -1.622216 -0.298878 -0.270793         -0.027581    3.814125   \n",
       "3  1.813484  0.083656  0.066857         -0.027581   -0.233573   \n",
       "4  0.756345  0.230942  0.226797         -0.027581    0.306120   \n",
       "\n",
       "   MinOrder_Cleansed_0  MinOrder_Cleansed_150  MinOrder_Cleansed_199  \\\n",
       "0            -0.120489                    0.0               -0.02601   \n",
       "1            -0.120489                    0.0               -0.02601   \n",
       "2            -0.120489                    0.0               -0.02601   \n",
       "3            -0.120489                    0.0               -0.02601   \n",
       "4            -0.120489                    0.0               -0.02601   \n",
       "\n",
       "   MinOrder_Cleansed_200  MinOrder_Cleansed_240  ...  \\\n",
       "0               -0.02601                    0.0  ...   \n",
       "1               -0.02601                    0.0  ...   \n",
       "2               -0.02601                    0.0  ...   \n",
       "3               -0.02601                    0.0  ...   \n",
       "4               -0.02601                    0.0  ...   \n",
       "\n",
       "   Cuisines_Cleansed_Fast Food  Cuisines_Cleansed_maincourse  \\\n",
       "0                    -0.640195                      0.772155   \n",
       "1                    -0.640195                      0.772155   \n",
       "2                    -0.640195                      0.772155   \n",
       "3                    -0.640195                      0.772155   \n",
       "4                    -0.640195                      0.772155   \n",
       "\n",
       "   Rating_Category_Average  Rating_Category_Excellent  Rating_Category_Good  \\\n",
       "0                -0.551185                  -0.129328              0.917842   \n",
       "1                -0.551185                  -0.129328              0.917842   \n",
       "2                 1.814273                  -0.129328             -1.089513   \n",
       "3                -0.551185                  -0.129328             -1.089513   \n",
       "4                -0.551185                  -0.129328              0.917842   \n",
       "\n",
       "   Rating_Category_Poor  Rating_Category_Very Good  Rest_Category_Chain  \\\n",
       "0              -0.22399                  -0.436436            -0.463775   \n",
       "1              -0.22399                  -0.436436            -0.463775   \n",
       "2              -0.22399                  -0.436436             2.156216   \n",
       "3              -0.22399                   2.291288            -0.463775   \n",
       "4              -0.22399                  -0.436436             2.156216   \n",
       "\n",
       "   Rest_Category_Multiple Outlets  Rest_Category_Single Outlets  \n",
       "0                        1.216162                     -0.850274  \n",
       "1                       -0.822259                      1.176091  \n",
       "2                       -0.822259                     -0.850274  \n",
       "3                        1.216162                     -0.850274  \n",
       "4                       -0.822259                     -0.850274  \n",
       "\n",
       "[5 rows x 43 columns]"
      ]
     },
     "execution_count": 468,
     "metadata": {},
     "output_type": "execute_result"
    }
   ],
   "source": [
    "scaled_train.head()"
   ]
  },
  {
   "cell_type": "code",
   "execution_count": 469,
   "metadata": {},
   "outputs": [],
   "source": [
    "# KNN model \n",
    "from sklearn.neighbors import KNeighborsClassifier"
   ]
  },
  {
   "cell_type": "code",
   "execution_count": 470,
   "metadata": {},
   "outputs": [],
   "source": [
    "knn = KNeighborsClassifier()"
   ]
  },
  {
   "cell_type": "code",
   "execution_count": 471,
   "metadata": {},
   "outputs": [],
   "source": [
    "#prediction \n",
    "pred_knn = knn.fit(scaled_train, ytrain).predict(xtest) "
   ]
  },
  {
   "cell_type": "code",
   "execution_count": 472,
   "metadata": {},
   "outputs": [],
   "source": [
    "#checking the metrics \n",
    "from sklearn.metrics import accuracy_score, cohen_kappa_score, matthews_corrcoef"
   ]
  },
  {
   "cell_type": "code",
   "execution_count": 473,
   "metadata": {},
   "outputs": [
    {
     "name": "stdout",
     "output_type": "stream",
     "text": [
      "The accuracy score is 0.6962595763857593\n",
      "the kappa score is  0.28006011348779536\n",
      "the mcc is  0.2907051166816518\n"
     ]
    }
   ],
   "source": [
    "print(\"The accuracy score is\", accuracy_score(ytest, pred_knn))\n",
    "print(\"the kappa score is \", cohen_kappa_score(ytest, pred_knn))\n",
    "print(\"the mcc is \", matthews_corrcoef(ytest, pred_knn))"
   ]
  },
  {
   "cell_type": "code",
   "execution_count": 474,
   "metadata": {},
   "outputs": [],
   "source": [
    "#random Forest \n",
    "from sklearn.ensemble import RandomForestClassifier\n",
    "rf = RandomForestClassifier(criterion=\"entropy\") "
   ]
  },
  {
   "cell_type": "code",
   "execution_count": 475,
   "metadata": {},
   "outputs": [
    {
     "name": "stderr",
     "output_type": "stream",
     "text": [
      "C:\\Users\\SAAD KHAN\\Anaconda3\\lib\\site-packages\\sklearn\\ensemble\\forest.py:245: FutureWarning: The default value of n_estimators will change from 10 in version 0.20 to 100 in 0.22.\n",
      "  \"10 in version 0.20 to 100 in 0.22.\", FutureWarning)\n"
     ]
    }
   ],
   "source": [
    "pred_rf = rf.fit(scaled_train, ytrain).predict(xtest) "
   ]
  },
  {
   "cell_type": "code",
   "execution_count": 477,
   "metadata": {},
   "outputs": [
    {
     "name": "stdout",
     "output_type": "stream",
     "text": [
      "The accuracy score is 0.8003605227579991\n",
      "the kappa score is  0.5600321891533474\n",
      "the mcc is  0.5634123616759561\n"
     ]
    }
   ],
   "source": [
    "print(\"The accuracy score is\", accuracy_score(ytest, pred_rf))\n",
    "print(\"the kappa score is \", cohen_kappa_score(ytest, pred_rf))\n",
    "print(\"the mcc is \", matthews_corrcoef(ytest, pred_rf) )"
   ]
  },
  {
   "cell_type": "code",
   "execution_count": 478,
   "metadata": {},
   "outputs": [],
   "source": [
    "#Dtree \n",
    "from sklearn.tree import DecisionTreeClassifier\n",
    "dtree = DecisionTreeClassifier(criterion=\"entropy\")"
   ]
  },
  {
   "cell_type": "code",
   "execution_count": 479,
   "metadata": {},
   "outputs": [],
   "source": [
    "pred_dtree = dtree.fit(scaled_train, ytrain).predict(xtest) "
   ]
  },
  {
   "cell_type": "code",
   "execution_count": 480,
   "metadata": {},
   "outputs": [
    {
     "name": "stdout",
     "output_type": "stream",
     "text": [
      "The accuracy score is 0.7611536728255971\n",
      "the kappa score is  0.5099140650458679\n",
      "the mcc is  0.5100677535563354\n"
     ]
    }
   ],
   "source": [
    "print(\"The accuracy score is\", accuracy_score(ytest, pred_dtree))\n",
    "print(\"the kappa score is \", cohen_kappa_score(ytest, pred_dtree))\n",
    "print(\"the mcc is \", matthews_corrcoef(ytest, pred_dtree) )"
   ]
  },
  {
   "cell_type": "markdown",
   "metadata": {},
   "source": [
    "## Voting Classifier \n",
    "\n",
    "it is a ensemble "
   ]
  },
  {
   "cell_type": "code",
   "execution_count": 481,
   "metadata": {},
   "outputs": [],
   "source": [
    "#Ensemble techniqe is use when there is varience in data \n",
    "#Boosting Voting classifer \n",
    "#there are two type of voting hard voting and soft voting\n",
    "#hard voting is nothing but mode \n",
    "#In soft work on probability "
   ]
  },
  {
   "cell_type": "code",
   "execution_count": 482,
   "metadata": {},
   "outputs": [],
   "source": [
    "# Ensemble Model - Voting Classifier with hard\n",
    "from sklearn.ensemble import VotingClassifier\n",
    "vc = VotingClassifier(estimators=[(\"KNN\", knn), (\"Tree\", dtree),\n",
    "                                  (\"Random\", rf)]) "
   ]
  },
  {
   "cell_type": "code",
   "execution_count": 483,
   "metadata": {},
   "outputs": [],
   "source": [
    "pred_vc =vc.fit(scaled_train, ytrain).predict(xtest) "
   ]
  },
  {
   "cell_type": "code",
   "execution_count": 484,
   "metadata": {},
   "outputs": [
    {
     "name": "stdout",
     "output_type": "stream",
     "text": [
      "The accuracy score is 0.7981072555205048\n",
      "the kappa score is  0.5356881969730656\n",
      "the mcc is  0.5472116317207049\n"
     ]
    }
   ],
   "source": [
    "print(\"The accuracy score is\", accuracy_score(ytest, pred_vc))\n",
    "print(\"the kappa score is \", cohen_kappa_score(ytest, pred_vc))\n",
    "print(\"the mcc is \", matthews_corrcoef(ytest, pred_vc))"
   ]
  },
  {
   "cell_type": "code",
   "execution_count": 485,
   "metadata": {},
   "outputs": [],
   "source": [
    "#Soft Voting \n",
    "from sklearn.ensemble import VotingClassifier\n",
    "vc = VotingClassifier(estimators=[(\"KNN\", knn), (\"Tree\", dtree),\n",
    "                                  (\"Random\", rf)], voting='soft') "
   ]
  },
  {
   "cell_type": "code",
   "execution_count": 486,
   "metadata": {},
   "outputs": [],
   "source": [
    "pred_vc =vc.fit(scaled_train, ytrain).predict(xtest) "
   ]
  },
  {
   "cell_type": "code",
   "execution_count": 487,
   "metadata": {},
   "outputs": [
    {
     "name": "stdout",
     "output_type": "stream",
     "text": [
      "The accuracy score is 0.7922487607030194\n",
      "the kappa score is  0.5487197110631628\n",
      "the mcc is  0.5506801976200805\n"
     ]
    }
   ],
   "source": [
    "print(\"The accuracy score is\", accuracy_score(ytest, pred_vc))\n",
    "print(\"the kappa score is \", cohen_kappa_score(ytest, pred_vc))\n",
    "print(\"the mcc is \", matthews_corrcoef(ytest, pred_vc))"
   ]
  },
  {
   "cell_type": "markdown",
   "metadata": {},
   "source": [
    "## Boosting "
   ]
  },
  {
   "cell_type": "code",
   "execution_count": 488,
   "metadata": {},
   "outputs": [],
   "source": [
    "from sklearn.ensemble import GradientBoostingClassifier\n",
    "gbm = GradientBoostingClassifier() # Need to tune "
   ]
  },
  {
   "cell_type": "code",
   "execution_count": 489,
   "metadata": {},
   "outputs": [],
   "source": [
    "pred_gbm = gbm.fit(scaled_train, ytrain).predict(xtest) "
   ]
  },
  {
   "cell_type": "code",
   "execution_count": 490,
   "metadata": {},
   "outputs": [
    {
     "name": "stdout",
     "output_type": "stream",
     "text": [
      "The accuracy score is 0.7408742676881478\n",
      "the kappa score is  0.39950536288292016\n",
      "the mcc is  0.40900887558420745\n"
     ]
    }
   ],
   "source": [
    "print(\"The accuracy score is\", accuracy_score(ytest, pred_gbm))\n",
    "print(\"the kappa score is \", cohen_kappa_score(ytest, pred_gbm))\n",
    "print(\"the mcc is \", matthews_corrcoef(ytest, pred_gbm))"
   ]
  },
  {
   "cell_type": "code",
   "execution_count": 491,
   "metadata": {},
   "outputs": [],
   "source": [
    "#now apply voting \n",
    "from sklearn.ensemble import VotingClassifier\n",
    "vc = VotingClassifier(estimators=[(\"KNN\", knn), (\"Tree\", dtree),\n",
    "                                  (\"Random\", rf),(\"GBM\",gbm)]) "
   ]
  },
  {
   "cell_type": "code",
   "execution_count": 492,
   "metadata": {},
   "outputs": [],
   "source": [
    "pred_vc =vc.fit(scaled_train, ytrain).predict(xtest) "
   ]
  },
  {
   "cell_type": "code",
   "execution_count": 493,
   "metadata": {},
   "outputs": [
    {
     "name": "stdout",
     "output_type": "stream",
     "text": [
      "The accuracy score is 0.7742226228030644\n",
      "the kappa score is  0.45906753146910995\n",
      "the mcc is  0.4801987325108809\n"
     ]
    }
   ],
   "source": [
    "print(\"The accuracy score is\", accuracy_score(ytest, pred_vc))\n",
    "print(\"the kappa score is \", cohen_kappa_score(ytest, pred_vc))\n",
    "print(\"the mcc is \", matthews_corrcoef(ytest, pred_vc))"
   ]
  },
  {
   "cell_type": "code",
   "execution_count": 494,
   "metadata": {},
   "outputs": [],
   "source": [
    "#Cross Validation \n",
    "from sklearn.model_selection import cross_val_score"
   ]
  },
  {
   "cell_type": "code",
   "execution_count": 495,
   "metadata": {},
   "outputs": [
    {
     "name": "stderr",
     "output_type": "stream",
     "text": [
      "C:\\Users\\SAAD KHAN\\Anaconda3\\lib\\site-packages\\sklearn\\model_selection\\_split.py:657: Warning: The least populated class in y has only 3 members, which is too few. The minimum number of members in any class cannot be less than n_splits=5.\n",
      "  % (min_groups, self.n_splits)), Warning)\n"
     ]
    },
    {
     "data": {
      "text/plain": [
       "0.7341943565405687"
      ]
     },
     "execution_count": 495,
     "metadata": {},
     "output_type": "execute_result"
    }
   ],
   "source": [
    "cross_val_score(estimator=gbm, X=scaled_train, y=ytrain, cv=5).mean()"
   ]
  },
  {
   "cell_type": "markdown",
   "metadata": {},
   "source": [
    " "
   ]
  },
  {
   "cell_type": "code",
   "execution_count": 496,
   "metadata": {},
   "outputs": [],
   "source": [
    "#Adaboost \n",
    "from sklearn.ensemble import AdaBoostClassifier\n",
    "ada = AdaBoostClassifier() "
   ]
  },
  {
   "cell_type": "code",
   "execution_count": 497,
   "metadata": {},
   "outputs": [],
   "source": [
    "pred_ada = ada.fit(scaled_train, ytrain).predict(xtest) "
   ]
  },
  {
   "cell_type": "code",
   "execution_count": 498,
   "metadata": {},
   "outputs": [
    {
     "name": "stdout",
     "output_type": "stream",
     "text": [
      "The accuracy score is 0.6435331230283912\n",
      "the kappa score is  0.28871778018127836\n",
      "the mcc is  0.2942942708295557\n"
     ]
    }
   ],
   "source": [
    "print(\"The accuracy score is\", accuracy_score(ytest, pred_ada))\n",
    "print(\"the kappa score is \", cohen_kappa_score(ytest, pred_ada))\n",
    "print(\"the mcc is \", matthews_corrcoef(ytest, pred_ada))"
   ]
  },
  {
   "cell_type": "code",
   "execution_count": 499,
   "metadata": {},
   "outputs": [],
   "source": [
    "#Bagging classifier \n",
    "from sklearn.ensemble import BaggingClassifier\n",
    "bagg = BaggingClassifier(base_estimator=dtree)"
   ]
  },
  {
   "cell_type": "code",
   "execution_count": 500,
   "metadata": {},
   "outputs": [],
   "source": [
    "pred_bagg = bagg.fit(scaled_train, ytrain).predict(xtest)"
   ]
  },
  {
   "cell_type": "code",
   "execution_count": 501,
   "metadata": {},
   "outputs": [
    {
     "name": "stdout",
     "output_type": "stream",
     "text": [
      "The accuracy score is 0.7999098693105002\n",
      "the kappa score is  0.559297030194565\n",
      "the mcc is  0.5626500468704427\n"
     ]
    }
   ],
   "source": [
    "print(\"The accuracy score is\", accuracy_score(ytest, pred_bagg))\n",
    "print(\"the kappa score is \", cohen_kappa_score(ytest, pred_bagg))\n",
    "print(\"the mcc is \", matthews_corrcoef(ytest, pred_bagg))"
   ]
  },
  {
   "cell_type": "markdown",
   "metadata": {},
   "source": [
    "# Final submission on website"
   ]
  },
  {
   "cell_type": "code",
   "execution_count": 529,
   "metadata": {},
   "outputs": [
    {
     "data": {
      "text/html": [
       "<div>\n",
       "<style scoped>\n",
       "    .dataframe tbody tr th:only-of-type {\n",
       "        vertical-align: middle;\n",
       "    }\n",
       "\n",
       "    .dataframe tbody tr th {\n",
       "        vertical-align: top;\n",
       "    }\n",
       "\n",
       "    .dataframe thead th {\n",
       "        text-align: right;\n",
       "    }\n",
       "</style>\n",
       "<table border=\"1\" class=\"dataframe\">\n",
       "  <thead>\n",
       "    <tr style=\"text-align: right;\">\n",
       "      <th></th>\n",
       "      <th>Rating</th>\n",
       "      <th>Votes</th>\n",
       "      <th>Reviews</th>\n",
       "      <th>Average_Cleansed</th>\n",
       "      <th>Rest_count</th>\n",
       "      <th>Delivery_TimeCoded</th>\n",
       "      <th>MinOrder_Cleansed_0</th>\n",
       "      <th>MinOrder_Cleansed_150</th>\n",
       "      <th>MinOrder_Cleansed_199</th>\n",
       "      <th>MinOrder_Cleansed_200</th>\n",
       "      <th>...</th>\n",
       "      <th>Cuisines_Cleansed_Fast Food</th>\n",
       "      <th>Cuisines_Cleansed_maincourse</th>\n",
       "      <th>Rating_Category_Average</th>\n",
       "      <th>Rating_Category_Excellent</th>\n",
       "      <th>Rating_Category_Good</th>\n",
       "      <th>Rating_Category_Poor</th>\n",
       "      <th>Rating_Category_Very Good</th>\n",
       "      <th>Rest_Category_Chain</th>\n",
       "      <th>Rest_Category_Multiple Outlets</th>\n",
       "      <th>Rest_Category_Single Outlets</th>\n",
       "    </tr>\n",
       "  </thead>\n",
       "  <tbody>\n",
       "    <tr>\n",
       "      <th>0</th>\n",
       "      <td>3.5</td>\n",
       "      <td>12.0</td>\n",
       "      <td>4.0</td>\n",
       "      <td>200</td>\n",
       "      <td>1</td>\n",
       "      <td>3</td>\n",
       "      <td>0</td>\n",
       "      <td>0</td>\n",
       "      <td>0</td>\n",
       "      <td>0</td>\n",
       "      <td>...</td>\n",
       "      <td>1</td>\n",
       "      <td>0</td>\n",
       "      <td>0</td>\n",
       "      <td>0</td>\n",
       "      <td>1</td>\n",
       "      <td>0</td>\n",
       "      <td>0</td>\n",
       "      <td>0</td>\n",
       "      <td>0</td>\n",
       "      <td>1</td>\n",
       "    </tr>\n",
       "    <tr>\n",
       "      <th>1</th>\n",
       "      <td>3.5</td>\n",
       "      <td>11.0</td>\n",
       "      <td>4.0</td>\n",
       "      <td>100</td>\n",
       "      <td>6</td>\n",
       "      <td>3</td>\n",
       "      <td>0</td>\n",
       "      <td>0</td>\n",
       "      <td>0</td>\n",
       "      <td>0</td>\n",
       "      <td>...</td>\n",
       "      <td>0</td>\n",
       "      <td>0</td>\n",
       "      <td>0</td>\n",
       "      <td>0</td>\n",
       "      <td>1</td>\n",
       "      <td>0</td>\n",
       "      <td>0</td>\n",
       "      <td>1</td>\n",
       "      <td>0</td>\n",
       "      <td>0</td>\n",
       "    </tr>\n",
       "    <tr>\n",
       "      <th>2</th>\n",
       "      <td>3.6</td>\n",
       "      <td>99.0</td>\n",
       "      <td>30.0</td>\n",
       "      <td>150</td>\n",
       "      <td>3</td>\n",
       "      <td>5</td>\n",
       "      <td>0</td>\n",
       "      <td>0</td>\n",
       "      <td>0</td>\n",
       "      <td>0</td>\n",
       "      <td>...</td>\n",
       "      <td>0</td>\n",
       "      <td>1</td>\n",
       "      <td>0</td>\n",
       "      <td>0</td>\n",
       "      <td>1</td>\n",
       "      <td>0</td>\n",
       "      <td>0</td>\n",
       "      <td>0</td>\n",
       "      <td>1</td>\n",
       "      <td>0</td>\n",
       "    </tr>\n",
       "    <tr>\n",
       "      <th>3</th>\n",
       "      <td>3.7</td>\n",
       "      <td>176.0</td>\n",
       "      <td>95.0</td>\n",
       "      <td>250</td>\n",
       "      <td>2</td>\n",
       "      <td>3</td>\n",
       "      <td>0</td>\n",
       "      <td>0</td>\n",
       "      <td>0</td>\n",
       "      <td>0</td>\n",
       "      <td>...</td>\n",
       "      <td>0</td>\n",
       "      <td>1</td>\n",
       "      <td>0</td>\n",
       "      <td>0</td>\n",
       "      <td>1</td>\n",
       "      <td>0</td>\n",
       "      <td>0</td>\n",
       "      <td>0</td>\n",
       "      <td>1</td>\n",
       "      <td>0</td>\n",
       "    </tr>\n",
       "    <tr>\n",
       "      <th>4</th>\n",
       "      <td>3.2</td>\n",
       "      <td>521.0</td>\n",
       "      <td>235.0</td>\n",
       "      <td>200</td>\n",
       "      <td>1</td>\n",
       "      <td>5</td>\n",
       "      <td>0</td>\n",
       "      <td>0</td>\n",
       "      <td>0</td>\n",
       "      <td>0</td>\n",
       "      <td>...</td>\n",
       "      <td>1</td>\n",
       "      <td>0</td>\n",
       "      <td>1</td>\n",
       "      <td>0</td>\n",
       "      <td>0</td>\n",
       "      <td>0</td>\n",
       "      <td>0</td>\n",
       "      <td>0</td>\n",
       "      <td>0</td>\n",
       "      <td>1</td>\n",
       "    </tr>\n",
       "  </tbody>\n",
       "</table>\n",
       "<p>5 rows × 44 columns</p>\n",
       "</div>"
      ],
      "text/plain": [
       "   Rating  Votes  Reviews  Average_Cleansed  Rest_count  Delivery_TimeCoded  \\\n",
       "0     3.5   12.0      4.0               200           1                   3   \n",
       "1     3.5   11.0      4.0               100           6                   3   \n",
       "2     3.6   99.0     30.0               150           3                   5   \n",
       "3     3.7  176.0     95.0               250           2                   3   \n",
       "4     3.2  521.0    235.0               200           1                   5   \n",
       "\n",
       "   MinOrder_Cleansed_0  MinOrder_Cleansed_150  MinOrder_Cleansed_199  \\\n",
       "0                    0                      0                      0   \n",
       "1                    0                      0                      0   \n",
       "2                    0                      0                      0   \n",
       "3                    0                      0                      0   \n",
       "4                    0                      0                      0   \n",
       "\n",
       "   MinOrder_Cleansed_200  ...  Cuisines_Cleansed_Fast Food  \\\n",
       "0                      0  ...                            1   \n",
       "1                      0  ...                            0   \n",
       "2                      0  ...                            0   \n",
       "3                      0  ...                            0   \n",
       "4                      0  ...                            1   \n",
       "\n",
       "   Cuisines_Cleansed_maincourse  Rating_Category_Average  \\\n",
       "0                             0                        0   \n",
       "1                             0                        0   \n",
       "2                             1                        0   \n",
       "3                             1                        0   \n",
       "4                             0                        1   \n",
       "\n",
       "   Rating_Category_Excellent  Rating_Category_Good  Rating_Category_Poor  \\\n",
       "0                          0                     1                     0   \n",
       "1                          0                     1                     0   \n",
       "2                          0                     1                     0   \n",
       "3                          0                     1                     0   \n",
       "4                          0                     0                     0   \n",
       "\n",
       "   Rating_Category_Very Good  Rest_Category_Chain  \\\n",
       "0                          0                    0   \n",
       "1                          0                    1   \n",
       "2                          0                    0   \n",
       "3                          0                    0   \n",
       "4                          0                    0   \n",
       "\n",
       "   Rest_Category_Multiple Outlets  Rest_Category_Single Outlets  \n",
       "0                               0                             1  \n",
       "1                               0                             0  \n",
       "2                               1                             0  \n",
       "3                               1                             0  \n",
       "4                               0                             1  \n",
       "\n",
       "[5 rows x 44 columns]"
      ]
     },
     "execution_count": 529,
     "metadata": {},
     "output_type": "execute_result"
    }
   ],
   "source": [
    "dummytrain.head()"
   ]
  },
  {
   "cell_type": "code",
   "execution_count": 530,
   "metadata": {},
   "outputs": [
    {
     "data": {
      "text/html": [
       "<div>\n",
       "<style scoped>\n",
       "    .dataframe tbody tr th:only-of-type {\n",
       "        vertical-align: middle;\n",
       "    }\n",
       "\n",
       "    .dataframe tbody tr th {\n",
       "        vertical-align: top;\n",
       "    }\n",
       "\n",
       "    .dataframe thead th {\n",
       "        text-align: right;\n",
       "    }\n",
       "</style>\n",
       "<table border=\"1\" class=\"dataframe\">\n",
       "  <thead>\n",
       "    <tr style=\"text-align: right;\">\n",
       "      <th></th>\n",
       "      <th>Rating</th>\n",
       "      <th>Votes</th>\n",
       "      <th>Reviews</th>\n",
       "      <th>MinOrder_Cleansed</th>\n",
       "      <th>Average_Cleansed</th>\n",
       "      <th>Location_Cleansed</th>\n",
       "      <th>Cuisines_Cleansed</th>\n",
       "      <th>Rating_Category</th>\n",
       "      <th>Rest_count</th>\n",
       "      <th>Rest_Category</th>\n",
       "    </tr>\n",
       "  </thead>\n",
       "  <tbody>\n",
       "    <tr>\n",
       "      <th>11094</th>\n",
       "      <td>4.2</td>\n",
       "      <td>361.0</td>\n",
       "      <td>225.0</td>\n",
       "      <td>50</td>\n",
       "      <td>350</td>\n",
       "      <td>Bangalore</td>\n",
       "      <td>maincourse</td>\n",
       "      <td>Very Good</td>\n",
       "      <td>1</td>\n",
       "      <td>Single Outlets</td>\n",
       "    </tr>\n",
       "    <tr>\n",
       "      <th>11095</th>\n",
       "      <td>3.6</td>\n",
       "      <td>63.0</td>\n",
       "      <td>26.0</td>\n",
       "      <td>50</td>\n",
       "      <td>100</td>\n",
       "      <td>Bangalore</td>\n",
       "      <td>maincourse</td>\n",
       "      <td>Good</td>\n",
       "      <td>1</td>\n",
       "      <td>Single Outlets</td>\n",
       "    </tr>\n",
       "    <tr>\n",
       "      <th>11096</th>\n",
       "      <td>3.6</td>\n",
       "      <td>36.0</td>\n",
       "      <td>16.0</td>\n",
       "      <td>50</td>\n",
       "      <td>100</td>\n",
       "      <td>Noida</td>\n",
       "      <td>Fast Food</td>\n",
       "      <td>Good</td>\n",
       "      <td>2</td>\n",
       "      <td>Multiple Outlets</td>\n",
       "    </tr>\n",
       "    <tr>\n",
       "      <th>11097</th>\n",
       "      <td>3.6</td>\n",
       "      <td>66.0</td>\n",
       "      <td>33.0</td>\n",
       "      <td>50</td>\n",
       "      <td>200</td>\n",
       "      <td>Delhi</td>\n",
       "      <td>Deserts</td>\n",
       "      <td>Good</td>\n",
       "      <td>1</td>\n",
       "      <td>Single Outlets</td>\n",
       "    </tr>\n",
       "    <tr>\n",
       "      <th>11098</th>\n",
       "      <td>2.9</td>\n",
       "      <td>38.0</td>\n",
       "      <td>14.0</td>\n",
       "      <td>50</td>\n",
       "      <td>150</td>\n",
       "      <td>Noida</td>\n",
       "      <td>maincourse</td>\n",
       "      <td>Poor</td>\n",
       "      <td>2</td>\n",
       "      <td>Multiple Outlets</td>\n",
       "    </tr>\n",
       "  </tbody>\n",
       "</table>\n",
       "</div>"
      ],
      "text/plain": [
       "       Rating  Votes  Reviews MinOrder_Cleansed  Average_Cleansed  \\\n",
       "11094     4.2  361.0    225.0                50               350   \n",
       "11095     3.6   63.0     26.0                50               100   \n",
       "11096     3.6   36.0     16.0                50               100   \n",
       "11097     3.6   66.0     33.0                50               200   \n",
       "11098     2.9   38.0     14.0                50               150   \n",
       "\n",
       "      Location_Cleansed Cuisines_Cleansed Rating_Category  Rest_count  \\\n",
       "11094         Bangalore        maincourse       Very Good           1   \n",
       "11095         Bangalore        maincourse            Good           1   \n",
       "11096             Noida         Fast Food            Good           2   \n",
       "11097             Delhi           Deserts            Good           1   \n",
       "11098             Noida        maincourse            Poor           2   \n",
       "\n",
       "          Rest_Category  \n",
       "11094    Single Outlets  \n",
       "11095    Single Outlets  \n",
       "11096  Multiple Outlets  \n",
       "11097    Single Outlets  \n",
       "11098  Multiple Outlets  "
      ]
     },
     "execution_count": 530,
     "metadata": {},
     "output_type": "execute_result"
    }
   ],
   "source": [
    "test_new.head()"
   ]
  },
  {
   "cell_type": "code",
   "execution_count": null,
   "metadata": {},
   "outputs": [],
   "source": []
  },
  {
   "cell_type": "code",
   "execution_count": 532,
   "metadata": {},
   "outputs": [],
   "source": [
    "dummytest= pd.get_dummies(test_new)"
   ]
  },
  {
   "cell_type": "code",
   "execution_count": 533,
   "metadata": {},
   "outputs": [
    {
     "name": "stdout",
     "output_type": "stream",
     "text": [
      "(11094, 44)\n",
      "(2774, 34)\n"
     ]
    }
   ],
   "source": [
    "print(dummytrain.shape)\n",
    "print(dummytest.shape)"
   ]
  },
  {
   "cell_type": "code",
   "execution_count": 527,
   "metadata": {},
   "outputs": [
    {
     "data": {
      "text/html": [
       "<div>\n",
       "<style scoped>\n",
       "    .dataframe tbody tr th:only-of-type {\n",
       "        vertical-align: middle;\n",
       "    }\n",
       "\n",
       "    .dataframe tbody tr th {\n",
       "        vertical-align: top;\n",
       "    }\n",
       "\n",
       "    .dataframe thead th {\n",
       "        text-align: right;\n",
       "    }\n",
       "</style>\n",
       "<table border=\"1\" class=\"dataframe\">\n",
       "  <thead>\n",
       "    <tr style=\"text-align: right;\">\n",
       "      <th></th>\n",
       "      <th>Rating</th>\n",
       "      <th>Votes</th>\n",
       "      <th>Reviews</th>\n",
       "      <th>Average_Cleansed</th>\n",
       "      <th>Rest_count</th>\n",
       "      <th>Delivery_TimeCoded</th>\n",
       "      <th>MinOrder_Cleansed_0</th>\n",
       "      <th>MinOrder_Cleansed_150</th>\n",
       "      <th>MinOrder_Cleansed_199</th>\n",
       "      <th>MinOrder_Cleansed_200</th>\n",
       "      <th>...</th>\n",
       "      <th>Cuisines_Cleansed_Fast Food</th>\n",
       "      <th>Cuisines_Cleansed_maincourse</th>\n",
       "      <th>Rating_Category_Average</th>\n",
       "      <th>Rating_Category_Excellent</th>\n",
       "      <th>Rating_Category_Good</th>\n",
       "      <th>Rating_Category_Poor</th>\n",
       "      <th>Rating_Category_Very Good</th>\n",
       "      <th>Rest_Category_Chain</th>\n",
       "      <th>Rest_Category_Multiple Outlets</th>\n",
       "      <th>Rest_Category_Single Outlets</th>\n",
       "    </tr>\n",
       "  </thead>\n",
       "  <tbody>\n",
       "    <tr>\n",
       "      <th>0</th>\n",
       "      <td>3.5</td>\n",
       "      <td>12.0</td>\n",
       "      <td>4.0</td>\n",
       "      <td>200</td>\n",
       "      <td>1</td>\n",
       "      <td>3</td>\n",
       "      <td>0</td>\n",
       "      <td>0</td>\n",
       "      <td>0</td>\n",
       "      <td>0</td>\n",
       "      <td>...</td>\n",
       "      <td>1</td>\n",
       "      <td>0</td>\n",
       "      <td>0</td>\n",
       "      <td>0</td>\n",
       "      <td>1</td>\n",
       "      <td>0</td>\n",
       "      <td>0</td>\n",
       "      <td>0</td>\n",
       "      <td>0</td>\n",
       "      <td>1</td>\n",
       "    </tr>\n",
       "    <tr>\n",
       "      <th>1</th>\n",
       "      <td>3.5</td>\n",
       "      <td>11.0</td>\n",
       "      <td>4.0</td>\n",
       "      <td>100</td>\n",
       "      <td>6</td>\n",
       "      <td>3</td>\n",
       "      <td>0</td>\n",
       "      <td>0</td>\n",
       "      <td>0</td>\n",
       "      <td>0</td>\n",
       "      <td>...</td>\n",
       "      <td>0</td>\n",
       "      <td>0</td>\n",
       "      <td>0</td>\n",
       "      <td>0</td>\n",
       "      <td>1</td>\n",
       "      <td>0</td>\n",
       "      <td>0</td>\n",
       "      <td>1</td>\n",
       "      <td>0</td>\n",
       "      <td>0</td>\n",
       "    </tr>\n",
       "    <tr>\n",
       "      <th>2</th>\n",
       "      <td>3.6</td>\n",
       "      <td>99.0</td>\n",
       "      <td>30.0</td>\n",
       "      <td>150</td>\n",
       "      <td>3</td>\n",
       "      <td>5</td>\n",
       "      <td>0</td>\n",
       "      <td>0</td>\n",
       "      <td>0</td>\n",
       "      <td>0</td>\n",
       "      <td>...</td>\n",
       "      <td>0</td>\n",
       "      <td>1</td>\n",
       "      <td>0</td>\n",
       "      <td>0</td>\n",
       "      <td>1</td>\n",
       "      <td>0</td>\n",
       "      <td>0</td>\n",
       "      <td>0</td>\n",
       "      <td>1</td>\n",
       "      <td>0</td>\n",
       "    </tr>\n",
       "    <tr>\n",
       "      <th>3</th>\n",
       "      <td>3.7</td>\n",
       "      <td>176.0</td>\n",
       "      <td>95.0</td>\n",
       "      <td>250</td>\n",
       "      <td>2</td>\n",
       "      <td>3</td>\n",
       "      <td>0</td>\n",
       "      <td>0</td>\n",
       "      <td>0</td>\n",
       "      <td>0</td>\n",
       "      <td>...</td>\n",
       "      <td>0</td>\n",
       "      <td>1</td>\n",
       "      <td>0</td>\n",
       "      <td>0</td>\n",
       "      <td>1</td>\n",
       "      <td>0</td>\n",
       "      <td>0</td>\n",
       "      <td>0</td>\n",
       "      <td>1</td>\n",
       "      <td>0</td>\n",
       "    </tr>\n",
       "    <tr>\n",
       "      <th>4</th>\n",
       "      <td>3.2</td>\n",
       "      <td>521.0</td>\n",
       "      <td>235.0</td>\n",
       "      <td>200</td>\n",
       "      <td>1</td>\n",
       "      <td>5</td>\n",
       "      <td>0</td>\n",
       "      <td>0</td>\n",
       "      <td>0</td>\n",
       "      <td>0</td>\n",
       "      <td>...</td>\n",
       "      <td>1</td>\n",
       "      <td>0</td>\n",
       "      <td>1</td>\n",
       "      <td>0</td>\n",
       "      <td>0</td>\n",
       "      <td>0</td>\n",
       "      <td>0</td>\n",
       "      <td>0</td>\n",
       "      <td>0</td>\n",
       "      <td>1</td>\n",
       "    </tr>\n",
       "  </tbody>\n",
       "</table>\n",
       "<p>5 rows × 44 columns</p>\n",
       "</div>"
      ],
      "text/plain": [
       "   Rating  Votes  Reviews  Average_Cleansed  Rest_count  Delivery_TimeCoded  \\\n",
       "0     3.5   12.0      4.0               200           1                   3   \n",
       "1     3.5   11.0      4.0               100           6                   3   \n",
       "2     3.6   99.0     30.0               150           3                   5   \n",
       "3     3.7  176.0     95.0               250           2                   3   \n",
       "4     3.2  521.0    235.0               200           1                   5   \n",
       "\n",
       "   MinOrder_Cleansed_0  MinOrder_Cleansed_150  MinOrder_Cleansed_199  \\\n",
       "0                    0                      0                      0   \n",
       "1                    0                      0                      0   \n",
       "2                    0                      0                      0   \n",
       "3                    0                      0                      0   \n",
       "4                    0                      0                      0   \n",
       "\n",
       "   MinOrder_Cleansed_200  ...  Cuisines_Cleansed_Fast Food  \\\n",
       "0                      0  ...                            1   \n",
       "1                      0  ...                            0   \n",
       "2                      0  ...                            0   \n",
       "3                      0  ...                            0   \n",
       "4                      0  ...                            1   \n",
       "\n",
       "   Cuisines_Cleansed_maincourse  Rating_Category_Average  \\\n",
       "0                             0                        0   \n",
       "1                             0                        0   \n",
       "2                             1                        0   \n",
       "3                             1                        0   \n",
       "4                             0                        1   \n",
       "\n",
       "   Rating_Category_Excellent  Rating_Category_Good  Rating_Category_Poor  \\\n",
       "0                          0                     1                     0   \n",
       "1                          0                     1                     0   \n",
       "2                          0                     1                     0   \n",
       "3                          0                     1                     0   \n",
       "4                          0                     0                     0   \n",
       "\n",
       "   Rating_Category_Very Good  Rest_Category_Chain  \\\n",
       "0                          0                    0   \n",
       "1                          0                    1   \n",
       "2                          0                    0   \n",
       "3                          0                    0   \n",
       "4                          0                    0   \n",
       "\n",
       "   Rest_Category_Multiple Outlets  Rest_Category_Single Outlets  \n",
       "0                               0                             1  \n",
       "1                               0                             0  \n",
       "2                               1                             0  \n",
       "3                               1                             0  \n",
       "4                               0                             1  \n",
       "\n",
       "[5 rows x 44 columns]"
      ]
     },
     "execution_count": 527,
     "metadata": {},
     "output_type": "execute_result"
    }
   ],
   "source": [
    "dummytrain.head()"
   ]
  },
  {
   "cell_type": "code",
   "execution_count": 528,
   "metadata": {},
   "outputs": [
    {
     "data": {
      "text/html": [
       "<div>\n",
       "<style scoped>\n",
       "    .dataframe tbody tr th:only-of-type {\n",
       "        vertical-align: middle;\n",
       "    }\n",
       "\n",
       "    .dataframe tbody tr th {\n",
       "        vertical-align: top;\n",
       "    }\n",
       "\n",
       "    .dataframe thead th {\n",
       "        text-align: right;\n",
       "    }\n",
       "</style>\n",
       "<table border=\"1\" class=\"dataframe\">\n",
       "  <thead>\n",
       "    <tr style=\"text-align: right;\">\n",
       "      <th></th>\n",
       "      <th>Rating</th>\n",
       "      <th>Votes</th>\n",
       "      <th>Reviews</th>\n",
       "      <th>Average_Cleansed</th>\n",
       "      <th>Rest_count</th>\n",
       "      <th>MinOrder_Cleansed_0</th>\n",
       "      <th>MinOrder_Cleansed_149</th>\n",
       "      <th>MinOrder_Cleansed_199</th>\n",
       "      <th>MinOrder_Cleansed_200</th>\n",
       "      <th>MinOrder_Cleansed_399</th>\n",
       "      <th>...</th>\n",
       "      <th>Cuisines_Cleansed_Fast Food</th>\n",
       "      <th>Cuisines_Cleansed_maincourse</th>\n",
       "      <th>Rating_Category_Average</th>\n",
       "      <th>Rating_Category_Excellent</th>\n",
       "      <th>Rating_Category_Good</th>\n",
       "      <th>Rating_Category_Poor</th>\n",
       "      <th>Rating_Category_Very Good</th>\n",
       "      <th>Rest_Category_Chain</th>\n",
       "      <th>Rest_Category_Multiple Outlets</th>\n",
       "      <th>Rest_Category_Single Outlets</th>\n",
       "    </tr>\n",
       "  </thead>\n",
       "  <tbody>\n",
       "    <tr>\n",
       "      <th>11094</th>\n",
       "      <td>4.2</td>\n",
       "      <td>361.0</td>\n",
       "      <td>225.0</td>\n",
       "      <td>350</td>\n",
       "      <td>1</td>\n",
       "      <td>0</td>\n",
       "      <td>0</td>\n",
       "      <td>0</td>\n",
       "      <td>0</td>\n",
       "      <td>0</td>\n",
       "      <td>...</td>\n",
       "      <td>0</td>\n",
       "      <td>1</td>\n",
       "      <td>0</td>\n",
       "      <td>0</td>\n",
       "      <td>0</td>\n",
       "      <td>0</td>\n",
       "      <td>1</td>\n",
       "      <td>0</td>\n",
       "      <td>0</td>\n",
       "      <td>1</td>\n",
       "    </tr>\n",
       "    <tr>\n",
       "      <th>11095</th>\n",
       "      <td>3.6</td>\n",
       "      <td>63.0</td>\n",
       "      <td>26.0</td>\n",
       "      <td>100</td>\n",
       "      <td>1</td>\n",
       "      <td>0</td>\n",
       "      <td>0</td>\n",
       "      <td>0</td>\n",
       "      <td>0</td>\n",
       "      <td>0</td>\n",
       "      <td>...</td>\n",
       "      <td>0</td>\n",
       "      <td>1</td>\n",
       "      <td>0</td>\n",
       "      <td>0</td>\n",
       "      <td>1</td>\n",
       "      <td>0</td>\n",
       "      <td>0</td>\n",
       "      <td>0</td>\n",
       "      <td>0</td>\n",
       "      <td>1</td>\n",
       "    </tr>\n",
       "    <tr>\n",
       "      <th>11096</th>\n",
       "      <td>3.6</td>\n",
       "      <td>36.0</td>\n",
       "      <td>16.0</td>\n",
       "      <td>100</td>\n",
       "      <td>2</td>\n",
       "      <td>0</td>\n",
       "      <td>0</td>\n",
       "      <td>0</td>\n",
       "      <td>0</td>\n",
       "      <td>0</td>\n",
       "      <td>...</td>\n",
       "      <td>1</td>\n",
       "      <td>0</td>\n",
       "      <td>0</td>\n",
       "      <td>0</td>\n",
       "      <td>1</td>\n",
       "      <td>0</td>\n",
       "      <td>0</td>\n",
       "      <td>0</td>\n",
       "      <td>1</td>\n",
       "      <td>0</td>\n",
       "    </tr>\n",
       "    <tr>\n",
       "      <th>11097</th>\n",
       "      <td>3.6</td>\n",
       "      <td>66.0</td>\n",
       "      <td>33.0</td>\n",
       "      <td>200</td>\n",
       "      <td>1</td>\n",
       "      <td>0</td>\n",
       "      <td>0</td>\n",
       "      <td>0</td>\n",
       "      <td>0</td>\n",
       "      <td>0</td>\n",
       "      <td>...</td>\n",
       "      <td>0</td>\n",
       "      <td>0</td>\n",
       "      <td>0</td>\n",
       "      <td>0</td>\n",
       "      <td>1</td>\n",
       "      <td>0</td>\n",
       "      <td>0</td>\n",
       "      <td>0</td>\n",
       "      <td>0</td>\n",
       "      <td>1</td>\n",
       "    </tr>\n",
       "    <tr>\n",
       "      <th>11098</th>\n",
       "      <td>2.9</td>\n",
       "      <td>38.0</td>\n",
       "      <td>14.0</td>\n",
       "      <td>150</td>\n",
       "      <td>2</td>\n",
       "      <td>0</td>\n",
       "      <td>0</td>\n",
       "      <td>0</td>\n",
       "      <td>0</td>\n",
       "      <td>0</td>\n",
       "      <td>...</td>\n",
       "      <td>0</td>\n",
       "      <td>1</td>\n",
       "      <td>0</td>\n",
       "      <td>0</td>\n",
       "      <td>0</td>\n",
       "      <td>1</td>\n",
       "      <td>0</td>\n",
       "      <td>0</td>\n",
       "      <td>1</td>\n",
       "      <td>0</td>\n",
       "    </tr>\n",
       "  </tbody>\n",
       "</table>\n",
       "<p>5 rows × 34 columns</p>\n",
       "</div>"
      ],
      "text/plain": [
       "       Rating  Votes  Reviews  Average_Cleansed  Rest_count  \\\n",
       "11094     4.2  361.0    225.0               350           1   \n",
       "11095     3.6   63.0     26.0               100           1   \n",
       "11096     3.6   36.0     16.0               100           2   \n",
       "11097     3.6   66.0     33.0               200           1   \n",
       "11098     2.9   38.0     14.0               150           2   \n",
       "\n",
       "       MinOrder_Cleansed_0  MinOrder_Cleansed_149  MinOrder_Cleansed_199  \\\n",
       "11094                    0                      0                      0   \n",
       "11095                    0                      0                      0   \n",
       "11096                    0                      0                      0   \n",
       "11097                    0                      0                      0   \n",
       "11098                    0                      0                      0   \n",
       "\n",
       "       MinOrder_Cleansed_200  MinOrder_Cleansed_399  ...  \\\n",
       "11094                      0                      0  ...   \n",
       "11095                      0                      0  ...   \n",
       "11096                      0                      0  ...   \n",
       "11097                      0                      0  ...   \n",
       "11098                      0                      0  ...   \n",
       "\n",
       "       Cuisines_Cleansed_Fast Food  Cuisines_Cleansed_maincourse  \\\n",
       "11094                            0                             1   \n",
       "11095                            0                             1   \n",
       "11096                            1                             0   \n",
       "11097                            0                             0   \n",
       "11098                            0                             1   \n",
       "\n",
       "       Rating_Category_Average  Rating_Category_Excellent  \\\n",
       "11094                        0                          0   \n",
       "11095                        0                          0   \n",
       "11096                        0                          0   \n",
       "11097                        0                          0   \n",
       "11098                        0                          0   \n",
       "\n",
       "       Rating_Category_Good  Rating_Category_Poor  Rating_Category_Very Good  \\\n",
       "11094                     0                     0                          1   \n",
       "11095                     1                     0                          0   \n",
       "11096                     1                     0                          0   \n",
       "11097                     1                     0                          0   \n",
       "11098                     0                     1                          0   \n",
       "\n",
       "       Rest_Category_Chain  Rest_Category_Multiple Outlets  \\\n",
       "11094                    0                               0   \n",
       "11095                    0                               0   \n",
       "11096                    0                               1   \n",
       "11097                    0                               0   \n",
       "11098                    0                               1   \n",
       "\n",
       "       Rest_Category_Single Outlets  \n",
       "11094                             1  \n",
       "11095                             1  \n",
       "11096                             0  \n",
       "11097                             1  \n",
       "11098                             0  \n",
       "\n",
       "[5 rows x 34 columns]"
      ]
     },
     "execution_count": 528,
     "metadata": {},
     "output_type": "execute_result"
    }
   ],
   "source": [
    "dummytest.head()"
   ]
  },
  {
   "cell_type": "code",
   "execution_count": 522,
   "metadata": {},
   "outputs": [],
   "source": [
    "#Saclling \n",
    "sc = StandardScaler() "
   ]
  },
  {
   "cell_type": "code",
   "execution_count": 524,
   "metadata": {},
   "outputs": [],
   "source": [
    "cols = dummytrain.columns[dummytrain.columns!='Delivery_TimeCoded'] "
   ]
  },
  {
   "cell_type": "code",
   "execution_count": 525,
   "metadata": {},
   "outputs": [],
   "source": [
    "train_scaled= pd.DataFrame(sc.fit_transform(dummytrain.drop(\"Delivery_TimeCoded\",axis=1)),columns=cols)"
   ]
  },
  {
   "cell_type": "code",
   "execution_count": 536,
   "metadata": {},
   "outputs": [
    {
     "ename": "ValueError",
     "evalue": "operands could not be broadcast together with shapes (2774,34) (43,) (2774,34) ",
     "output_type": "error",
     "traceback": [
      "\u001b[1;31m---------------------------------------------------------------------------\u001b[0m",
      "\u001b[1;31mValueError\u001b[0m                                Traceback (most recent call last)",
      "\u001b[1;32m<ipython-input-536-f5debe88f868>\u001b[0m in \u001b[0;36m<module>\u001b[1;34m\u001b[0m\n\u001b[1;32m----> 1\u001b[1;33m \u001b[0mtest_scaled\u001b[0m \u001b[1;33m=\u001b[0m \u001b[0mpd\u001b[0m\u001b[1;33m.\u001b[0m\u001b[0mDataFrame\u001b[0m\u001b[1;33m(\u001b[0m\u001b[0msc\u001b[0m\u001b[1;33m.\u001b[0m\u001b[0mtransform\u001b[0m\u001b[1;33m(\u001b[0m\u001b[0mdummytest\u001b[0m\u001b[1;33m)\u001b[0m\u001b[1;33m,\u001b[0m\u001b[0mcolumns\u001b[0m \u001b[1;33m=\u001b[0m \u001b[0mdummytest\u001b[0m\u001b[1;33m.\u001b[0m\u001b[0mcolumns\u001b[0m\u001b[1;33m)\u001b[0m\u001b[1;33m\u001b[0m\u001b[1;33m\u001b[0m\u001b[0m\n\u001b[0m",
      "\u001b[1;32m~\\Anaconda3\\lib\\site-packages\\sklearn\\preprocessing\\data.py\u001b[0m in \u001b[0;36mtransform\u001b[1;34m(self, X, copy)\u001b[0m\n\u001b[0;32m    767\u001b[0m         \u001b[1;32melse\u001b[0m\u001b[1;33m:\u001b[0m\u001b[1;33m\u001b[0m\u001b[1;33m\u001b[0m\u001b[0m\n\u001b[0;32m    768\u001b[0m             \u001b[1;32mif\u001b[0m \u001b[0mself\u001b[0m\u001b[1;33m.\u001b[0m\u001b[0mwith_mean\u001b[0m\u001b[1;33m:\u001b[0m\u001b[1;33m\u001b[0m\u001b[1;33m\u001b[0m\u001b[0m\n\u001b[1;32m--> 769\u001b[1;33m                 \u001b[0mX\u001b[0m \u001b[1;33m-=\u001b[0m \u001b[0mself\u001b[0m\u001b[1;33m.\u001b[0m\u001b[0mmean_\u001b[0m\u001b[1;33m\u001b[0m\u001b[1;33m\u001b[0m\u001b[0m\n\u001b[0m\u001b[0;32m    770\u001b[0m             \u001b[1;32mif\u001b[0m \u001b[0mself\u001b[0m\u001b[1;33m.\u001b[0m\u001b[0mwith_std\u001b[0m\u001b[1;33m:\u001b[0m\u001b[1;33m\u001b[0m\u001b[1;33m\u001b[0m\u001b[0m\n\u001b[0;32m    771\u001b[0m                 \u001b[0mX\u001b[0m \u001b[1;33m/=\u001b[0m \u001b[0mself\u001b[0m\u001b[1;33m.\u001b[0m\u001b[0mscale_\u001b[0m\u001b[1;33m\u001b[0m\u001b[1;33m\u001b[0m\u001b[0m\n",
      "\u001b[1;31mValueError\u001b[0m: operands could not be broadcast together with shapes (2774,34) (43,) (2774,34) "
     ]
    }
   ],
   "source": [
    "test_scaled = pd.DataFrame(sc.transform(dummytest),columns = dummytest.columns) "
   ]
  },
  {
   "cell_type": "markdown",
   "metadata": {},
   "source": [
    "1. the statistical model are high on bias because these model are not able to capture the pattern well and hence they are underperforming models.\n",
    "\n",
    "2. In order to remove the effect of non leaning for the ml algorithem we need to do a lot of transformation so that the data is as per the ml algo which can help in understanding the pattern well \n",
    "\n",
    "3. Having said that the linear and logistic regression are underfitting models because they run with lots of assumption about the data and hence are aka parametric tests. \n",
    "\n",
    "4. Ai model sun as Decision tree Random Forest and Ensemble are the Non parametric test in nature as they dont assume anything about the data and they try to capture the pattern well in comparison to linear and log Reg.\n",
    "\n",
    "5. Decision tree as a model is just the reverse of the linear reg and log reg model because as the latter is baised is nature the former usually overfit the model and eventually it return high accuracy/scorre on trainig set but is not able to perform on test set  and hence it is called Overfiting."
   ]
  },
  {
   "cell_type": "code",
   "execution_count": null,
   "metadata": {},
   "outputs": [],
   "source": [
    "    "
   ]
  }
 ],
 "metadata": {
  "kernelspec": {
   "display_name": "Python 3",
   "language": "python",
   "name": "python3"
  },
  "language_info": {
   "codemirror_mode": {
    "name": "ipython",
    "version": 3
   },
   "file_extension": ".py",
   "mimetype": "text/x-python",
   "name": "python",
   "nbconvert_exporter": "python",
   "pygments_lexer": "ipython3",
   "version": "3.7.3"
  }
 },
 "nbformat": 4,
 "nbformat_minor": 2
}
